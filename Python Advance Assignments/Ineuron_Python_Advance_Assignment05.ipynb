{
 "cells": [
  {
   "cell_type": "markdown",
   "metadata": {
    "id": "Rwc8NEHdx6g4"
   },
   "source": [
    "**Ineuron Python Advance Assignment 05**"
   ]
  },
  {
   "cell_type": "markdown",
   "metadata": {
    "id": "zf3_MUS2x6bu"
   },
   "source": [
    "Q1. What is the meaning of multiple inheritance?\n",
    "\n",
    "Answer: Multiple inheritance means that a subclass can inherit from two or more superclasses. "
   ]
  },
  {
   "cell_type": "code",
   "execution_count": 1,
   "metadata": {
    "colab": {
     "base_uri": "https://localhost:8080/"
    },
    "id": "o0lO6rQayOQu",
    "outputId": "f24ba7dc-0141-47d0-eeb4-8b31c93e9869"
   },
   "outputs": [
    {
     "name": "stdout",
     "output_type": "stream",
     "text": [
      "multi_task\n",
      "Name: Kavita\n"
     ]
    }
   ],
   "source": [
    "#multiple inheritence\n",
    "class Ineuron:\n",
    "    company_website = 'https://ineuron.ai/'\n",
    "    name = 'iNeuron'\n",
    " \n",
    "    def contact_details(self):\n",
    "        print('Contact us at ', self.company_website)\n",
    "\n",
    "class OS:\n",
    "    multi_task = True\n",
    "    os_name = 'Windows OS'\n",
    "    name = \"Kavita\"\n",
    "\n",
    "class windows(OS, Ineuron):\n",
    "    def __init__(self):\n",
    "        if self.multi_task is True:\n",
    "            print('multi_task')\n",
    "        print('Name: {}'.format(self.name))\n",
    " \n",
    "windows = windows() "
   ]
  },
  {
   "cell_type": "markdown",
   "metadata": {
    "id": "D6_DcRQzx6XN"
   },
   "source": [
    "\n",
    "Q2. What is the concept of delegation?\n",
    "\n",
    "Answer: \n",
    "Answer : Delegation is an object oriented technique (also called a design pattern). Let's say we have an object x and want to change the behaviour of just one of its methods. we can create a new class that provides a new implementation of the method we're interested in changing and delegates all other methods to the corresponding method of x.\n",
    "\n",
    "Delegation can be imlemented easily. For example, the following class implements a class that behaves like a file but converts all written data to uppercase:"
   ]
  },
  {
   "cell_type": "code",
   "execution_count": 3,
   "metadata": {
    "id": "R3pFbzarzzhX"
   },
   "outputs": [],
   "source": [
    "class UpperOut:\n",
    "  def __init__(self, outfile):\n",
    "    self.__outfile = outfile\n",
    "  def write(self, s):\n",
    "    self.__outfile.write(s.upper())\n",
    "  def __getattr__(self, name):\n",
    "    return getattr(self.__outfile, name)\n",
    "\n",
    "# Here the UpperOut class redefines the write() method to convert the argument string to uppercase before calling the underlying self.__outfile.write() method.\n",
    "# All other methods are delegated to the underlying self.__outfile object. The delegation is accomplished via the __getattr__ method."
   ]
  },
  {
   "cell_type": "markdown",
   "metadata": {
    "id": "6E0CJJv6z_Y5"
   },
   "source": [
    "Q3. What is the concept of composition?\n",
    "\n",
    "Answer: It is one of the fundamental concepts of Object-Oriented Programming. In this concept, we describe a class that references to one or more objects of other classes as an Instance variable. Here, by using the class name or by creating the object we can access the members of one class inside another class. It enables creating complex types by combining objects of different classes. It means that a class Composite can contain an object of another class Component. This type of relationship is known as Has-A Relation.\n",
    "\n",
    "class A :\n",
    "      # variables of class A\n",
    "      # methods of class A\n",
    "      ...\n",
    "      ...\n",
    "class B : \n",
    "      # by using \"obj\" we can access member's of class A.\n",
    "      obj = A()\n",
    "      # variables of class B\n",
    "      # methods of class B\n",
    "      ...\n",
    "      ..."
   ]
  },
  {
   "cell_type": "markdown",
   "metadata": {
    "id": "rxmbJtn_x6Sv"
   },
   "source": [
    "Q4. What are bound methods and how do we use them?\n",
    "\n",
    "Answer: A bound method is the one which is dependent on the instance of the class as the first argument. It passes the instance as the first argument which is used to access the variables and functions. In Python 3 and newer versions of python, all functions in the class are by default bound methods.\n"
   ]
  },
  {
   "cell_type": "markdown",
   "metadata": {
    "id": "gZtmDpFKx6RX"
   },
   "source": [
    "Q5. What is the purpose of pseudoprivate attributes?\n",
    "\n",
    "Answer: \n",
    "Pseudoprivate attributes are useful in larger frameworks or tools, both to avoid introducing new method names that might accidentally hide definitions elsewhere in the class tree and to reduce the chance of internal methods being replaced by names defined lower in the tree."
   ]
  },
  {
   "cell_type": "code",
   "execution_count": 3,
   "metadata": {
    "colab": {
     "base_uri": "https://localhost:8080/"
    },
    "id": "adrUfb6S-qwQ",
    "outputId": "ef5d0c79-408d-470d-8d04-8cc9593d502a"
   },
   "outputs": [
    {
     "name": "stdout",
     "output_type": "stream",
     "text": [
      "Kavita\n",
      "Kavita\n"
     ]
    }
   ],
   "source": [
    "class Info:\n",
    "    def __init__(self):\n",
    "        self.__name = 'Kavita'\n",
    "    def __say(self):\n",
    "        return self.__name\n",
    "a = Info()\n",
    "print(a._Info__name) \n",
    "print(a._Info__say()) "
   ]
  },
  {
   "cell_type": "code",
   "execution_count": null,
   "metadata": {},
   "outputs": [],
   "source": []
  }
 ],
 "metadata": {
  "colab": {
   "collapsed_sections": [],
   "name": "Ineuron_Python_Advance_Assignment05.ipynb",
   "provenance": []
  },
  "kernelspec": {
   "display_name": "Python 3 (ipykernel)",
   "language": "python",
   "name": "python3"
  },
  "language_info": {
   "codemirror_mode": {
    "name": "ipython",
    "version": 3
   },
   "file_extension": ".py",
   "mimetype": "text/x-python",
   "name": "python",
   "nbconvert_exporter": "python",
   "pygments_lexer": "ipython3",
   "version": "3.9.7"
  }
 },
 "nbformat": 4,
 "nbformat_minor": 1
}
