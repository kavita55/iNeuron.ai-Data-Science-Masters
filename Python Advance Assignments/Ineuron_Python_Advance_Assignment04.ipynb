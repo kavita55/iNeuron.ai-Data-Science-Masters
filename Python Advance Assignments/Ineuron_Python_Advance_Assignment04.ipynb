{
 "cells": [
  {
   "cell_type": "markdown",
   "metadata": {
    "id": "1RKdytZCizW6"
   },
   "source": [
    "**Ineuron Python Advance Assignment 04**"
   ]
  },
  {
   "cell_type": "markdown",
   "metadata": {
    "id": "EiycecSyizSs"
   },
   "source": [
    "Q1. Which two operator overloading methods can you use in your classes to support iteration?\n",
    "\n",
    "Answer: __init__, __str__ are two operator overloading methods can which can be used to support iteration."
   ]
  },
  {
   "cell_type": "markdown",
   "metadata": {
    "id": "mCA-YhuNizPu"
   },
   "source": [
    "\n",
    "Q2. In what contexts do the two operator overloading methods manage printing?\n",
    "\n",
    "Answer: They can mamnage priting or outputting values wuth return statements.\n",
    "\n",
    "In cases where the __str__() method is not defined, Python uses the __repr__() method to print the object, as well as to represent the object when str() is called on it."
   ]
  },
  {
   "cell_type": "markdown",
   "metadata": {
    "id": "Fi0cVTSEizNO"
   },
   "source": [
    "\n",
    "Q3. In a class, how do you intercept slice operations?\n",
    "\n",
    "Answer: Shown below-"
   ]
  },
  {
   "cell_type": "code",
   "execution_count": 1,
   "metadata": {
    "colab": {
     "base_uri": "https://localhost:8080/"
    },
    "id": "o86M7n5ppy1t",
    "outputId": "32c12cfc-81e7-4b09-d79c-d33bc464d65b"
   },
   "outputs": [
    {
     "name": "stdout",
     "output_type": "stream",
     "text": [
      "This is \n"
     ]
    }
   ],
   "source": [
    "sliced ='This is Python Language'.__getitem__(slice(0, 8, 1)) #using slice() and __getitem__ slicing can be achieved in class\n",
    "print(sliced)"
   ]
  },
  {
   "cell_type": "code",
   "execution_count": 3,
   "metadata": {
    "colab": {
     "base_uri": "https://localhost:8080/"
    },
    "id": "yOLFp9kipPkF",
    "outputId": "b587cdd1-2916-494d-f46e-d0c47ff1cc98"
   },
   "outputs": [
    {
     "name": "stdout",
     "output_type": "stream",
     "text": [
      "1\n",
      "(1, 2)\n",
      "(1, 2, 3)\n"
     ]
    }
   ],
   "source": [
    "#The class demo has the __getitem__ method, slicing is comma-separated. \n",
    "#Key prints the sliced object which is passed in class through variable a.\n",
    "\n",
    "class Demo:\n",
    "    def __getitem__(self, key):\n",
    "        # print a[1], a[1, 2],\n",
    "        # a[1, 2, 3]\n",
    "        print(key)\n",
    "        #return key\n",
    "\n",
    "a = Demo()\n",
    "a[1]\n",
    "a[1, 2]\n",
    "a[1, 2, 3]"
   ]
  },
  {
   "cell_type": "markdown",
   "metadata": {
    "id": "ZVU_6Y_QizLE"
   },
   "source": [
    "\n",
    "Q4. In a class, how do you capture in-place addition?\n",
    "\n",
    "Answer: Python provides the operator x += y to add two objects in-place by calculating the sum x + y and assigning the result to the first operands variable name x. We can set up the in-place addition behavior for our own class by overriding the magic “dunder” method __iadd__(self, other) in our class definition."
   ]
  },
  {
   "cell_type": "markdown",
   "metadata": {
    "id": "rVkCZL6NizIo"
   },
   "source": [
    "\n",
    "Q5. When is it appropriate to use operator overloading?\n",
    "\n",
    "Answer: The operator overloading in Python means provide extended meaning beyond their predefined operational meaning. Such as, we use the \"+\" operator for adding two integers as well as joining two strings or merging two lists. We can achieve this as the \"+\" operator is overloaded by the \"int\" class and \"str\" class. Hence when we have to extended meaning beyond their predefined operational meaning we can use operator overloading,"
   ]
  }
 ],
 "metadata": {
  "colab": {
   "name": "Ineuron_Python_Advance_Assignment04.ipynb",
   "provenance": []
  },
  "kernelspec": {
   "display_name": "Python 3 (ipykernel)",
   "language": "python",
   "name": "python3"
  },
  "language_info": {
   "codemirror_mode": {
    "name": "ipython",
    "version": 3
   },
   "file_extension": ".py",
   "mimetype": "text/x-python",
   "name": "python",
   "nbconvert_exporter": "python",
   "pygments_lexer": "ipython3",
   "version": "3.9.7"
  }
 },
 "nbformat": 4,
 "nbformat_minor": 1
}
