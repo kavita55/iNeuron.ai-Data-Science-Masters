{
 "cells": [
  {
   "cell_type": "markdown",
   "metadata": {
    "id": "c1NGjM6ZmwKr"
   },
   "source": [
    "**Ineuron Python Advance Assignment 15**"
   ]
  },
  {
   "cell_type": "markdown",
   "metadata": {
    "id": "p0li_XJGm3zu"
   },
   "source": [
    "Q1. What are the new features added in Python 3.8 version?\n",
    "\n",
    "Answer: \n",
    "Python 3.8 adds some new syntax to the language, a few minor changes to existing behavior, and mostly a bunch of speed improvements — maintaining the tradition from the earlier 3.7 release\n",
    "\n",
    "Example: PEP 572 (Assignment Expressions) – The walrus operator (:=)"
   ]
  },
  {
   "cell_type": "markdown",
   "metadata": {
    "id": "RcJdm2Cgm3xV"
   },
   "source": [
    "Q2. What is monkey patching in Python?\n",
    "\n",
    "Answer: In Python, the term monkey patch refers to dynamic (or run-time) modifications of a class or module. In Python, we can actually change the behavior of code at run-time."
   ]
  },
  {
   "cell_type": "code",
   "execution_count": null,
   "metadata": {
    "id": "IC2H9s2lodxt"
   },
   "outputs": [],
   "source": [
    "# save as monk.py and calll below \n",
    "class A:\n",
    "    def func(self):\n",
    "        print (\"func() is being called\")"
   ]
  },
  {
   "cell_type": "code",
   "execution_count": null,
   "metadata": {
    "id": "p6r1io8Oojfa"
   },
   "outputs": [],
   "source": [
    "def monkey_f(self):\n",
    "    print (\"monkey_f() is being called\")\n",
    "\n",
    "# replacing address of \"func\" with \"monkey_f\"\n",
    "monk.A.func = monkey_f\n",
    "obj = monk.A()\n",
    "\n",
    "# calling function \"func\" whose address got replaced with function \"monkey_f()\"\n",
    "obj.func()\n"
   ]
  },
  {
   "cell_type": "code",
   "execution_count": null,
   "metadata": {
    "id": "rVh0dXH4okoo"
   },
   "outputs": [],
   "source": [
    "# OUTPUT: monkey_f() is being called "
   ]
  },
  {
   "cell_type": "markdown",
   "metadata": {
    "id": "dUgB4Xstm3u0"
   },
   "source": [
    "\n",
    "Q3. What is the difference between a shallow copy and deep copy?\n",
    "\n",
    "Answer: A shallow copy constructs a new compound object and then (to the extent possible) inserts references into it to the objects found in the original. A deep copy constructs a new compound object and then, recursively, inserts copies into it of the objects found in the original."
   ]
  },
  {
   "cell_type": "markdown",
   "metadata": {
    "id": "C441Nkb_m3rj"
   },
   "source": [
    "Q4. What is the maximum possible length of an identifier?\n",
    "\n",
    "Answer: Identifiers can be a combination of letters, numbers, special symbols, etc. But it must not extend 31 characters. Hence, the maximum possible length of an identifier is 31"
   ]
  },
  {
   "cell_type": "markdown",
   "metadata": {
    "id": "xpvT3d-jm3oe"
   },
   "source": [
    "Q5. What is generator comprehension?\n",
    "\n",
    "Answer: A generator comprehension is a single-line specification for defining a generator in Python. \n",
    "\n"
   ]
  },
  {
   "cell_type": "code",
   "execution_count": 5,
   "metadata": {
    "colab": {
     "base_uri": "https://localhost:8080/"
    },
    "id": "Z2Z3QZyNpdhM",
    "outputId": "b7ee7696-674b-422d-d4a8-db45bdc600ca"
   },
   "outputs": [
    {
     "name": "stdout",
     "output_type": "stream",
     "text": [
      "<generator object <genexpr> at 0x7f834aa67250>\n"
     ]
    }
   ],
   "source": [
    "gen = (i**2 for i in range(100))\n",
    "print(gen)"
   ]
  },
  {
   "cell_type": "code",
   "execution_count": 6,
   "metadata": {
    "colab": {
     "base_uri": "https://localhost:8080/"
    },
    "id": "bS4hvby0mrgF",
    "outputId": "1960c1af-d4b3-4c83-83bb-ce10cc5015f9"
   },
   "outputs": [
    {
     "data": {
      "text/plain": [
       "328350"
      ]
     },
     "execution_count": 6,
     "metadata": {},
     "output_type": "execute_result"
    }
   ],
   "source": [
    "gen = (i**2 for i in range(100))\n",
    "sum(gen)"
   ]
  },
  {
   "cell_type": "code",
   "execution_count": 7,
   "metadata": {
    "colab": {
     "base_uri": "https://localhost:8080/"
    },
    "id": "H_W2TqlFpnor",
    "outputId": "8e7b3d19-f642-417c-9d20-7083011a4f9d"
   },
   "outputs": [
    {
     "data": {
      "text/plain": [
       "True"
      ]
     },
     "execution_count": 7,
     "metadata": {},
     "output_type": "execute_result"
    }
   ],
   "source": [
    "gen = (i for i in range(1, 11))\n",
    "5 in gen"
   ]
  }
 ],
 "metadata": {
  "colab": {
   "name": "Ineuron_Python_Advance_Assignment15.ipynb",
   "provenance": []
  },
  "kernelspec": {
   "display_name": "Python 3 (ipykernel)",
   "language": "python",
   "name": "python3"
  },
  "language_info": {
   "codemirror_mode": {
    "name": "ipython",
    "version": 3
   },
   "file_extension": ".py",
   "mimetype": "text/x-python",
   "name": "python",
   "nbconvert_exporter": "python",
   "pygments_lexer": "ipython3",
   "version": "3.9.7"
  }
 },
 "nbformat": 4,
 "nbformat_minor": 1
}
