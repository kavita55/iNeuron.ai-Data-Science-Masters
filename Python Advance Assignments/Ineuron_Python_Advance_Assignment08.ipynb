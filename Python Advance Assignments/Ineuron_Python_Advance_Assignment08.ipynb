{
 "cells": [
  {
   "cell_type": "markdown",
   "metadata": {
    "id": "7kuDXPG5aBah"
   },
   "source": [
    "**Ineuron Python Advance Assignment 08**"
   ]
  },
  {
   "cell_type": "markdown",
   "metadata": {
    "id": "41wGx8KbaBW3"
   },
   "source": [
    "Q1. What are the two latest user-defined exception constraints in Python 3.X?\n",
    "\n",
    "Answer: Python also provides an exception handling method with the help of try-except. Some of the standard exceptions which are most frequent include IndexError, ImportError, IOError, ZeroDivisionError, TypeError, and FileNotFoundError.\n"
   ]
  },
  {
   "cell_type": "markdown",
   "metadata": {
    "id": "InQmTGzeaBVX"
   },
   "source": [
    "\n",
    "Q2. How are class-based exceptions that have been raised matched to handlers?\n",
    "\n",
    "Answer: A class-based exception can either cancel the current context or allow for a resume. Exceptions are raised using the statement RAISE EXCEPTION and handled using CATCH in a TRY control structure. Class-based exceptions can be raised in any procedures and can be further propagated by any procedures.\n",
    "A common class based and user defined exception in a single program as shown in preious assignments can be division by zero."
   ]
  },
  {
   "cell_type": "markdown",
   "metadata": {
    "id": "0Qm0yYtcaBOA"
   },
   "source": [
    "\n",
    "Q3. Describe two methods for attaching context information to exception artefacts.\n",
    "\n",
    "Answer: IMPLICIT EXCEPTION CHAINING AND EXPLICIT EXCEPTION CHAINING can be done for attaching context information to exception artefacts.\n",
    "\n",
    "PEP proposes three standard attributes on exception instances: the __context__ attribute for implicitly chained exceptions, the __cause__ attribute for explicitly chained exceptions, and the __traceback__ attribute for the traceback. A new raise ... from statement sets the __cause__ attribute.\n",
    "An example to illustrate the __context__ attribute():\n",
    "\n"
   ]
  },
  {
   "cell_type": "code",
   "execution_count": 4,
   "metadata": {
    "id": "ih7QJ2rGcIu0"
   },
   "outputs": [],
   "source": [
    "#IMPLICIT EXCEPTION CHAINING\n",
    "def compute(a, b):\n",
    "    try:\n",
    "        a/b\n",
    "    except Exception as exc:\n",
    "        log(exc)\n",
    "\n",
    "def log(exc):\n",
    "    file = open('logfile.txt')  # oops, forgot the 'w'\n",
    "    print(file, exc)\n",
    "    file.close()"
   ]
  },
  {
   "cell_type": "code",
   "execution_count": null,
   "metadata": {
    "id": "m09u3XVAdoc2"
   },
   "outputs": [],
   "source": [
    "#expicit exception chaining\n",
    "'''If the call to open() raises an exception, the problem will be reported as a DatabaseError, \n",
    "with a __cause__ attribute that reveals the IOError as the original cause.'''\n",
    "class DatabaseError(Exception):\n",
    "    pass\n",
    "\n",
    "class FileDatabase(Database):\n",
    "    def __init__(self, filename):\n",
    "        try:\n",
    "            self.file = open(filename)\n",
    "        except IOError as exc:\n",
    "            raise DatabaseError('failed to open') from exc"
   ]
  },
  {
   "cell_type": "code",
   "execution_count": null,
   "metadata": {
    "id": "ehsyjzS3drqA"
   },
   "outputs": [],
   "source": [
    "#traceback attribute\n",
    "def do_logged(file, work):\n",
    "    try:\n",
    "        work()\n",
    "    except Exception, exc:\n",
    "        write_exception(file, exc)\n",
    "        raise exc\n",
    "\n",
    "from traceback import format_tb\n",
    "\n",
    "def write_exception(file, exc):\n",
    "    ...\n",
    "    type = exc.__class__\n",
    "    message = str(exc)\n",
    "    lines = format_tb(exc.__traceback__)\n",
    "    file.write(... type ... message ... lines ...)\n",
    "    ..."
   ]
  },
  {
   "cell_type": "markdown",
   "metadata": {
    "id": "9RGg8PPSaBHO"
   },
   "source": [
    "\n",
    "Q4. Describe two methods for specifying the text of an exception object&#39;s error message.\n",
    "\n",
    "Answer: try, except, else and finally in else and finally even in except we can add another try except blockto raise an exception that might still come. \n",
    "Basically, we can raise an excepion using the ecept block or using raise command. "
   ]
  },
  {
   "cell_type": "markdown",
   "metadata": {
    "id": "SNSNFjWNaA_U"
   },
   "source": [
    "\n",
    "Q5. Why do you no longer use string-based exceptions?\n",
    "\n",
    "Answer: Accordig to recent updates the standard exceptions are Python classes, and a few new standard exceptions have been added. The obsolete AccessError exception has been deleted. Because it is possible (although unlikely) that this change broke existing code, the Python interpreter can be invoked the command line option -X to disable this feature, and use string exceptions like before. This option is a temporary measure - eventually the string-based standard exceptions will be removed from the language altogether. It hasn't been decided whether user-defined string exceptions will be allowed in Python 2.0."
   ]
  }
 ],
 "metadata": {
  "colab": {
   "name": "Ineuron_Python_Advance_Assignment08.ipynb",
   "provenance": []
  },
  "kernelspec": {
   "display_name": "Python 3 (ipykernel)",
   "language": "python",
   "name": "python3"
  },
  "language_info": {
   "codemirror_mode": {
    "name": "ipython",
    "version": 3
   },
   "file_extension": ".py",
   "mimetype": "text/x-python",
   "name": "python",
   "nbconvert_exporter": "python",
   "pygments_lexer": "ipython3",
   "version": "3.9.7"
  }
 },
 "nbformat": 4,
 "nbformat_minor": 1
}
