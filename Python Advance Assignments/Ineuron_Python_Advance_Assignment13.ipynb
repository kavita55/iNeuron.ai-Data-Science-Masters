{
 "cells": [
  {
   "cell_type": "markdown",
   "metadata": {
    "id": "fpRVTDBcPx3S"
   },
   "source": [
    "**Ineuron Python Advance Assignment 13**"
   ]
  },
  {
   "cell_type": "markdown",
   "metadata": {
    "id": "6K8KMwuyPxyk"
   },
   "source": [
    "Q1. Can you create a programme or function that employs both positive and negative indexing? Is there any repercussion if you do so?\n",
    "\n",
    "Answers: Below is a basic program showing positive and negative indexing. NO. "
   ]
  },
  {
   "cell_type": "code",
   "execution_count": 2,
   "metadata": {
    "colab": {
     "base_uri": "https://localhost:8080/"
    },
    "id": "xEjh-ldASVLg",
    "outputId": "33448e05-26ba-4a93-eff8-0d600a4bb50c"
   },
   "outputs": [
    {
     "name": "stdout",
     "output_type": "stream",
     "text": [
      "T\n",
      "n\n"
     ]
    }
   ],
   "source": [
    "def indexing():\n",
    "\n",
    "    string = \"This is Python\"\n",
    "    print(string[0]) \n",
    "    print(string[-1])\n",
    "\n",
    "indexing()"
   ]
  },
  {
   "cell_type": "markdown",
   "metadata": {
    "id": "PhN-WpwZPxvG"
   },
   "source": [
    "\n",
    "Q2. What is the most effective way of starting with 1,000 elements in a Python list? Assume that all\n",
    "elements should be set to the same value.\n",
    "\n",
    "Answer: list comprehension and * operator are fastest followed by while and for loop for loop in list."
   ]
  },
  {
   "cell_type": "code",
   "execution_count": 17,
   "metadata": {
    "colab": {
     "base_uri": "https://localhost:8080/"
    },
    "id": "jvVOVOs5UWB_",
    "outputId": "5127249e-52da-4f35-c705-6f9c7bed948d"
   },
   "outputs": [
    {
     "name": "stdout",
     "output_type": "stream",
     "text": [
      "Average time taken by for loop: 0.005959053039550782\n",
      "Average time taken by while loop: 0.009247126579284668\n",
      "Average time taken by list comprehensions: 0.002219734191894531\n",
      "Average time taken by * operator: 0.00013606309890747072\n"
     ]
    }
   ],
   "source": [
    "# import time module to calculate times\n",
    "import time\n",
    "forLoopTime = []\n",
    "whileLoopTime = []\n",
    "listComprehensionTime = []\n",
    "starOperatorTime = []\n",
    "# repeat the process for 500 times and calculate average of times taken.\n",
    "for k in range(500):\n",
    "    # start time\n",
    "    start = time.time()\n",
    "    # declare empty list\n",
    "    a = []\n",
    "    # run a for loop for 10000 times\n",
    "    for i in range(10000):\n",
    "        a.append(0)\n",
    "    # stop time\n",
    "    stop = time.time()\n",
    "    forLoopTime.append(stop-start)\n",
    "    # start time\n",
    "    start = time.time()\n",
    "    # declare an empty list\n",
    "    a = []\n",
    "    i = 0\n",
    "    # run a for loop 10000 times\n",
    "    while(i<10000):\n",
    "        a.append(0)\n",
    "        i+= 1\n",
    "    stop = time.time()\n",
    "    whileLoopTime.append(stop-start)\n",
    "\n",
    "    start = time.time()\n",
    "    # list comprehension to initialize list\n",
    "    a = [0 for i in range(10000)]\n",
    "    stop = time.time()\n",
    "    listComprehensionTime.append(stop-start)\n",
    "\n",
    "    start = time.time()\n",
    "    # using the * operator\n",
    "    a = [0]*10000\n",
    "    stop = time.time()\n",
    "    starOperatorTime.append(stop-start)\n",
    "\n",
    "print(\"Average time taken by for loop: \" + str(sum(forLoopTime)/100))\n",
    "print(\"Average time taken by while loop: \" + str(sum(whileLoopTime)/100))\n",
    "print(\"Average time taken by list comprehensions: \" + str(sum(listComprehensionTime)/100))#runnerup\n",
    "print(\"Average time taken by * operator: \" + str(sum(starOperatorTime)/100))\t#fastest\n"
   ]
  },
  {
   "cell_type": "markdown",
   "metadata": {
    "id": "Mo8cIqgDPxsS"
   },
   "source": [
    "\n",
    "Q3. How do you slice a list to get any other part while missing the rest? (For example, suppose you\n",
    "want to make a new list with the elements first, third, fifth, seventh, and so on.)\n",
    "\n",
    "Answer: "
   ]
  },
  {
   "cell_type": "code",
   "execution_count": 42,
   "metadata": {
    "colab": {
     "base_uri": "https://localhost:8080/"
    },
    "id": "SleaFIEyXiaf",
    "outputId": "5e3a9508-9cf6-4c00-f60e-5c4408b58ad3"
   },
   "outputs": [
    {
     "name": "stdout",
     "output_type": "stream",
     "text": [
      "[1, 3, 5, 7, 9, 11]\n"
     ]
    }
   ],
   "source": [
    "b = [1,2,3,4,5,6,7,8,9,10,11,12]\n",
    "print(b[::2])"
   ]
  },
  {
   "cell_type": "markdown",
   "metadata": {
    "id": "XpPHU-qgPxpi"
   },
   "source": [
    "\n",
    "Q4. Explain the distinctions between indexing and slicing.\n",
    "\n",
    "Answer: “Indexing” means referring to an element of an iterable by its position within the iterable. “Slicing” means getting a subset of elements from an iterable based on their indices."
   ]
  },
  {
   "cell_type": "markdown",
   "metadata": {
    "id": "g_oJhzAEPxnl"
   },
   "source": [
    "\n",
    "Q5. What happens if one of the slicing expression&#39;s indexes is out of range?\n",
    "\n",
    "Answer: empty list comes"
   ]
  },
  {
   "cell_type": "code",
   "execution_count": 43,
   "metadata": {
    "colab": {
     "base_uri": "https://localhost:8080/"
    },
    "id": "By8v0etcZqET",
    "outputId": "1dbf4cbf-dbaf-40cf-f27c-03c657d25a74"
   },
   "outputs": [
    {
     "name": "stdout",
     "output_type": "stream",
     "text": [
      "[]\n"
     ]
    }
   ],
   "source": [
    "b = [1,2,3,4,5,6,7,8,9,10,11,12]\n",
    "print(b[34:44:1])"
   ]
  },
  {
   "cell_type": "markdown",
   "metadata": {
    "id": "iQFDPy2XQSIc"
   },
   "source": [
    "\n",
    "Q6. If you pass a list to a function, and if you want the function to be able to change the values of the\n",
    "list—so that the list is different after the function returns—what action should you avoid?\n",
    "\n",
    "Answer: the list will change list are mutable but we can also prevent that by creating a deepcopy of it before.\n"
   ]
  },
  {
   "cell_type": "markdown",
   "metadata": {
    "id": "hAz8GX5DQR8_"
   },
   "source": [
    "\n",
    "Q7. What is the concept of an unbalanced matrix?\n",
    "\n",
    "Answer: A matrix is balanced if all cells in the matrix are balanced and a cell of the matrix is balanced if the number of cells in that matrix that are adjacent to that cell is strictly greater than the value written in this cell. .\n",
    "\n",
    "Input: N = 3, M = 3\n",
    "\n",
    "mat[][] = {{1, 2, 3}, \n",
    "\n",
    "{4, 5, 6}, \n",
    "\n",
    "{7, 8, 9}} \n",
    "\n",
    "Output: Unbalanced \n",
    "\n",
    "Explanation: Each cell of the given grid is not stable, so the overall grid is unbalanced."
   ]
  },
  {
   "cell_type": "markdown",
   "metadata": {
    "id": "rjdWsyi8QR23"
   },
   "source": [
    "\n",
    "Q8. Why is it necessary to use either list comprehension or a loop to create arbitrarily large matrices?\n",
    "\n",
    "Answer: list comprehension or a loop specifically list comprehension can simplify our code, but if you put too much logic inside, they will instead become harder to read and understand. loop specifically are also fast as we have seen in previous questions using time."
   ]
  }
 ],
 "metadata": {
  "colab": {
   "name": "Ineuron_Python_Advance_Assignment13.ipynb",
   "provenance": []
  },
  "kernelspec": {
   "display_name": "Python 3 (ipykernel)",
   "language": "python",
   "name": "python3"
  },
  "language_info": {
   "codemirror_mode": {
    "name": "ipython",
    "version": 3
   },
   "file_extension": ".py",
   "mimetype": "text/x-python",
   "name": "python",
   "nbconvert_exporter": "python",
   "pygments_lexer": "ipython3",
   "version": "3.9.7"
  }
 },
 "nbformat": 4,
 "nbformat_minor": 1
}
