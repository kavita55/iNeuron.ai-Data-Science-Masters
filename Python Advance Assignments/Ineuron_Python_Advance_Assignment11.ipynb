{
 "cells": [
  {
   "cell_type": "markdown",
   "metadata": {
    "id": "OA_gQvyu19lm"
   },
   "source": [
    "**Ineuron Python Advance Assignment 11**"
   ]
  },
  {
   "cell_type": "markdown",
   "metadata": {
    "id": "dwlIrULq19hM"
   },
   "source": [
    "Q1. What is the concept of a metaclass?\n",
    "\n",
    "Answer: In object-oriented programming, a metaclass is a class whose instances are classes. Just as an ordinary class defines the behavior of certain objects, a metaclass defines the behavior of certain classes and their instances.\n",
    "\n",
    "A Class is also an object, and just like any other object, it’s an instance of something called Metaclass. A special class type creates these Class objects. The type class is default metaclass which is responsible for making classes."
   ]
  },
  {
   "cell_type": "code",
   "execution_count": 9,
   "metadata": {
    "colab": {
     "base_uri": "https://localhost:8080/"
    },
    "id": "l9UbvNYu9sa5",
    "outputId": "d10b8eda-d43a-4fd3-ef6c-f2c59838a238"
   },
   "outputs": [
    {
     "name": "stdout",
     "output_type": "stream",
     "text": [
      "Type of stu_obj is: <class '__main__.Student'>\n"
     ]
    }
   ],
   "source": [
    "class Student:\n",
    "    pass\n",
    "stu_obj = Student()\n",
    "# Print type of object of Student class\n",
    "print(\"Type of stu_obj is:\", type(stu_obj))\n",
    "# In the above example, if we try to find out the type of Student class, it comes out to be a type."
   ]
  },
  {
   "cell_type": "markdown",
   "metadata": {
    "id": "6JPjWHuW19e1"
   },
   "source": [
    "\n",
    "Q2. What is the best way to declare a class&#39;s metaclass?\n"
   ]
  },
  {
   "cell_type": "code",
   "execution_count": 1,
   "metadata": {
    "colab": {
     "base_uri": "https://localhost:8080/"
    },
    "id": "NUz_QFPL2-Jl",
    "outputId": "aa9009db-a32f-4c02-c29f-61ceabe07af9"
   },
   "outputs": [
    {
     "name": "stdout",
     "output_type": "stream",
     "text": [
      "True\n",
      "True\n",
      "True\n"
     ]
    }
   ],
   "source": [
    "n = 5\n",
    "d = { 'x' : 1, 'y' : 2 }\n",
    "class Foo:\n",
    "     pass\n",
    "x = Foo()\n",
    "for obj in (n, d, x):\n",
    "    print(type(obj) is obj.__class__)"
   ]
  },
  {
   "cell_type": "markdown",
   "metadata": {
    "id": "EQ1lukmN19cJ"
   },
   "source": [
    "\n",
    "Q3. How do class decorators overlap with metaclasses for handling classes?\n",
    "\n",
    "Answer: Decorators are much, much simpler and more limited and therefore should be preferred whenever the desired effect can be achieved with either a metaclass or a class decorator.\n",
    "\n",
    "we can do anything with a class decorator, we can of course do with a custom metaclass (just apply the functionality of the \"decorator function\", i.e., the one that takes a class object and modifies it, in the course of the metaclass's __new__ or __init__ that make the class object.\n",
    "\n",
    "The same applies to all magic methods, i.e., to all kinds of operations as applied to the class object itself (as opposed to, ones applied to its instances, which use magic methods as defined in the class operations on the class object itself use magic methods as defined in the metaclass)."
   ]
  },
  {
   "cell_type": "code",
   "execution_count": 14,
   "metadata": {
    "colab": {
     "base_uri": "https://localhost:8080/"
    },
    "id": "AFHCpNGF4e94",
    "outputId": "771f7aa9-79e7-4c0f-9b01-abd7ba018446"
   },
   "outputs": [
    {
     "name": "stdout",
     "output_type": "stream",
     "text": [
      "Full name of this method: Calc.add\n",
      "5\n",
      "Full name of this method: Calc.mul\n",
      "10\n",
      "Full name of this method: Calc.div\n",
      "2.5\n"
     ]
    }
   ],
   "source": [
    "from functools import wraps\n",
    "\n",
    "def debug(func):\n",
    "    '''decorator for debugging passed function'''\n",
    "\n",
    "    @wraps(func)\n",
    "    def wrapper(*args, **kwargs):\n",
    "        print(\"Full name of this method:\", func.__qualname__)\n",
    "        return func(*args, **kwargs)\n",
    "    return wrapper\n",
    "\n",
    "def debugmethods(cls):\n",
    "    '''class decorator make use of debug decorator to debug class methods '''\n",
    "    # check in class dictionary for any callable(method) if exist, replace it with debugged version\n",
    "    for key, val in vars(cls).items():\n",
    "        if callable(val):\n",
    "            setattr(cls, key, debug(val))\n",
    "    return cls\n",
    "# sample class\n",
    "@debugmethods\n",
    "class Calc:\n",
    "    def add(self, x, y):\n",
    "        return x+y\n",
    "    def mul(self, x, y):\n",
    "        return x*y\n",
    "    def div(self, x, y):\n",
    "        return x/y\n",
    "\n",
    "mycal = Calc()\n",
    "print(mycal.add(2, 3))\n",
    "print(mycal.mul(5, 2))\n",
    "print(mycal.div(5, 2))"
   ]
  },
  {
   "cell_type": "markdown",
   "metadata": {
    "id": "76lD3Kud19aO"
   },
   "source": [
    "\n",
    "Q4. How do class decorators overlap with metaclasses for handling instances?\n",
    "\n",
    "Answer: Decorators can be used to manage both instances and classes, and they intersect with metaclasses in the second of these roles.\n"
   ]
  },
  {
   "cell_type": "code",
   "execution_count": 13,
   "metadata": {
    "colab": {
     "base_uri": "https://localhost:8080/"
    },
    "id": "fFuHohqV8pcb",
    "outputId": "155a7232-a470-414d-9b67-2316415c52ae"
   },
   "outputs": [
    {
     "name": "stdout",
     "output_type": "stream",
     "text": [
      "120\n",
      "Total time taken in :  factorial 20.01353645324707\n"
     ]
    }
   ],
   "source": [
    "import time\n",
    "import math\n",
    "# decorator to calculate duration taken by any function.\n",
    "def calculate_time(func):\t\n",
    "# added arguments inside the inner1, if function takes any arguments, can be added like this.\n",
    "    def inner1(*args, **kwargs):\n",
    "        # storing time before function execution\n",
    "        begin = time.time()\n",
    "        func(*args, **kwargs)\n",
    "        # storing time after function execution\n",
    "        end = time.time()\n",
    "        print(\"Total time taken in : \", func.__name__, end - begin)\n",
    "    return inner1\n",
    "# this can be added to any function present, in this case to calculate a factorial\n",
    "@calculate_time\n",
    "def factorial(num):\n",
    "    # sleep 20 seconds because it takes very less time so that we can see the actual difference\n",
    "    time.sleep(20)\n",
    "    print(math.factorial(num))\n",
    "factorial(5)"
   ]
  }
 ],
 "metadata": {
  "colab": {
   "collapsed_sections": [],
   "name": "Ineuron_Python_Advance_Assignment11.ipynb",
   "provenance": []
  },
  "kernelspec": {
   "display_name": "Python 3 (ipykernel)",
   "language": "python",
   "name": "python3"
  },
  "language_info": {
   "codemirror_mode": {
    "name": "ipython",
    "version": 3
   },
   "file_extension": ".py",
   "mimetype": "text/x-python",
   "name": "python",
   "nbconvert_exporter": "python",
   "pygments_lexer": "ipython3",
   "version": "3.9.7"
  }
 },
 "nbformat": 4,
 "nbformat_minor": 1
}
