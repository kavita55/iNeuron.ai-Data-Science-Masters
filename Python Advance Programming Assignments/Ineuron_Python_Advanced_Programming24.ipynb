{
 "cells": [
  {
   "cell_type": "markdown",
   "metadata": {
    "id": "3TkSOJ_t6O1C"
   },
   "source": [
    "## Ineuron Python Advanced Programming 24"
   ]
  },
  {
   "cell_type": "markdown",
   "metadata": {},
   "source": [
    "1.**Implement a class iterator to flatten a nested list of lists of integers. Each\n",
    "list element is either an integer or a list. There can be many levels of nested\n",
    "lists in lists.**\n",
    "The class initializes with a nested list. It also has two methods:<br>\n",
    "1. next() returns an integer in the order of appearance.\n",
    "2. hasNext() returns True / False regarding if all integers have been\n",
    "retrieved or not.\n",
    "Write the Class implementation for three required methods.<br>\n",
    "Examples<br>\n",
    "ni, actual = NestedIterator([[1, 1], 2, [1, 1]]), []<br>\n",
    "while ni.hasNext():<br>\n",
    "actual.append(ni.next())<br>\n",
    "actual ➞ [1, 1, 2, 1, 1]<br>\n",
    "ni, actual = NestedIterator([1, [4, [6]]]), []<br>\n",
    "while ni.hasNext():<br>\n",
    "actual.append(ni.next())<br>\n",
    "actual ➞ [1, 4, 6]<br>\n",
    "ni, actual = NestedIterator([[[]], []]), []<br>\n",
    "while ni.hasNext():<br>\n",
    "actual.append(ni.next())<br>\n",
    "actual ➞ []<br>"
   ]
  },
  {
   "cell_type": "code",
   "execution_count": 1,
   "metadata": {},
   "outputs": [
    {
     "name": "stdout",
     "output_type": "stream",
     "text": [
      "actual ➞ [1, 1, 2, 1, 1]\n",
      "actual ➞ [1, 4, 6]\n",
      "actual ➞ []\n"
     ]
    }
   ],
   "source": [
    "class NestedIterator:\n",
    "    def __init__(self,in_list):\n",
    "        self.list = in_list\n",
    "        self.flatten_list = []\n",
    "        self.test(self.list)\n",
    "    \n",
    "    def test(self,in_list):\n",
    "        for ele in in_list:\n",
    "            if isinstance(ele,int):\n",
    "                self.flatten_list.append(ele)\n",
    "            else:\n",
    "                self.test(ele)\n",
    "                \n",
    "    def hasNext(self):\n",
    "        return True if len(self.flatten_list) > 0 else False\n",
    "    \n",
    "    def next(self):\n",
    "        return self.flatten_list.pop(0)\n",
    "    \n",
    "ni, actual = NestedIterator([[1, 1], 2, [1, 1]]), []\n",
    "while ni.hasNext():\n",
    "    actual.append(ni.next())\n",
    "print(f'actual ➞ {actual}')\n",
    "\n",
    "ni, actual = NestedIterator([1, [4, [6]]]), []\n",
    "while ni.hasNext():\n",
    "    actual.append(ni.next())\n",
    "print(f'actual ➞ {actual}')\n",
    "\n",
    "ni, actual = NestedIterator([[[]], []]), []\n",
    "while ni.hasNext():\n",
    "    actual.append(ni.next())\n",
    "print(f'actual ➞ {actual}')"
   ]
  },
  {
   "cell_type": "markdown",
   "metadata": {},
   "source": [
    "3.**Given a 3x3 matrix of a completed tic-tac-toe game, create a function that\n",
    "returns whether the game is a win for &quot;X&quot;, &quot;O&quot;, or a &quot;Draw&quot;, where &quot;X&quot; and &quot;O&quot;\n",
    "represent themselves on the matrix, and &quot;E&quot; represents an empty spot.**\n",
    "Examples<br>\n",
    "tic_tac_toe([<br>\n",
    "[&quot;X&quot;, &quot;O&quot;, &quot;X&quot;],<br>\n",
    "[&quot;O&quot;, &quot;X&quot;, &quot;O&quot;],<br>\n",
    "[&quot;O&quot;, &quot;X&quot;, &quot;X&quot;]<br>\n",
    "]) ➞ &quot;X&quot;<br>\n",
    "tic_tac_toe([<br>\n",
    "[&quot;O&quot;, &quot;O&quot;, &quot;O&quot;],<br>\n",
    "[&quot;O&quot;, &quot;X&quot;, &quot;X&quot;],<br>\n",
    "[&quot;E&quot;, &quot;X&quot;, &quot;X&quot;]<br>\n",
    "]) ➞ &quot;O&quot;<br>\n",
    "\n",
    "tic_tac_toe([<br>\n",
    "[&quot;X&quot;, &quot;X&quot;, &quot;O&quot;],<br>\n",
    "[&quot;O&quot;, &quot;O&quot;, &quot;X&quot;],<br>\n",
    "[&quot;X&quot;, &quot;X&quot;, &quot;O&quot;]<br>\n",
    "]) ➞ &quot;Draw&quot;<br>"
   ]
  },
  {
   "cell_type": "code",
   "execution_count": 3,
   "metadata": {},
   "outputs": [
    {
     "name": "stdout",
     "output_type": "stream",
     "text": [
      "tic_tac_toe([['X', 'O', 'X'], ['O', 'X', 'O'], ['O', 'X', 'X']]) ➞ \"X\"\n",
      "tic_tac_toe([['O', 'O', 'O'], ['O', 'X', 'X'], ['E', 'X', 'X']]) ➞ \"O\"\n",
      "tic_tac_toe([['X', 'X', 'O'], ['O', 'O', 'X'], ['X', 'X', 'O']]) ➞ \"Draw\"\n",
      "tic_tac_toe([['X', 'X', 'O'], ['X', 'O', 'X'], ['X', 'O', 'O']]) ➞ \"X\"\n",
      "tic_tac_toe([['O', 'O', 'X'], ['O', 'X', 'O'], ['X', 'O', 'O']]) ➞ \"X\"\n"
     ]
    }
   ],
   "source": [
    "def tic_tac_toe(in_list):\n",
    "    output = None  \n",
    "    # Case 1 to search for horizontal match\n",
    "    for ele in in_list:\n",
    "        if len(list(set(ele))) == 1:\n",
    "            output = list(set(ele))[0]\n",
    "            break\n",
    "    # Case 2 to search for vertical match   \n",
    "    if output == None:\n",
    "        for i in range(len(in_list)):\n",
    "            temp = []\n",
    "            for j in range(len(in_list)): temp.append(in_list[j][i])\n",
    "            if len(list(set(temp))) == 1: output = list(set(temp))[0]\n",
    "    # Case 3 to search for diagonal match\n",
    "    if output == None:\n",
    "        temp = []\n",
    "        for ele in [0,1,2]:\n",
    "            temp.append(in_list[ele][ele])\n",
    "        if len(list(set(temp))) == 1: output = list(set(temp))[0]\n",
    "    # Case 4 to search for reverse diagonal match\n",
    "    if output == None:\n",
    "        temp = []\n",
    "        for i in [0,1,2]:\n",
    "            for j in [0,1,2]:\n",
    "                if sum([i,j]) == 2: temp.append(in_list[i][j])\n",
    "        if len(list(set(temp))) == 1: output = list(set(temp))[0]\n",
    "    # Case 5 Draw Condition\n",
    "    if output == None: output = 'Draw'\n",
    "    print(f'tic_tac_toe({in_list}) ➞ \"{output}\"')\n",
    "            \n",
    "tic_tac_toe([[\"X\", \"O\", \"X\"],[\"O\", \"X\", \"O\"],[\"O\", \"X\", \"X\"]])\n",
    "tic_tac_toe([[\"O\", \"O\", \"O\"],[\"O\",\"X\", \"X\"],[\"E\", \"X\", \"X\"]])\n",
    "tic_tac_toe([[\"X\", \"X\", \"O\"],[\"O\", \"O\", \"X\"],[\"X\", \"X\", \"O\"]])\n",
    "tic_tac_toe([[\"X\", \"X\", \"O\"],[\"X\", \"O\", \"X\"],[\"X\", \"O\", \"O\"]])\n",
    "tic_tac_toe([[\"O\", \"O\", \"X\"],[\"O\", \"X\", \"O\"],[\"X\", \"O\", \"O\"]])"
   ]
  },
  {
   "cell_type": "markdown",
   "metadata": {},
   "source": [
    "4.**Your computer might have been infected by a virus! Create a function that\n",
    "finds the viruses in files and removes them from your computer.**\n",
    "Examples<br>\n",
    "remove_virus(&quot;PC Files: spotifysetup.exe, virus.exe, dog.jpg&quot;) ➞ &quot;PC Files:<br>\n",
    "spotifysetup.exe, dog.jpg&quot;<br>\n",
    "remove_virus(&quot;PC Files: antivirus.exe, cat.pdf, lethalmalware.exe,<br>\n",
    "dangerousvirus.exe &quot;) ➞ &quot;PC Files: antivirus.exe, cat.pdf&quot;<br>\n",
    "remove_virus(&quot;PC Files: notvirus.exe, funnycat.gif&quot;) ➞ &quot;PC Files:<br>\n",
    "notvirus.exe, funnycat.gif&quot;)<br>"
   ]
  },
  {
   "cell_type": "code",
   "execution_count": 4,
   "metadata": {},
   "outputs": [
    {
     "name": "stdout",
     "output_type": "stream",
     "text": [
      "remove_virus(PC Files: spotifysetup.exe, virus.exe, dog.jpg) ➞ \"PC Files: spotifysetup.exe, dog.jpg\"\n",
      "remove_virus(PC Files: antivirus.exe, cat.pdf, lethalmalware.exe, dangerousvirus.exe ) ➞ \"PC Files: antivirus.exe, cat.pdf\"\n",
      "remove_virus(PC Files: notvirus.exe, funnycat.gif) ➞ \"PC Files: notvirus.exe, funnycat.gif\"\n"
     ]
    }
   ],
   "source": [
    "import re\n",
    "def remove_virus(in_string):\n",
    "    in_list = [x.strip() for x in re.split(\", \",in_string)]\n",
    "    output = []\n",
    "    for ele in in_list:\n",
    "        if ele not in ['virus.exe','dangerousvirus.exe','lethalmalware.exe']:\n",
    "            output.append(ele)\n",
    "    print(f'remove_virus({in_string}) ➞ \"{\", \".join(output)}\"')\n",
    "    \n",
    "remove_virus(\"PC Files: spotifysetup.exe, virus.exe, dog.jpg\")\n",
    "remove_virus(\"PC Files: antivirus.exe, cat.pdf, lethalmalware.exe, dangerousvirus.exe \")\n",
    "remove_virus(\"PC Files: notvirus.exe, funnycat.gif\")"
   ]
  },
  {
   "cell_type": "markdown",
   "metadata": {},
   "source": [
    "5.**In a video game, a meteor will fall toward the main character&#39;s home\n",
    "planet. Given the meteor&#39;s trajectory as a string in the form y = mx + b and\n",
    "the character&#39;s position as a tuple of (x, y), return True if the meteor will hit\n",
    "the character and False if it will not.**\n",
    "Examples<br>\n",
    "will_hit(&quot;y = 2x - 5&quot;, (0, 0)) ➞ False<br>\n",
    "will_hit(&quot;y = -4x + 6&quot;, (1, 2)) ➞ True<br>\n",
    "will_hit(&quot;y = 2x + 6&quot;, (3, 2)) ➞ False<br>"
   ]
  },
  {
   "cell_type": "code",
   "execution_count": 5,
   "metadata": {},
   "outputs": [
    {
     "name": "stdout",
     "output_type": "stream",
     "text": [
      "will_hit('y = 2x - 5', (0, 0)) ➞ False\n",
      "will_hit('y = -4x + 6', (1, 2)) ➞ True\n",
      "will_hit('y = 2x + 6', (3, 2)) ➞ False\n"
     ]
    }
   ],
   "source": [
    "def will_hit(in_eq,in_loc):\n",
    "    in_eq_list = in_eq.split(\" \")\n",
    "    temp_list = []\n",
    "    for ele in in_eq_list:\n",
    "        if 'x' in ele or 'y'in ele:\n",
    "            if len(ele) == 1:\n",
    "                temp_list.append(ele.replace('x',str(in_loc[0]))) if 'x' in ele else temp_list.append(ele.replace('y',str(in_loc[1])))\n",
    "            else:\n",
    "                temp_list.append(ele.replace('x',f'*{in_loc[0]}')) if 'x' in ele else temp_list.append(ele.replace('y',f'*{in_loc[1]}'))\n",
    "        else:\n",
    "            temp_list.append(\"==\") if ele == \"=\" else temp_list.append(ele)\n",
    "    print(f'will_hit{in_eq,in_loc} ➞ {eval(\" \".join(temp_list))}')\n",
    "\n",
    "will_hit(\"y = 2x - 5\", (0, 0))\n",
    "will_hit(\"y = -4x + 6\", (1, 2))\n",
    "will_hit(\"y = 2x + 6\", (3, 2))"
   ]
  },
  {
   "cell_type": "code",
   "execution_count": null,
   "metadata": {},
   "outputs": [],
   "source": []
  }
 ],
 "metadata": {
  "colab": {
   "name": "Ineuron_Python_Advanced_Programming20.ipynb",
   "provenance": []
  },
  "kernelspec": {
   "display_name": "Python 3 (ipykernel)",
   "language": "python",
   "name": "python3"
  },
  "language_info": {
   "codemirror_mode": {
    "name": "ipython",
    "version": 3
   },
   "file_extension": ".py",
   "mimetype": "text/x-python",
   "name": "python",
   "nbconvert_exporter": "python",
   "pygments_lexer": "ipython3",
   "version": "3.9.7"
  }
 },
 "nbformat": 4,
 "nbformat_minor": 1
}
