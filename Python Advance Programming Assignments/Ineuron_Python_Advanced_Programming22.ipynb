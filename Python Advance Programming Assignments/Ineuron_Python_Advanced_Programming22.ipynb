{
 "cells": [
  {
   "cell_type": "markdown",
   "metadata": {
    "id": "3TkSOJ_t6O1C"
   },
   "source": [
    "## Ineuron Python Advanced Programming 22"
   ]
  },
  {
   "cell_type": "markdown",
   "metadata": {},
   "source": [
    "**1. Create a class Smoothie and do the following:**\n",
    "- **Create an instance attribute called ingredients.**<br>\n",
    "- **Create a get_cost method which calculates the total cost of the\n",
    "ingredients used to make the smoothie.**<br>\n",
    "- **Create a get_price method which returns the number from get_cost plus\n",
    "the number from get_cost multiplied by 1.5. Round to two decimal places.**<br>\n",
    "- **Create a get_name method which gets the ingredients and puts them in\n",
    "alphabetical order into a nice descriptive sentence. If there are multiple\n",
    "ingredients, add the word &quot;Fusion&quot; to the end but otherwise, add &quot;Smoothie&quot;.\n",
    "Remember to change &quot;-berries&quot; to &quot;-berry&quot;.**<br> **See the examples below.**\n",
    "Ingredient Price <br>\n",
    "Strawberries $1.50 <br>\n",
    "Banana $0.50 <br>\n",
    "Mango $2.50 <br>\n",
    "Blueberries $1.00 <br>\n",
    "Raspberries $1.00<br>\n",
    "Apple $1.75<br>\n",
    "Pineapple $3.50 <br>\n",
    "\n",
    "\n",
    "Examples <br>\n",
    "\n",
    "s1 = Smoothie([&quot;Banana&quot;])<br>\n",
    "\n",
    "s1.ingredients ➞ [&quot;Banana&quot;]<br>\n",
    "\n",
    "s1.get_cost() ➞ &quot;$0.50&quot;<br>\n",
    "\n",
    "s1.get_price() ➞ &quot;$1.25&quot;<br>\n",
    "\n",
    "s1.get_name() ➞ &quot;Banana Smoothie&quot;<br>\n",
    "\n",
    "s2 = Smoothie([&quot;Raspberries&quot;, &quot;Strawberries&quot;, &quot;Blueberries&quot;])<br>\n",
    "\n",
    "s2.ingredients ➞ [&quot;Raspberries&quot;, &quot;Strawberries&quot;, &quot;Blueberries&quot;]<br>\n",
    "\n",
    "s2.get_cost() ➞ &quot;$3.50&quot;<br>\n",
    "\n",
    "s2.get_price() ➞ &quot;$8.75&quot;<br>\n",
    "\n",
    "s2.get_name() ➞ &quot;Blueberry Raspberry Strawberry Fusion&quot;<br>\n",
    "\n"
   ]
  },
  {
   "cell_type": "code",
   "execution_count": 1,
   "metadata": {},
   "outputs": [
    {
     "name": "stdout",
     "output_type": "stream",
     "text": [
      "s1.ingredients ➞ ['Banana']\n",
      "s1.get_cost() ➞ \"$0.5\"\n",
      "s1.get_price() ➞ \"$1.25\"\n",
      "s1.get_name() ➞ \"Banana Smoothie\"\n",
      "s2.ingredients ➞ ['Raspberries', 'Strawberries', 'Blueberries']\n",
      "s2.get_cost() ➞ \"$3.5\"\n",
      "s2.get_price() ➞ \"$8.75\"\n",
      "s2.get_name() ➞ \"Blueberry Raspberry Strawberry Fusion\"\n"
     ]
    }
   ],
   "source": [
    "import re\n",
    "class Smoothie:\n",
    "    ingredients_price = {  #create dictionary for prices\n",
    "        'Strawberries':1.50,\n",
    "        'Banana':0.50,\n",
    "        'Mango':2.50,\n",
    "        'Blueberries':1.00,\n",
    "        'Raspberries':1.00,\n",
    "        'Apple':1.75,\n",
    "        'Pineapple':3.50\n",
    "    }\n",
    "    def __init__(self,ingredients):\n",
    "        self.ingredients = ingredients\n",
    "        self.cost = 0\n",
    "    def get_cost(self):\n",
    "        for ele in self.ingredients:\n",
    "            if ele in Smoothie.ingredients_price:\n",
    "                self.cost += round(Smoothie.ingredients_price.get(ele,0),2)    #get the price of element if not present then 0\n",
    "        return '$'+str(self.cost)\n",
    "    def get_price(self):\n",
    "        self.price = round((self.cost*1.5)+(self.cost),2)\n",
    "        return '$'+str(self.price)\n",
    "    def get_name(self):\n",
    "        self.name = re.sub('berries','berry',' '.join(sorted(self.ingredients)))\n",
    "        self.name = self.name+' Smoothie' if len(self.ingredients) == 1 else self.name+' Fusion'\n",
    "        return self.name\n",
    "\n",
    "s1 = Smoothie([\"Banana\"])\n",
    "print(f's1.ingredients ➞ {s1.ingredients}')\n",
    "print(f's1.get_cost() ➞ \"{s1.get_cost()}\"')\n",
    "print(f's1.get_price() ➞ \"{s1.get_price()}\"')\n",
    "print(f's1.get_name() ➞ \"{s1.get_name()}\"')\n",
    "\n",
    "s2 = Smoothie([\"Raspberries\", \"Strawberries\", \"Blueberries\"])\n",
    "print(f's2.ingredients ➞ {s2.ingredients}')\n",
    "print(f's2.get_cost() ➞ \"{s2.get_cost()}\"')\n",
    "print(f's2.get_price() ➞ \"{s2.get_price()}\"')\n",
    "print(f's2.get_name() ➞ \"{s2.get_name()}\"')"
   ]
  },
  {
   "cell_type": "markdown",
   "metadata": {},
   "source": [
    "2.**Your task is to write a program which allows teachers to create a multiple\n",
    "choice test in a class called Testpaper and to be also able to assign a\n",
    "minimum pass mark. The testpaper&#39;s subject should also be included. The\n",
    "attributes are in the following order:**\n",
    "1. subject<br>\n",
    "2. markscheme<br>\n",
    "3. pass_mark<br>\n",
    "As well as that, we need to create student objects to take the test itself!\n",
    "Create another class called Student and do the following:<br>\n",
    "- Create an attribute called tests_taken and set the default as &#39;No tests\n",
    "taken&#39;.<br>\n",
    "- Make a method called take_test(), which takes in the testpaper object they\n",
    "are completing and the student&#39;s answers. Compare what they wrote to the\n",
    "mark scheme, and append to the/create a dictionary assigned to tests_taken\n",
    "in the way as shown in the point below.<br>\n",
    "- Each key in the dictionary should be the testpaper subject and each value\n",
    "should be a string in the format seen in the examples below (whether or not\n",
    "the student has failed, and their percentage in brackets).<br>\n",
    "Examples<br>\n",
    "paper1 = Testpaper(&quot;Maths&quot;, [&quot;1A&quot;, &quot;2C&quot;, &quot;3D&quot;, &quot;4A&quot;, &quot;5A&quot;], &quot;60%&quot;)<br>\n",
    "paper2 = Testpaper(&quot;Chemistry&quot;, [&quot;1C&quot;, &quot;2C&quot;, &quot;3D&quot;, &quot;4A&quot;], &quot;75%&quot;)<br>\n",
    "paper3 = Testpaper(&quot;Computing&quot;, [&quot;1D&quot;, &quot;2C&quot;, &quot;3C&quot;, &quot;4B&quot;, &quot;5D&quot;, &quot;6C&quot;, &quot;7A&quot;],\n",
    "&quot;75%&quot;)<br>\n",
    "student1 = Student()<br>\n",
    "student2 = Student()<br>\n",
    "student1.tests_taken ➞ &quot;No tests taken&quot;<br>\n",
    "student1.take_test(paper1, [&quot;1A&quot;, &quot;2D&quot;, &quot;3D&quot;, &quot;4A&quot;, &quot;5A&quot;])<br>\n",
    "student1.tests_taken ➞ {&quot;Maths&quot; : &quot;Passed! (80%)&quot;}<br>\n",
    "student2.take_test(paper2, [&quot;1C&quot;, &quot;2D&quot;, &quot;3A&quot;, &quot;4C&quot;])<br>\n",
    "student2.take_test(paper3, [&quot;1A&quot;, &quot;2C&quot;, &quot;3A&quot;, &quot;4C&quot;, &quot;5D&quot;, &quot;6C&quot;, &quot;7B&quot;])<br>\n",
    "student2.tests_taken ➞ {&quot;Chemistry&quot; : &quot;Failed! (25%)&quot;, &quot;Computing&quot; : &quot;Failed!\n",
    "(43%)&quot;}<br>\n"
   ]
  },
  {
   "cell_type": "code",
   "execution_count": 2,
   "metadata": {},
   "outputs": [
    {
     "name": "stdout",
     "output_type": "stream",
     "text": [
      "student1.tests_taken ➞ \"No tests taken\"\n",
      "student1.tests_taken ➞ {'Maths': 'Passed! (80%)'}\n",
      "student2.tests_taken ➞ {'Chemistry': 'Failed! (25%)', 'Computing': 'Failed! (42%)'}\n"
     ]
    }
   ],
   "source": [
    "class Testpaper:\n",
    "    def __init__(self,subject,markscheme,pass_mark):\n",
    "        self.subject = subject\n",
    "        self.markscheme = markscheme\n",
    "        self.pass_mark = pass_mark\n",
    "        \n",
    "class Student:\n",
    "    def __init__(self):\n",
    "        self.tests_taken = \"No tests taken\"\n",
    "    def take_test(self,paper_name,student_response):\n",
    "        correct_responses = 0\n",
    "        for ele in range(len(paper_name.markscheme)):\n",
    "            if paper_name.markscheme[ele] == student_response[ele]:\n",
    "                correct_responses +=1\n",
    "        ach_pass_mark = int(correct_responses/len(paper_name.markscheme)*100)\n",
    "        needed_pass_mark = int(paper_name.pass_mark.split(\"%\")[0])\n",
    "        if self.tests_taken == 'No tests taken':\n",
    "            self.tests_taken = {}\n",
    "        if ach_pass_mark >= needed_pass_mark:\n",
    "            self.tests_taken[paper_name.subject] = f\"Passed! ({str(ach_pass_mark)}%)\"\n",
    "        else:\n",
    "            self.tests_taken[paper_name.subject] = f'Failed! ({str(ach_pass_mark)}%)'\n",
    "        \n",
    "paper1 = Testpaper(\"Maths\", [\"1A\", \"2C\", \"3D\", \"4A\", \"5A\"], \"60%\")  \n",
    "paper2 = Testpaper(\"Chemistry\", [\"1C\", \"2C\", \"3D\", \"4A\"], \"75%\")  \n",
    "paper3 = Testpaper(\"Computing\", [\"1D\", \"2C\", \"3C\", \"4B\", \"5D\", \"6C\", \"7A\"], \"75%\")       \n",
    "\n",
    "student1 = Student()   \n",
    "student2 = Student()\n",
    "\n",
    "print(f'student1.tests_taken ➞ \"{student1.tests_taken}\"')\n",
    "student1.take_test(paper1, [\"1A\", \"2D\", \"3D\", \"4A\", \"5A\"])\n",
    "print(f'student1.tests_taken ➞ {student1.tests_taken}')\n",
    "\n",
    "student2.take_test(paper2, [\"1C\", \"2D\", \"3A\", \"4C\"])\n",
    "student2.take_test(paper3, [\"1A\", \"2C\", \"3A\", \"4C\", \"5D\", \"6C\", \"7B\"])\n",
    "print(f'student2.tests_taken ➞ {student2.tests_taken}')"
   ]
  },
  {
   "cell_type": "markdown",
   "metadata": {},
   "source": [
    "3. **Due to unforseen circumstances in Suburbia, the trains will be delayed by\n",
    "a further 10 minutes.**\n",
    "\n",
    "Create a function that will help to plan out and manage these delays! Create\n",
    "a function called manage_delays that does the following:\n",
    "- Parameters will be the train object, a destination and number of minutes\n",
    "the delay is.\n",
    "- Increment to the train object&#39;s expected_time by the delay, if the\n",
    "destination given is in the train object&#39;s destinations.\n",
    "Examples<br>\n",
    "trains = [\n",
    "Train([&quot;Townsville&quot;, &quot;Suburbia&quot;, &quot;Urbantska&quot;], &quot;13:04&quot;),\n",
    "Train([&quot;Farmsdale&quot;, &quot;Suburbia&quot;, &quot;Lakeside Valley&quot;], &quot;13:20&quot;),\n",
    "Train([&quot;Suburbia&quot;, &quot;Townsville&quot;, &quot;Lakeside Valley&quot;], &quot;13:22&quot;)\n",
    "]<br>\n",
    "for t in trains:<br>\n",
    "manage_delays(t, &quot;Lakeside Valley&quot;, 60)<br>\n",
    "trains[0].expected_time ➞ &quot;13:04&quot;<br>\n",
    "trains[1].expected_time ➞ &quot;14:20&quot;<br>\n",
    "trains[2].expected_time ➞ &quot;14:22&quot;<br>\n",
    "    \n"
   ]
  },
  {
   "cell_type": "code",
   "execution_count": 3,
   "metadata": {},
   "outputs": [
    {
     "name": "stdout",
     "output_type": "stream",
     "text": [
      "trains[0].expected_time ➞ \"13:04\"\n",
      "trains[1].expected_time ➞ \"14:20\"\n",
      "trains[2].expected_time ➞ \"14:22\"\n"
     ]
    }
   ],
   "source": [
    "class Train:\n",
    "    def __init__(self,destination_list,expected_time):\n",
    "        self.destination_list = destination_list\n",
    "        self.expected_time = expected_time\n",
    "\n",
    "def manage_delays(train_obj,destination_point,delay):\n",
    "    if destination_point in train_obj.destination_list:\n",
    "        ex_time = train_obj.expected_time.split(\":\")\n",
    "        new_ex_time = str((int(ex_time[0])*60+int(ex_time[1])+int(delay))//60)+':'+str((int(ex_time[0])*60+int(ex_time[1])+int(delay))%60)\n",
    "        train_obj.expected_time = new_ex_time\n",
    "\n",
    "trains = [\n",
    "  Train([\"Townsville\", \"Suburbia\", \"Urbantska\"], \"13:04\"),\n",
    "  Train([\"Farmsdale\", \"Suburbia\", \"Lakeside Valley\"], \"13:20\"),\n",
    "  Train([\"Suburbia\", \"Townsville\", \"Lakeside Valley\"], \"13:22\")\n",
    "]\n",
    "\n",
    "for t in trains:\n",
    "    manage_delays(t, \"Lakeside Valley\", 60)\n",
    "        \n",
    "print(f'trains[0].expected_time ➞ \"{trains[0].expected_time}\"')    \n",
    "print(f'trains[1].expected_time ➞ \"{trains[1].expected_time}\"')    \n",
    "print(f'trains[2].expected_time ➞ \"{trains[2].expected_time}\"')  "
   ]
  },
  {
   "cell_type": "markdown",
   "metadata": {},
   "source": [
    "4. **Ted works as a computer programmer at Minecraft Inc. His boss has just\n",
    "given him an important assignment to update the code for the minecart tracks\n",
    "by the end of April. However, he has recently had to self-isolate due to\n",
    "Corvid-19 and has left the code for the tracks BACK AT WORK!! He has the\n",
    "shorthand for the tracks he&#39;s supposed to look at, and where the carts are\n",
    "suppost to end up, but not the actual code.\n",
    "He knows that:**\n",
    "1. &quot;--&gt;&quot; = &quot;Speed-Up Track&quot; ⁠— If a minecart interacts with this track, it&#39;s\n",
    "velocity increases by 2.67 BPS unless it&#39;s at its maximum speed of 8 BPS.\n",
    "2. &quot;&lt;--&gt;&quot; = &quot;Powered Track&quot; ⁠— If a minecart interacts with this track, it&#39;s\n",
    "velocity remains the same.\n",
    "3. &quot;&lt;--&quot; = &quot;Slow-Down Track&quot; ⁠— If a minecart interacts with this track, it&#39;s\n",
    "velocity decreases by 2.67 BPS unless it&#39;s velocity equals 0, at which point it\n",
    "stops.\n",
    "4. &quot;---&quot; = &quot;Unpowered Track&quot; ⁠— If a minecart interacts with this track, it&#39;s\n",
    "velocity decreases by 1 BPS unless it&#39;s velocity equals 0, at which point it\n",
    "stops.\n",
    "\n",
    "Help Ted by writing a class for the tracks that interact with the provided\n",
    "Minecart class as shown above. And then write a function that will take a list\n",
    "of the shorthand tracks and:\n",
    "- If the Minecart reaches the last peice of Track, return True.\n",
    "- Else return the index of the Track where the Minecart stops.\n",
    "Examples\n",
    "mine_run([&quot;--&gt;&quot;, &quot;--&gt;&quot;, &quot;--&gt;&quot;, &quot;&lt;--&quot;, &quot;&lt;--&quot;, &quot;&lt;--&quot;]) ➞ True\n",
    "mine_run([&quot;--&gt;&quot;, &quot;&lt;--&quot;, &quot;--&gt;&quot;, &quot;--&gt;&quot;, &quot;&lt;--&gt;&quot;, &quot;---&quot;]) ➞ 1\n"
   ]
  },
  {
   "cell_type": "code",
   "execution_count": 4,
   "metadata": {},
   "outputs": [
    {
     "name": "stdout",
     "output_type": "stream",
     "text": [
      "mine_run(['-->', '-->', '-->', '<--', '<--', '<--']) ➞ True\n",
      "mine_run(['-->', '<--', '-->', '-->', '<-->', '---']) ➞ 1\n"
     ]
    }
   ],
   "source": [
    "class minecraft:\n",
    "    def __init__(self,tracks):\n",
    "        self.tracks = tracks\n",
    "        \n",
    "def mine_run(tracks):\n",
    "    mine_vel = 0  \n",
    "    output = 0\n",
    "    for ele in range(len(tracks)):\n",
    "        if tracks[ele] == '-->':\n",
    "            if mine_vel+2.67 >= 8: mine_vel = 8 # resetted to max mine_val\n",
    "            else: mine_vel +=2.67\n",
    "        elif tracks[ele] == '<-->': continue\n",
    "        elif tracks[ele] == '<--':\n",
    "            if mine_vel-2.67 <= 0: output = True if ele == len(tracks)-1 else ele; break\n",
    "            else: mine_vel -=2.67\n",
    "        else:\n",
    "            if mine_vel-1 <= 0: output = True if ele == len(tracks)-1 else ele; break\n",
    "            else: mine_vel -=1        \n",
    "    return output\n",
    "\n",
    "mine_track_1 = minecraft([\"-->\", \"-->\", \"-->\", \"<--\", \"<--\", \"<--\"])\n",
    "print(f'mine_run({mine_track_1.tracks}) ➞ {mine_run(mine_track_1.tracks)}')\n",
    "mine_track_2 = minecraft([\"-->\", \"<--\", \"-->\", \"-->\", \"<-->\", \"---\"])\n",
    "print(f'mine_run({mine_track_2.tracks}) ➞ {mine_run(mine_track_2.tracks)}')"
   ]
  },
  {
   "cell_type": "markdown",
   "metadata": {},
   "source": [
    "5.**Make a Rectangle class with four parameters, an x, a y (representing the**\n",
    "top-left corner of the rectangle), a width and a height exclusively in that order.\n",
    "Lastly, make a function intersecting that takes two Rectangle objects and\n",
    "returns True if those objects are intersecting (colliding), else return False.\n",
    "Examples<br>\n",
    "a = Rectangle(10, 20, 100, 20)<br>\n",
    "b = Rectangle(10, 40, 15, 20)<br>\n",
    "c = Rectangle(50, 50, 20, 30)<br>\n",
    "intersecting(a, b) ➞ True<br>\n",
    "intersecting(a, c) ➞ False<br>\n",
    "intersecting(b, c) ➞ True<br>"
   ]
  },
  {
   "cell_type": "code",
   "execution_count": 5,
   "metadata": {},
   "outputs": [
    {
     "name": "stdout",
     "output_type": "stream",
     "text": [
      "intersecting(dict_values([10, 20, 100, 20]), dict_values([10, 40, 15, 20])) ➞ True\n",
      "intersecting(dict_values([10, 20, 100, 20]), dict_values([50, 50, 20, 30])) ➞ False\n",
      "intersecting(dict_values([10, 40, 15, 20]), dict_values([50, 50, 20, 30])) ➞ True\n"
     ]
    }
   ],
   "source": [
    "def intersecting(rectangle1, rectangle2):\n",
    "    output = False\n",
    "    if (rectangle2.y-rectangle1.y == rectangle1.height) or (rectangle2.y-rectangle1.y + rectangle1.height == rectangle2.height):\n",
    "        output = True\n",
    "    print(f'intersecting{rectangle1.__dict__.values(),rectangle2.__dict__.values()} ➞ {output}')\n",
    "\n",
    "class Rectangle:\n",
    "    def __init__(self, x, y, width, height):\n",
    "        self.x = x\n",
    "        self.y = y\n",
    "        self.width = width\n",
    "        self.height = height\n",
    "\n",
    "a = Rectangle(10, 20, 100, 20)\n",
    "b = Rectangle(10, 40, 15, 20)\n",
    "c = Rectangle(50, 50, 20, 30)\n",
    "intersecting(a, b)\n",
    "intersecting(a, c)\n",
    "intersecting(b, c)"
   ]
  },
  {
   "cell_type": "code",
   "execution_count": null,
   "metadata": {},
   "outputs": [],
   "source": []
  }
 ],
 "metadata": {
  "colab": {
   "name": "Ineuron_Python_Advanced_Programming20.ipynb",
   "provenance": []
  },
  "kernelspec": {
   "display_name": "Python 3 (ipykernel)",
   "language": "python",
   "name": "python3"
  },
  "language_info": {
   "codemirror_mode": {
    "name": "ipython",
    "version": 3
   },
   "file_extension": ".py",
   "mimetype": "text/x-python",
   "name": "python",
   "nbconvert_exporter": "python",
   "pygments_lexer": "ipython3",
   "version": "3.9.7"
  }
 },
 "nbformat": 4,
 "nbformat_minor": 1
}
