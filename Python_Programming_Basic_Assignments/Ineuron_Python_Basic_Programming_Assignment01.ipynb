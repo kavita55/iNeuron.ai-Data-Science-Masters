{
 "cells": [
  {
   "cell_type": "markdown",
   "metadata": {
    "id": "EDbDzXw9bufz"
   },
   "source": [
    "## Ineuron Python Basic Programming Assignment 1"
   ]
  },
  {
   "cell_type": "markdown",
   "metadata": {
    "id": "a5stZlBbYbn8"
   },
   "source": [
    "1. Write a Python program to print &quot;Hello Python&quot;?\n"
   ]
  },
  {
   "cell_type": "code",
   "execution_count": 1,
   "metadata": {
    "colab": {
     "base_uri": "https://localhost:8080/"
    },
    "id": "jw84EFK-Yknz",
    "outputId": "928411c5-7e10-4712-e077-e76d77eba1e8"
   },
   "outputs": [
    {
     "name": "stdout",
     "output_type": "stream",
     "text": [
      "hello python\n"
     ]
    }
   ],
   "source": [
    "print(\"hello python\")"
   ]
  },
  {
   "cell_type": "markdown",
   "metadata": {
    "id": "a8eXTNP8YeNW"
   },
   "source": [
    "2. Write a Python program to do arithmetical operations addition and division.?\n"
   ]
  },
  {
   "cell_type": "code",
   "execution_count": 2,
   "metadata": {
    "colab": {
     "base_uri": "https://localhost:8080/"
    },
    "id": "4L6V3Lx4YohA",
    "outputId": "b6b87cb0-92f6-42bb-b851-10ccfa662bd0"
   },
   "outputs": [
    {
     "name": "stdout",
     "output_type": "stream",
     "text": [
      "Enter value for a:6\n",
      "Enter value for b:1\n",
      "Addition:  7\n",
      "Division:  6.0\n"
     ]
    }
   ],
   "source": [
    "a = int(input(\"Enter value for a:\"))\n",
    "b = int(input(\"Enter value for b:\"))\n",
    "print('Addition: ',a+b)\n",
    "print('Division: ',a/b)"
   ]
  },
  {
   "cell_type": "markdown",
   "metadata": {
    "id": "tQv-eyO7YgOg"
   },
   "source": [
    "3. Write a Python program to find the area of a triangle?"
   ]
  },
  {
   "cell_type": "code",
   "execution_count": 3,
   "metadata": {
    "colab": {
     "base_uri": "https://localhost:8080/"
    },
    "id": "hgT7nqt4Y2Mq",
    "outputId": "a2388809-90c4-447d-ca30-b10215391445"
   },
   "outputs": [
    {
     "name": "stdout",
     "output_type": "stream",
     "text": [
      "Enter value for base:12\n",
      "Enter value for height:2\n",
      "Area of triangle is  12.0\n"
     ]
    }
   ],
   "source": [
    "base = int(input(\"Enter value for base:\"))\n",
    "height = int(input(\"Enter value for height:\"))\n",
    "area_of_triangle = 0.5*base*height \n",
    "print(\"Area of triangle is \",area_of_triangle)"
   ]
  },
  {
   "cell_type": "markdown",
   "metadata": {
    "id": "KY7AubeEYhkT"
   },
   "source": [
    "\n",
    "4. Write a Python program to swap two variables?"
   ]
  },
  {
   "cell_type": "code",
   "execution_count": 4,
   "metadata": {
    "colab": {
     "base_uri": "https://localhost:8080/"
    },
    "id": "RokjnLykZqyj",
    "outputId": "c31bf5c1-ce18-4fb3-9128-266d81d1c836"
   },
   "outputs": [
    {
     "name": "stdout",
     "output_type": "stream",
     "text": [
      "Enter value for a:9\n",
      "Enter value for b:8\n",
      "value of a: 8 \tvalue of b: 9\n"
     ]
    }
   ],
   "source": [
    "a = int(input(\"Enter value for a:\"))\n",
    "b = int(input(\"Enter value for b:\"))\n",
    "a, b = b, a\n",
    "print(\"value of a: {}\".format(a),\"\\t\" \"value of b: {}\".format(b))"
   ]
  },
  {
   "cell_type": "markdown",
   "metadata": {
    "id": "wrCZMKcAYiyH"
   },
   "source": [
    "\n",
    "5. Write a Python program to generate a random number?"
   ]
  },
  {
   "cell_type": "code",
   "execution_count": 5,
   "metadata": {
    "colab": {
     "base_uri": "https://localhost:8080/"
    },
    "id": "45Xxidn1YbNk",
    "outputId": "1cda1b0b-36b5-466a-d1bd-2bb9e3671c7a"
   },
   "outputs": [
    {
     "name": "stdout",
     "output_type": "stream",
     "text": [
      "64\n"
     ]
    }
   ],
   "source": [
    "import random\n",
    "print(random.randrange(100))"
   ]
  },
  {
   "cell_type": "code",
   "execution_count": null,
   "metadata": {},
   "outputs": [],
   "source": []
  }
 ],
 "metadata": {
  "colab": {
   "name": "Ineuron_Python_Basic_Programming_Assignment1.ipynb",
   "provenance": []
  },
  "kernelspec": {
   "display_name": "Python 3 (ipykernel)",
   "language": "python",
   "name": "python3"
  },
  "language_info": {
   "codemirror_mode": {
    "name": "ipython",
    "version": 3
   },
   "file_extension": ".py",
   "mimetype": "text/x-python",
   "name": "python",
   "nbconvert_exporter": "python",
   "pygments_lexer": "ipython3",
   "version": "3.9.7"
  }
 },
 "nbformat": 4,
 "nbformat_minor": 1
}
