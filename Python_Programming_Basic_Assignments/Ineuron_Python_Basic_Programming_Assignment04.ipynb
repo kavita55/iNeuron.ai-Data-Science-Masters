{
 "cells": [
  {
   "cell_type": "markdown",
   "metadata": {
    "id": "vKmD0tKTtMde"
   },
   "source": [
    "## Ineuron Python Basic Programming Assignment 4"
   ]
  },
  {
   "cell_type": "markdown",
   "metadata": {
    "id": "HKStddGAtMLM"
   },
   "source": [
    "1. Write a Python Program to Find the Factorial of a Number?"
   ]
  },
  {
   "cell_type": "code",
   "execution_count": 1,
   "metadata": {
    "colab": {
     "base_uri": "https://localhost:8080/"
    },
    "id": "zYq2wMNAtmFl",
    "outputId": "64b2958f-08b5-436a-b75c-e95686bbbc83"
   },
   "outputs": [
    {
     "name": "stdout",
     "output_type": "stream",
     "text": [
      "Enter a Number 5\n",
      "Factorial of 5 is 120\n"
     ]
    }
   ],
   "source": [
    "x = int(input(\"Enter a Number \"))\n",
    "\n",
    "factorial = 1\n",
    "\n",
    "if x < 0:\n",
    "    print(\"Can not calculate Factorial of a negative number\")\n",
    "elif x == 0:\n",
    "    print(\"Factorial of zero is 1\")\n",
    "else:\n",
    "    for i in range(1,x+1):\n",
    "        factorial = factorial * i\n",
    "print(\"Factorial of {} is {}\".format(x, factorial))\n"
   ]
  },
  {
   "cell_type": "markdown",
   "metadata": {
    "id": "z6svYqTOtfiZ"
   },
   "source": [
    "\n",
    "2. Write a Python Program to Display the multiplication Table?"
   ]
  },
  {
   "cell_type": "code",
   "execution_count": 2,
   "metadata": {
    "colab": {
     "base_uri": "https://localhost:8080/"
    },
    "id": "F3Pen3JGurEF",
    "outputId": "8c78a100-4138-4617-bb7b-ecdb46ea241e"
   },
   "outputs": [
    {
     "name": "stdout",
     "output_type": "stream",
     "text": [
      "Enter the number for which you want to show the table:5\n",
      "5 x 1 = 5\n",
      "5 x 2 = 10\n",
      "5 x 3 = 15\n",
      "5 x 4 = 20\n",
      "5 x 5 = 25\n",
      "5 x 6 = 30\n",
      "5 x 7 = 35\n",
      "5 x 8 = 40\n",
      "5 x 9 = 45\n",
      "5 x 10 = 50\n"
     ]
    }
   ],
   "source": [
    "x = int(input(\"Enter the number for which you want to show the table:\"))\n",
    "for i in range(1,11):\n",
    "    print(\"{} x {} = {}\".format(x , i , x*i))"
   ]
  },
  {
   "cell_type": "markdown",
   "metadata": {
    "id": "9qrc4Dsctg_y"
   },
   "source": [
    "\n",
    "3. Write a Python Program to Print the Fibonacci sequence?"
   ]
  },
  {
   "cell_type": "code",
   "execution_count": 5,
   "metadata": {
    "colab": {
     "base_uri": "https://localhost:8080/"
    },
    "id": "E818IVEcvli1",
    "outputId": "39611d37-9951-475b-9673-676738d469af"
   },
   "outputs": [
    {
     "name": "stdout",
     "output_type": "stream",
     "text": [
      "Enter the number5\n"
     ]
    },
    {
     "data": {
      "text/plain": [
       "[1, 1, 2, 3, 5]"
      ]
     },
     "execution_count": 5,
     "metadata": {},
     "output_type": "execute_result"
    }
   ],
   "source": [
    "#sum of pervious two  numbers is equal to next number 0,1,1,2,3,5,...\n",
    "def gen_fib(n):\n",
    "    a = 1\n",
    "    b = 1\n",
    "    l = []\n",
    "    for i in range(n):\n",
    "        l.append(a)\n",
    "        a , b = b , a+b\n",
    "    return l  \n",
    "gen_fib(int(input(\"Enter the number\")))"
   ]
  },
  {
   "cell_type": "markdown",
   "metadata": {
    "id": "odFIkhHltiIH"
   },
   "source": [
    "\n",
    "4. Write a Python Program to Check Armstrong Number?"
   ]
  },
  {
   "cell_type": "code",
   "execution_count": 6,
   "metadata": {
    "colab": {
     "base_uri": "https://localhost:8080/"
    },
    "id": "j0h54nHXwZhp",
    "outputId": "3ee7d923-77bf-41b9-e0f1-c1b765c976cf"
   },
   "outputs": [
    {
     "name": "stdout",
     "output_type": "stream",
     "text": [
      "Enter the number : 135\n",
      "Not an armstrong number\n"
     ]
    }
   ],
   "source": [
    "#a number such that the sum ! of its digits raised to the third power is equal to the number ! itself. 153 1^3 + 5^3 + 3^3 = 153\n",
    "x = int(input(\"Enter the number : \"))\n",
    "power = len(str(x))\n",
    "y = x\n",
    "sum = 0\n",
    "while y > 0:\n",
    "    digit = y % 10\n",
    "    sum = sum + digit ** power\n",
    "    y = y//10\n",
    "if x == sum :\n",
    "    print(\"Number is armstrong number\")\n",
    "else:\n",
    "    print(\"Not an armstrong number\")\n"
   ]
  },
  {
   "cell_type": "markdown",
   "metadata": {
    "id": "s7mCa3VJtjSo"
   },
   "source": [
    "\n",
    "5. Write a Python Program to Find Armstrong Number in an Interval?\n"
   ]
  },
  {
   "cell_type": "code",
   "execution_count": 8,
   "metadata": {
    "colab": {
     "base_uri": "https://localhost:8080/"
    },
    "id": "yGJc1DD1zS5U",
    "outputId": "50639e63-7642-4f89-8494-5bba8a7adee7"
   },
   "outputs": [
    {
     "name": "stdout",
     "output_type": "stream",
     "text": [
      "Enter the lower number: 100\n",
      "Enter the upper number: 200\n",
      "153\n"
     ]
    }
   ],
   "source": [
    "x = int(input(\"Enter the lower number: \"))\n",
    "y = int(input(\"Enter the upper number: \"))\n",
    "\n",
    "for i in range(x,y+1):\n",
    "    power = len(str(i))\n",
    "    temp = i\n",
    "    sum = 0\n",
    "    while temp > 0:\n",
    "        digit = temp % 10\n",
    "        sum = sum + digit ** power\n",
    "        temp = temp//10\n",
    "    if i == sum :\n",
    "        print(i)"
   ]
  },
  {
   "cell_type": "markdown",
   "metadata": {
    "id": "c0IQ17ljtkzX"
   },
   "source": [
    "6. Write a Python Program to Find the Sum of Natural Numbers?"
   ]
  },
  {
   "cell_type": "code",
   "execution_count": 9,
   "metadata": {
    "colab": {
     "base_uri": "https://localhost:8080/"
    },
    "id": "-tyfjlfQzQrF",
    "outputId": "f49507f6-029c-437e-f095-aece6691b3e5"
   },
   "outputs": [
    {
     "name": "stdout",
     "output_type": "stream",
     "text": [
      "enter the number : 100\n",
      "Sum of natural numbers upto 100 is 5050\n"
     ]
    }
   ],
   "source": [
    "x = int(input(\"enter the number : \"))\n",
    "sum = 0\n",
    "for i in range(0,x+1):\n",
    "    sum+=i\n",
    "print(\"Sum of natural numbers upto {} is {}\".format(x,sum))"
   ]
  },
  {
   "cell_type": "code",
   "execution_count": null,
   "metadata": {},
   "outputs": [],
   "source": []
  }
 ],
 "metadata": {
  "colab": {
   "name": "Ineuron_Python_Basic_Programming_Assignment4",
   "provenance": []
  },
  "kernelspec": {
   "display_name": "Python 3 (ipykernel)",
   "language": "python",
   "name": "python3"
  },
  "language_info": {
   "codemirror_mode": {
    "name": "ipython",
    "version": 3
   },
   "file_extension": ".py",
   "mimetype": "text/x-python",
   "name": "python",
   "nbconvert_exporter": "python",
   "pygments_lexer": "ipython3",
   "version": "3.9.7"
  }
 },
 "nbformat": 4,
 "nbformat_minor": 1
}
