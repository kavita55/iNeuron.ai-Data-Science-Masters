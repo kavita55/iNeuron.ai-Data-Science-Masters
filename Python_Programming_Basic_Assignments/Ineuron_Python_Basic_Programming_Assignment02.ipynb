{
 "cells": [
  {
   "cell_type": "markdown",
   "metadata": {
    "id": "Vnd76joddEVF"
   },
   "source": [
    "## Ineuron Python Basic Programming Assignment 2"
   ]
  },
  {
   "cell_type": "markdown",
   "metadata": {
    "id": "dwToEmaHc4H2"
   },
   "source": [
    "1. Write a Python program to convert kilometers to miles?"
   ]
  },
  {
   "cell_type": "code",
   "execution_count": 1,
   "metadata": {
    "colab": {
     "base_uri": "https://localhost:8080/"
    },
    "id": "nbiZHfHXdNvk",
    "outputId": "c5c9ed9a-2499-4115-e718-8e42ebf15230"
   },
   "outputs": [
    {
     "name": "stdout",
     "output_type": "stream",
     "text": [
      "Enter Value: 20\n",
      "12.42\n"
     ]
    }
   ],
   "source": [
    "#1 kilometer (km) = 0.62137 miles (mi)\n",
    "\n",
    "value_to_convert = int(input(\"Enter Value: \"))\n",
    "converted_value = 0.621*value_to_convert\n",
    "print(converted_value)"
   ]
  },
  {
   "cell_type": "markdown",
   "metadata": {
    "id": "jSTHhBw2c6gz"
   },
   "source": [
    "\n",
    "2. Write a Python program to convert Celsius to Fahrenheit?"
   ]
  },
  {
   "cell_type": "code",
   "execution_count": 2,
   "metadata": {
    "colab": {
     "base_uri": "https://localhost:8080/"
    },
    "id": "El8dhEe_eBel",
    "outputId": "e7804d68-f1a4-407d-da5d-e2214218f861"
   },
   "outputs": [
    {
     "name": "stdout",
     "output_type": "stream",
     "text": [
      "Enter value for Celsius: 90\n",
      "Converted temperature to fahrenheit:194.0\n"
     ]
    }
   ],
   "source": [
    "# formula : (0°C × 1.8) + 32\n",
    "\n",
    "Celsius = int(input(\"Enter value for Celsius: \"))\n",
    "Fahrenheit_value = ( Celsius * 1.8 ) + 32\n",
    "print(\"Converted temperature to fahrenheit:{}\".format(Fahrenheit_value))"
   ]
  },
  {
   "cell_type": "markdown",
   "metadata": {
    "id": "rAFvZhKHc7iz"
   },
   "source": [
    "3. Write a Python program to display calendar?"
   ]
  },
  {
   "cell_type": "code",
   "execution_count": 3,
   "metadata": {
    "colab": {
     "base_uri": "https://localhost:8080/"
    },
    "id": "m3ptVGzIfboH",
    "outputId": "0eb22a05-84f1-43a3-801b-3889f048059e"
   },
   "outputs": [
    {
     "name": "stdout",
     "output_type": "stream",
     "text": [
      "Enter Year:2022\n",
      "Enter Month:5\n",
      "      May 2022\n",
      "Mo Tu We Th Fr Sa Su\n",
      "                   1\n",
      " 2  3  4  5  6  7  8\n",
      " 9 10 11 12 13 14 15\n",
      "16 17 18 19 20 21 22\n",
      "23 24 25 26 27 28 29\n",
      "30 31\n",
      "\n"
     ]
    }
   ],
   "source": [
    "import calendar\n",
    "year_ = int(input(\"Enter Year:\"))\n",
    "month_ = int(input(\"Enter Month:\"))   \n",
    "print(calendar.month(year_, month_))"
   ]
  },
  {
   "cell_type": "markdown",
   "metadata": {
    "id": "JOQ0Brs9dAhG"
   },
   "source": [
    "\n",
    "4. Write a Python program to solve quadratic equation?"
   ]
  },
  {
   "cell_type": "code",
   "execution_count": 4,
   "metadata": {
    "colab": {
     "base_uri": "https://localhost:8080/"
    },
    "id": "gxzwPbnigDIz",
    "outputId": "44040d02-d887-42fd-c04a-687c699fb636"
   },
   "outputs": [
    {
     "name": "stdout",
     "output_type": "stream",
     "text": [
      "Enter a = 1\n",
      "Enter b = 1\n",
      "Enter c = 1\n",
      "(-0.5+0.8660254037844386j) , (-0.5-0.8660254037844386j)\n"
     ]
    }
   ],
   "source": [
    "#x=-b+-sqrt(b**2-4ac)/2*a\n",
    "#a, b, c = known numbers, where a ≠ 0\n",
    "#x = the unknown\n",
    "\n",
    "import cmath\n",
    "a=int(input(\"Enter a = \"))\n",
    "b=int(input(\"Enter b = \"))\n",
    "c=int(input(\"Enter c = \"))\n",
    "\n",
    "discriminant = (b**2)-(4*a*c)\n",
    "solution_one = (-b+cmath.sqrt(discriminant))/(2*a)\n",
    "solution_two = (-b-cmath.sqrt(discriminant))/(2*a)\n",
    "print(solution_one ,\",\", solution_two)"
   ]
  },
  {
   "cell_type": "markdown",
   "metadata": {
    "id": "It8YEzlldBht"
   },
   "source": [
    "\n",
    "5. Write a Python program to swap two variables without temp variable?"
   ]
  },
  {
   "cell_type": "code",
   "execution_count": 5,
   "metadata": {
    "colab": {
     "base_uri": "https://localhost:8080/"
    },
    "id": "aw2cZOf8iFYE",
    "outputId": "677a1384-adae-4373-d4f3-4dddc88cbc05"
   },
   "outputs": [
    {
     "name": "stdout",
     "output_type": "stream",
     "text": [
      "Enter a = 3\n",
      "Enter b = 4\n",
      "Value for a: 4 value for b: 3\n"
     ]
    }
   ],
   "source": [
    "a=int(input(\"Enter a = \"))\n",
    "b=int(input(\"Enter b = \"))\n",
    "a, b, = b, a\n",
    "print(\"Value for a: {}\".format(a), \"value for b: {}\".format(b))"
   ]
  }
 ],
 "metadata": {
  "colab": {
   "name": "Ineuron_Python_Basic_Programming_Assignment2.ipynb",
   "provenance": []
  },
  "kernelspec": {
   "display_name": "Python 3 (ipykernel)",
   "language": "python",
   "name": "python3"
  },
  "language_info": {
   "codemirror_mode": {
    "name": "ipython",
    "version": 3
   },
   "file_extension": ".py",
   "mimetype": "text/x-python",
   "name": "python",
   "nbconvert_exporter": "python",
   "pygments_lexer": "ipython3",
   "version": "3.9.7"
  }
 },
 "nbformat": 4,
 "nbformat_minor": 1
}
