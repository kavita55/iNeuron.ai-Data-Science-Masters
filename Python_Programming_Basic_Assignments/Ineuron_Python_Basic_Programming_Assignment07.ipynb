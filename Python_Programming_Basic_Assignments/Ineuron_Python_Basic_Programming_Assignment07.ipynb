{
 "cells": [
  {
   "cell_type": "markdown",
   "metadata": {
    "id": "jxXHId8lNcLN"
   },
   "source": [
    "## Ineuron Python Basic Programming Assignment 7"
   ]
  },
  {
   "cell_type": "markdown",
   "metadata": {
    "id": "BP_zhZugNlLe"
   },
   "source": [
    "1. Write a Python Program to find sum of array?\n"
   ]
  },
  {
   "cell_type": "code",
   "execution_count": 1,
   "metadata": {
    "colab": {
     "base_uri": "https://localhost:8080/"
    },
    "id": "n72bOZsDN0kL",
    "outputId": "da6f2c9c-99b4-4fc5-8283-19cd26c6e361"
   },
   "outputs": [
    {
     "name": "stdout",
     "output_type": "stream",
     "text": [
      "Sum of array: 21\n"
     ]
    }
   ],
   "source": [
    "l = [1,2,3,4,5,6]\n",
    "sum = 0\n",
    "for i in range(len(l)):\n",
    "    sum += l[i]\n",
    "print(\"Sum of array: {}\".format(sum))\n"
   ]
  },
  {
   "cell_type": "markdown",
   "metadata": {
    "id": "2JxZ5n6ANtwS"
   },
   "source": [
    "2. Write a Python Program to find largest element in an array?"
   ]
  },
  {
   "cell_type": "code",
   "execution_count": 2,
   "metadata": {
    "colab": {
     "base_uri": "https://localhost:8080/"
    },
    "id": "80engdYgO3kA",
    "outputId": "71ab1fef-14a7-4743-b231-3463d3f46155"
   },
   "outputs": [
    {
     "name": "stdout",
     "output_type": "stream",
     "text": [
      "Largest element in [1, 2, 3, 4, 5, 6] is 6\n"
     ]
    }
   ],
   "source": [
    "l = [1,2,3,4,5,6]\n",
    "c = 0\n",
    "for i in range(len(l)):\n",
    "    if c > l[i]:\n",
    "        print(c)\n",
    "    else :\n",
    "        c = l[i]\n",
    "print(\"Largest element in {} is {}\".format(l ,c) )"
   ]
  },
  {
   "cell_type": "markdown",
   "metadata": {
    "id": "CJhltNytNvcj"
   },
   "source": [
    "\n",
    "3. Write a Python Program for array rotation?"
   ]
  },
  {
   "cell_type": "code",
   "execution_count": 3,
   "metadata": {
    "colab": {
     "base_uri": "https://localhost:8080/"
    },
    "id": "4bnECbdVQJSl",
    "outputId": "77b16dfb-d900-43c0-b7ba-6307faa3f39f"
   },
   "outputs": [
    {
     "data": {
      "text/plain": [
       "[6, 5, 4, 3, 2, 1]"
      ]
     },
     "execution_count": 3,
     "metadata": {},
     "output_type": "execute_result"
    }
   ],
   "source": [
    "arr = [1,2,3,4,5,6]\n",
    "\n",
    "arr[ : : -1]"
   ]
  },
  {
   "cell_type": "markdown",
   "metadata": {
    "id": "1hk8bN8sNw9S"
   },
   "source": [
    "\n",
    "4. Write a Python Program to Split the array and add the first part to the end?"
   ]
  },
  {
   "cell_type": "code",
   "execution_count": 4,
   "metadata": {
    "colab": {
     "base_uri": "https://localhost:8080/"
    },
    "id": "DyCMPBz3QssH",
    "outputId": "eb0dc101-e0ed-4919-c45d-094fa48bdce0"
   },
   "outputs": [
    {
     "name": "stdout",
     "output_type": "stream",
     "text": [
      "Enter the lenth of your list : 4\n",
      "1\n",
      "2\n",
      "3\n",
      "4\n",
      "The List   [1, 2, 3, 4]\n",
      "Enter the number of elements to split  : 2\n",
      "The split list is : [1, 2]\n",
      "The List after split and add : [3, 4, 1, 2]\n"
     ]
    }
   ],
   "source": [
    "l = int(input(\"Enter the lenth of your list : \"))\n",
    "arr = []\n",
    "for i in range(l):\n",
    "    arr.append(int(input()))\n",
    "print(\"The List  \",arr)\n",
    "\n",
    "n = int(input(\"Enter the number of elements to split  : \"))\n",
    "if n > l:\n",
    "    print(\"can not split as elements to split is larger then list length\")\n",
    "else:\n",
    "    print(\"The split list is :\",arr[:n])\n",
    "    arr[:] = arr[n:l] + arr[:n]\n",
    "    print(\"The List after split and add :\", arr)"
   ]
  },
  {
   "cell_type": "markdown",
   "metadata": {
    "id": "y515kHMTNyKa"
   },
   "source": [
    "\n",
    "5. Write a Python Program to check if given array is Monotonic?"
   ]
  },
  {
   "cell_type": "code",
   "execution_count": 5,
   "metadata": {
    "colab": {
     "base_uri": "https://localhost:8080/"
    },
    "id": "SJuSKaSANbOZ",
    "outputId": "e49fa732-0ff0-4517-ca91-de17942536a3"
   },
   "outputs": [
    {
     "name": "stdout",
     "output_type": "stream",
     "text": [
      "Enter the lenth of your list : 5\n",
      "1\n",
      "2\n",
      "3\n",
      "4\n",
      "5\n",
      "The List is  [1, 2, 3, 4, 5]\n",
      "Monotonic\n"
     ]
    }
   ],
   "source": [
    "l = int(input(\"Enter the lenth of your list : \"))\n",
    "arr = []\n",
    "for i in range(l):\n",
    "    arr.append(int(input()))\n",
    "print(\"The List is \",arr)\n",
    "\n",
    "if all((arr[i] <= arr[i+1] for i in range(l-1))):\n",
    "    print(\"Monotonic\")\n",
    "else:\n",
    "    print(\"Not Monotonic\")"
   ]
  },
  {
   "cell_type": "code",
   "execution_count": null,
   "metadata": {},
   "outputs": [],
   "source": []
  }
 ],
 "metadata": {
  "colab": {
   "name": "Ineuron_Python_Basic_Programming_Assignment7.ipynb",
   "provenance": []
  },
  "kernelspec": {
   "display_name": "Python 3 (ipykernel)",
   "language": "python",
   "name": "python3"
  },
  "language_info": {
   "codemirror_mode": {
    "name": "ipython",
    "version": 3
   },
   "file_extension": ".py",
   "mimetype": "text/x-python",
   "name": "python",
   "nbconvert_exporter": "python",
   "pygments_lexer": "ipython3",
   "version": "3.9.7"
  }
 },
 "nbformat": 4,
 "nbformat_minor": 1
}
