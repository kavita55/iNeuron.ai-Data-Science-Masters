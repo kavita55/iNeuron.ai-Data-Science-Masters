{
 "cells": [
  {
   "cell_type": "markdown",
   "metadata": {
    "id": "StdO4rFZSpbD"
   },
   "source": [
    "## Ineuron Python Basic Programming Assignment 8"
   ]
  },
  {
   "cell_type": "markdown",
   "metadata": {
    "id": "l3DI-HjmVrcX"
   },
   "source": [
    "1. Write a Python Program to Add Two Matrices?\n"
   ]
  },
  {
   "cell_type": "code",
   "execution_count": 1,
   "metadata": {
    "colab": {
     "base_uri": "https://localhost:8080/"
    },
    "id": "RblvWrMaVyzP",
    "outputId": "07b23bc2-5306-40c8-e618-c8c5e62e142d"
   },
   "outputs": [
    {
     "name": "stdout",
     "output_type": "stream",
     "text": [
      "The Sum of two matrix \n",
      "\n",
      "[[1 2 3]\n",
      " [4 5 6]\n",
      " [7 8 8]]  and \n",
      "\n",
      "[[1 2 3]\n",
      " [4 5 6]\n",
      " [7 8 9]]  is \n",
      "\n",
      "[[ 2  4  6]\n",
      " [ 8 10 12]\n",
      " [14 16 17]] \n"
     ]
    }
   ],
   "source": [
    "import numpy as np\n",
    "mat1 = np.array([[1,2,3],\n",
    "                 [4,5,6],\n",
    "                 [7,8,8]])\n",
    "\n",
    "mat2 = np.array([[1,2,3],\n",
    "                 [4,5,6],\n",
    "                 [7,8,9]])\n",
    "\n",
    "Matsum = np.add(mat1,mat2)\n",
    "print(\"The Sum of two matrix \\n\\n{}  and \\n\\n{}  is \\n\\n{} \".format(mat1,mat2,Matsum))"
   ]
  },
  {
   "cell_type": "markdown",
   "metadata": {
    "id": "b_d5IykMVrY1"
   },
   "source": [
    "2. Write a Python Program to Multiply Two Matrices?"
   ]
  },
  {
   "cell_type": "code",
   "execution_count": 2,
   "metadata": {
    "colab": {
     "base_uri": "https://localhost:8080/"
    },
    "id": "7rKXxzZpWEG9",
    "outputId": "d664db0c-a0ab-4b43-f8c5-1fb079e9b218"
   },
   "outputs": [
    {
     "name": "stdout",
     "output_type": "stream",
     "text": [
      "The product of two matrix \n",
      "\n",
      "[[1 2 3]\n",
      " [4 5 6]\n",
      " [7 8 8]]  and \n",
      "\n",
      "[[1 2 3]\n",
      " [4 5 6]\n",
      " [7 8 9]]  is \n",
      "\n",
      "[[ 30  36  42]\n",
      " [ 66  81  96]\n",
      " [ 95 118 141]] \n"
     ]
    }
   ],
   "source": [
    "import numpy as np\n",
    "mat1 = np.array([[1,2,3],\n",
    "        [4,5,6],\n",
    "        [7,8,8]])\n",
    "mat2 = np.array([[1,2,3],\n",
    "        [4,5,6],\n",
    "        [7,8,9]])\n",
    "\n",
    "mulMat = np.dot(mat1,mat2)\n",
    "print(\"The product of two matrix \\n\\n{}  and \\n\\n{}  is \\n\\n{} \".format(mat1,mat2,mulMat))"
   ]
  },
  {
   "cell_type": "markdown",
   "metadata": {
    "id": "MoIc5-BxVrWF"
   },
   "source": [
    "\n",
    "3. Write a Python Program to Transpose a Matrix?"
   ]
  },
  {
   "cell_type": "code",
   "execution_count": 6,
   "metadata": {
    "colab": {
     "base_uri": "https://localhost:8080/"
    },
    "id": "vqE2G5zEWatc",
    "outputId": "d622cdca-4cb6-4240-8bcf-a5d57f29f6c7"
   },
   "outputs": [
    {
     "name": "stdout",
     "output_type": "stream",
     "text": [
      "[[1 2 3]\n",
      " [4 5 6]\n",
      " [7 8 8]]\n",
      "\n",
      "\n",
      "Tnasposed matrix [[1 4 7]\n",
      " [2 5 8]\n",
      " [3 6 8]]\n"
     ]
    }
   ],
   "source": [
    "import numpy \n",
    "mat1 = np.array([[1,2,3],\n",
    "        [4,5,6],\n",
    "        [7,8,8]])\n",
    "print(mat1)\n",
    "print(\"\\n\")\n",
    "print(\"Tnasposed matrix\",numpy.transpose(mat1))"
   ]
  },
  {
   "cell_type": "markdown",
   "metadata": {
    "id": "6UlV4L7WVrUA"
   },
   "source": [
    "\n",
    "4. Write a Python Program to Sort Words in Alphabetic Order?"
   ]
  },
  {
   "cell_type": "code",
   "execution_count": 3,
   "metadata": {
    "colab": {
     "base_uri": "https://localhost:8080/"
    },
    "id": "eGUPRsrHXBPW",
    "outputId": "0ef87297-0506-4da9-a427-832358ffb10c"
   },
   "outputs": [
    {
     "name": "stdout",
     "output_type": "stream",
     "text": [
      "Enter stringa b c d t e \n",
      "a\n",
      "b\n",
      "c\n",
      "d\n",
      "e\n",
      "t\n"
     ]
    }
   ],
   "source": [
    "input_string = input(\"Enter string\")\n",
    "words = input_string.split()\n",
    "words.sort()\n",
    "for word in words:\n",
    "    print(word)"
   ]
  },
  {
   "cell_type": "markdown",
   "metadata": {
    "id": "jQS05D_HVrAC"
   },
   "source": [
    "\n",
    "5. Write a Python Program to Remove Punctuation From a String?"
   ]
  },
  {
   "cell_type": "code",
   "execution_count": 4,
   "metadata": {
    "colab": {
     "base_uri": "https://localhost:8080/"
    },
    "id": "R1gcAZnlSmtF",
    "outputId": "b8404521-28a8-458a-cc4a-f98db3e21b22"
   },
   "outputs": [
    {
     "name": "stdout",
     "output_type": "stream",
     "text": [
      "Enter a string with punctuations:kavita !!!!! Surendra@\n",
      "kavita  Surendra\n"
     ]
    }
   ],
   "source": [
    "punctuations = '''!()-[]{};:'\"\\,<>./?@#$%^&*_~'''\n",
    "input_string = input(\"Enter a string with punctuations:\")\n",
    "rem_punc = \"\"\n",
    "for i in input_string:\n",
    "    if i not in punctuations:\n",
    "        rem_punc = rem_punc + i\n",
    "print(rem_punc)"
   ]
  },
  {
   "cell_type": "code",
   "execution_count": null,
   "metadata": {},
   "outputs": [],
   "source": []
  }
 ],
 "metadata": {
  "colab": {
   "name": "Ineuron_Python_Basic_Programming_Assignment8.ipynb",
   "provenance": []
  },
  "kernelspec": {
   "display_name": "Python 3 (ipykernel)",
   "language": "python",
   "name": "python3"
  },
  "language_info": {
   "codemirror_mode": {
    "name": "ipython",
    "version": 3
   },
   "file_extension": ".py",
   "mimetype": "text/x-python",
   "name": "python",
   "nbconvert_exporter": "python",
   "pygments_lexer": "ipython3",
   "version": "3.9.7"
  }
 },
 "nbformat": 4,
 "nbformat_minor": 1
}
