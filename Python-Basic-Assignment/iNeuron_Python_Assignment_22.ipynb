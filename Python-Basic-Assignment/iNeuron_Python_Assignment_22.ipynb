{
 "cells": [
  {
   "cell_type": "markdown",
   "id": "b522a1c9",
   "metadata": {},
   "source": [
    "## iNeuron Python Assignment 22"
   ]
  },
  {
   "cell_type": "markdown",
   "id": "6ba441cb",
   "metadata": {},
   "source": [
    "**1. What is the result of the code, and explain?**\n",
    "\n",
    "&gt;&gt;&gt; X = &#39;iNeuron&#39;<br>\n",
    "&gt;&gt;&gt; def func():<br>\n",
    "print(X)<br>\n",
    "\n",
    "&gt;&gt;&gt; func()<br>\n",
    "\n"
   ]
  },
  {
   "cell_type": "code",
   "execution_count": 1,
   "id": "0896dfbb",
   "metadata": {},
   "outputs": [
    {
     "name": "stdout",
     "output_type": "stream",
     "text": [
      "iNeuron\n"
     ]
    }
   ],
   "source": [
    "X = 'iNeuron'\n",
    "def func():\n",
    "    print(X)\n",
    "func()\n",
    "\n"
   ]
  },
  {
   "cell_type": "markdown",
   "id": "6f7a5d29",
   "metadata": {},
   "source": [
    "We have defined a global variable and then printed it inside the function. Global variable is accessible in the function as well. That's why the solution is 'iNeuron'"
   ]
  },
  {
   "cell_type": "markdown",
   "id": "a92e1ceb",
   "metadata": {},
   "source": [
    "**2. What is the result of the code, and explain?**\n",
    "\n",
    "&gt;&gt;&gt; X = &#39;iNeuron&#39;<br>\n",
    "&gt;&gt;&gt; def func():<br>\n",
    "X = &#39;NI!&#39;<br>\n",
    "\n",
    "&gt;&gt;&gt; func()<br>\n",
    "&gt;&gt;&gt; print(X)<br>\n",
    "\n"
   ]
  },
  {
   "cell_type": "code",
   "execution_count": 2,
   "id": "c7e810b2",
   "metadata": {},
   "outputs": [
    {
     "name": "stdout",
     "output_type": "stream",
     "text": [
      "iNeuron\n"
     ]
    }
   ],
   "source": [
    "X = 'iNeuron'\n",
    "def func():\n",
    "    X = 'NI!'\n",
    "\n",
    "func()\n",
    "print(X)\n",
    "\n"
   ]
  },
  {
   "cell_type": "markdown",
   "id": "134b82bd",
   "metadata": {},
   "source": [
    "The global variables are accessible inside the functions in python. But we can not access function variable outside function.\n",
    "Since x is golbal variable and we printed it outside of the function solution that we got is 'iNeuron'"
   ]
  },
  {
   "cell_type": "markdown",
   "id": "11738d42",
   "metadata": {},
   "source": [
    "**3. What does this code print, and why?**\n",
    "\n",
    "&gt;&gt;&gt; X = &#39;iNeuron&#39;<br>\n",
    "&gt;&gt;&gt; def func():<br>\n",
    "X = &#39;NI&#39;<br>\n",
    "print(X)<br>\n",
    "\n",
    "&gt;&gt;&gt; func()<br>\n",
    "&gt;&gt;&gt; print(X)<br>\n",
    "\n"
   ]
  },
  {
   "cell_type": "code",
   "execution_count": 3,
   "id": "3f1ce540",
   "metadata": {},
   "outputs": [
    {
     "name": "stdout",
     "output_type": "stream",
     "text": [
      "NI!\n",
      "iNeuron\n"
     ]
    }
   ],
   "source": [
    "X = 'iNeuron'\n",
    "def func():\n",
    "    X = 'NI!'\n",
    "    print(X)\n",
    "\n",
    "func()\n",
    "print(X)\n",
    "\n"
   ]
  },
  {
   "cell_type": "markdown",
   "id": "55abe2dc",
   "metadata": {},
   "source": [
    "The global variables are accessible inside the functions in python. But we can not access function variable outside function. X is updated with 'NI' which is local to function and its immutable. its name space is within the function solution = 'NI!'and other solution is 'iNeuron' which we got as X is global variable\n"
   ]
  },
  {
   "cell_type": "markdown",
   "id": "50a9f4fb",
   "metadata": {},
   "source": [
    "**4. What output does this code produce? Why?**\n",
    "\n",
    "&gt;&gt;&gt; X = &#39;iNeuron&#39;<br>\n",
    "&gt;&gt;&gt; def func():<br>\n",
    "global X<br>\n",
    "X = &#39;NI&#39;<br>\n",
    "\n",
    "&gt;&gt;&gt; func()<br>\n",
    "&gt;&gt;&gt; print(X)<br>\n",
    "\n"
   ]
  },
  {
   "cell_type": "code",
   "execution_count": 4,
   "id": "bab849cc",
   "metadata": {},
   "outputs": [
    {
     "name": "stdout",
     "output_type": "stream",
     "text": [
      "NI!\n",
      "NI!\n"
     ]
    }
   ],
   "source": [
    "X = 'iNeuron'\n",
    "def func():\n",
    "    global X\n",
    "    X = 'NI!'\n",
    "    print(X)\n",
    "\n",
    "func()\n",
    "print(X)\n"
   ]
  },
  {
   "cell_type": "markdown",
   "id": "2c0d63c2",
   "metadata": {},
   "source": [
    "since the X inside function is defined as Global, it will be accesible out side of the function too. Now X will have new value.\n",
    "\n",
    "That's why we got this solution 'NI!', 'NI!'"
   ]
  },
  {
   "cell_type": "markdown",
   "id": "858b4760",
   "metadata": {},
   "source": [
    "**5. What about this code—what’s the output, and why?**\n",
    "\n",
    "&gt;&gt;&gt; X = &#39;iNeuron&#39;<br>\n",
    "&gt;&gt;&gt; def func():<br>\n",
    "X = &#39;NI&#39;<br>\n",
    "def nested():<br>\n",
    "print(X)<br>\n",
    "nested()<br>\n",
    "\n",
    "&gt;&gt;&gt; func()<br>\n",
    "&gt;&gt;&gt; X<br>\n",
    "\n"
   ]
  },
  {
   "cell_type": "code",
   "execution_count": 5,
   "id": "8a3ca2df",
   "metadata": {},
   "outputs": [
    {
     "name": "stdout",
     "output_type": "stream",
     "text": [
      "iNeuron\n"
     ]
    },
    {
     "data": {
      "text/plain": [
       "'iNeuron'"
      ]
     },
     "execution_count": 5,
     "metadata": {},
     "output_type": "execute_result"
    }
   ],
   "source": [
    "X = 'iNeuron'\n",
    "def func():\n",
    "    X = 'NI'\n",
    "def nested():\n",
    "    print(X)\n",
    "    \n",
    "nested()\n",
    "func()\n",
    "X\n",
    "\n"
   ]
  },
  {
   "cell_type": "markdown",
   "id": "4d5fc3f2",
   "metadata": {},
   "source": [
    "The nested() function will print 'iNeuron', Then func() does not display anything as it doesn't have a return statement\n",
    "and x ='NI' is not accessible out \n",
    "side the function.\n",
    "So we got this result"
   ]
  },
  {
   "cell_type": "markdown",
   "id": "8ba73735",
   "metadata": {},
   "source": [
    "**6. How about this code: what is its output in Python 3, and explain?**\n",
    "\n",
    "&gt;&gt;&gt; def func():<br>\n",
    "X = &#39;NI&#39;<br>\n",
    "def nested():<br>\n",
    "nonlocal X<br>\n",
    "X = &#39;Spam&#39;<br>\n",
    "nested()<br>\n",
    "print(X)<br>\n",
    "\n",
    "&gt;&gt;&gt; func()<br>"
   ]
  },
  {
   "cell_type": "code",
   "execution_count": 6,
   "id": "fa0d5b59",
   "metadata": {},
   "outputs": [
    {
     "name": "stdout",
     "output_type": "stream",
     "text": [
      "spam\n"
     ]
    }
   ],
   "source": [
    "def func():\n",
    "    X = 'NI'\n",
    "    def nested():\n",
    "        nonlocal X\n",
    "        X = 'spam'\n",
    "    nested()\n",
    "    print(X)\n",
    "\n",
    "func()\n",
    "\n"
   ]
  },
  {
   "cell_type": "markdown",
   "id": "d6789beb",
   "metadata": {},
   "source": [
    "Nonlocal variables are used in nested functions whose local scope is not defined. \n",
    "This means that the variable can be neither in the local nor the global scope. it print the updated value from nested \n",
    "function\n",
    "Hence the solution"
   ]
  },
  {
   "cell_type": "code",
   "execution_count": null,
   "id": "9886bf28",
   "metadata": {},
   "outputs": [],
   "source": []
  }
 ],
 "metadata": {
  "kernelspec": {
   "display_name": "Python 3 (ipykernel)",
   "language": "python",
   "name": "python3"
  },
  "language_info": {
   "codemirror_mode": {
    "name": "ipython",
    "version": 3
   },
   "file_extension": ".py",
   "mimetype": "text/x-python",
   "name": "python",
   "nbconvert_exporter": "python",
   "pygments_lexer": "ipython3",
   "version": "3.9.7"
  }
 },
 "nbformat": 4,
 "nbformat_minor": 5
}
