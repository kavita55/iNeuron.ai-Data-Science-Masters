{
 "cells": [
  {
   "cell_type": "markdown",
   "id": "2d7deb67",
   "metadata": {},
   "source": [
    "## iNeuron_Python_Assignment_08\n"
   ]
  },
  {
   "cell_type": "markdown",
   "id": "5f0ac77f",
   "metadata": {},
   "source": [
    "**1. Is the Python Standard Library included with PyInputPlus?**\n",
    "\n"
   ]
  },
  {
   "cell_type": "markdown",
   "id": "66f1d62f",
   "metadata": {},
   "source": [
    "PyInputPlus is a Python module used for taking inputs with additional validation features. PyInputPlus will keep asking the user for text until they enter valid input.\n",
    "\n"
   ]
  },
  {
   "cell_type": "markdown",
   "id": "91e50195",
   "metadata": {},
   "source": [
    "**2. Why is PyInputPlus commonly imported with import pyinputplus as pypi?**\n"
   ]
  },
  {
   "cell_type": "markdown",
   "id": "1dc84a49",
   "metadata": {},
   "source": [
    "We can import the module with import pyinputplus as pyip so that we can enter a shorter name when calling the module’s functions.<br>\n",
    "\n",
    "PyInputPlus has functions for entering a variety of input, including strings, numbers, dates, yes/no, True/False, emails, and files. While input() always returns a string, these functions return the value in an appropriate data type. The inputChoice() function allows us to select one of several pre-selected options, while inputMenu() also adds numbers or letters for quick selection."
   ]
  },
  {
   "cell_type": "markdown",
   "id": "79ac233e",
   "metadata": {},
   "source": [
    "**3. How do you distinguish between inputInt() and inputFloat()?**\n"
   ]
  },
  {
   "cell_type": "markdown",
   "id": "99a50bbb",
   "metadata": {},
   "source": [
    "inputInt() : Accepts an integer value. This also takes additional parameters ‘min’, ‘max’, ‘greaterThan’ and ‘lessThan’ for bounds. Returns an int.<br>\n",
    "\n",
    "inputFloat() : Accepts a floating-point numeric value. Also takes additional ‘min’, ‘max’, ‘greaterThan’ and ‘lessThan’ parameters. Returns a float.<br>"
   ]
  },
  {
   "cell_type": "markdown",
   "id": "9d98f2d6",
   "metadata": {},
   "source": [
    "**4. Using PyInputPlus, how do you ensure that the user enters a whole number between 0 and 99?**\n"
   ]
  },
  {
   "cell_type": "code",
   "execution_count": null,
   "id": "438f87d4",
   "metadata": {},
   "outputs": [],
   "source": [
    "pip install pyinputplus\n"
   ]
  },
  {
   "cell_type": "code",
   "execution_count": null,
   "id": "f1c54d6d",
   "metadata": {
    "scrolled": true
   },
   "outputs": [],
   "source": [
    "import pyinputplus as pyip\n",
    "\n",
    "inp = pyip.inputNum(prompt='', default=0, greaterThan=0, lessThan=100)\n",
    "  \n",
    "print(inp)"
   ]
  },
  {
   "cell_type": "markdown",
   "id": "979f13c2",
   "metadata": {},
   "source": [
    "**5. What is transferred to the keyword arguments allowRegexes and blockRegexes?**\n"
   ]
  },
  {
   "cell_type": "markdown",
   "id": "998a6c1d",
   "metadata": {},
   "source": [
    "def inputNum(prompt='', default=None, blank=False, timeout=None, limit=None, strip=None, allowRegexes=None, blockRegexes=None, applyFunc=None, postValidateApplyFunc=None, min=None, max=None, greaterThan=None, lessThan=None)\n",
    "\n",
    "Certain inputs can be blocked (that is, these values are invalidated) by setting the blockRegexes parameter’s value as the regex pattern we want to invalidate viceversa for allowRegexes."
   ]
  },
  {
   "cell_type": "code",
   "execution_count": null,
   "id": "ac28ecb1",
   "metadata": {},
   "outputs": [],
   "source": [
    "import pyinputplus as pyip\n",
    "inp = pyip.inputStr(prompt=\"Enter a string... \",blank=True, blockRegexes = 'aeiou') #strung with vowels will be invalidated\n",
    "\n",
    "print(inp)"
   ]
  },
  {
   "cell_type": "markdown",
   "id": "2ff1d4e6",
   "metadata": {},
   "source": [
    "**6. If a blank input is entered three times, what does inputStr(limit=3) do?**\n"
   ]
  },
  {
   "cell_type": "markdown",
   "id": "81d79454",
   "metadata": {},
   "source": [
    " inputStr() raises a TimeoutException exception. If the user answers incorrectly more than 3 times, it raises a RetryLimitException exception."
   ]
  },
  {
   "cell_type": "markdown",
   "id": "cee46e16",
   "metadata": {},
   "source": [
    "**7. If blank input is entered three times, what does inputStr(limit=3, default='hello') do?**"
   ]
  },
  {
   "cell_type": "markdown",
   "id": "d2f0e922",
   "metadata": {},
   "source": [
    "If the user answers incorrectly more than 3 times, then default value Hello will be printed."
   ]
  },
  {
   "cell_type": "code",
   "execution_count": null,
   "id": "eedbc860",
   "metadata": {},
   "outputs": [],
   "source": [
    "import pyinputplus as pyip\n",
    "inp = pyip.inputStr(limit=3, default='hello') #strung with vowels will be invalidated\n",
    "\n",
    "print(inp)"
   ]
  },
  {
   "cell_type": "code",
   "execution_count": null,
   "id": "129b6122",
   "metadata": {},
   "outputs": [],
   "source": []
  }
 ],
 "metadata": {
  "kernelspec": {
   "display_name": "Python 3 (ipykernel)",
   "language": "python",
   "name": "python3"
  },
  "language_info": {
   "codemirror_mode": {
    "name": "ipython",
    "version": 3
   },
   "file_extension": ".py",
   "mimetype": "text/x-python",
   "name": "python",
   "nbconvert_exporter": "python",
   "pygments_lexer": "ipython3",
   "version": "3.9.7"
  }
 },
 "nbformat": 4,
 "nbformat_minor": 5
}
