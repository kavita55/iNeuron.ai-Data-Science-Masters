{
 "cells": [
  {
   "cell_type": "markdown",
   "id": "2d7deb67",
   "metadata": {},
   "source": [
    "## iNeuron_Python_Assignment_04"
   ]
  },
  {
   "cell_type": "markdown",
   "id": "075ad24e",
   "metadata": {},
   "source": [
    "**1. What exactly is []?**<br>\n",
    "[] is an empty list in Python. A list is created by placing elements inside square brackets [] , separated by commas.\n",
    "<br>\n",
    "<br>"
   ]
  },
  {
   "cell_type": "markdown",
   "id": "79a6c51a",
   "metadata": {},
   "source": [
    "**2. In a list of values stored in a variable called spam, how would you assign the value 'hello' as the third value? (Assume [2, 4, 6, 8, 10] are in spam.)** <br>\n",
    "\n"
   ]
  },
  {
   "cell_type": "code",
   "execution_count": 1,
   "id": "c0ac64ae",
   "metadata": {},
   "outputs": [
    {
     "data": {
      "text/plain": [
       "[2, 4, 'hello', 8, 10]"
      ]
     },
     "execution_count": 1,
     "metadata": {},
     "output_type": "execute_result"
    }
   ],
   "source": [
    "spam = [ 2, 4, 6, 8, 10 ]\n",
    "spam[2] = 'hello'\n",
    "spam"
   ]
  },
  {
   "cell_type": "markdown",
   "id": "ece6ae8e",
   "metadata": {},
   "source": [
    "**Let's pretend the spam includes the list ['a', 'b', 'c', 'd'] for the next three queries. <br>**"
   ]
  },
  {
   "cell_type": "markdown",
   "id": "9a8d4e34",
   "metadata": {},
   "source": [
    "**3. What is the value of spam[int(int('3' * 2) / 11)]?**\n"
   ]
  },
  {
   "cell_type": "code",
   "execution_count": 2,
   "id": "2abdb135",
   "metadata": {},
   "outputs": [
    {
     "data": {
      "text/plain": [
       "'d'"
      ]
     },
     "execution_count": 2,
     "metadata": {},
     "output_type": "execute_result"
    }
   ],
   "source": [
    "spam = ['a', 'b', 'c', 'd'] \n",
    "spam[int(int('3' * 2) / 11)]"
   ]
  },
  {
   "cell_type": "markdown",
   "id": "942c282a",
   "metadata": {},
   "source": [
    "**4. What is the value of spam[-1]?**\n"
   ]
  },
  {
   "cell_type": "code",
   "execution_count": 3,
   "id": "7c6e0202",
   "metadata": {},
   "outputs": [
    {
     "data": {
      "text/plain": [
       "'d'"
      ]
     },
     "execution_count": 3,
     "metadata": {},
     "output_type": "execute_result"
    }
   ],
   "source": [
    "spam[-1]"
   ]
  },
  {
   "cell_type": "markdown",
   "id": "9fcb6734",
   "metadata": {},
   "source": [
    "**5. What is the value of spam[:2]?<br>**\n",
    "\n"
   ]
  },
  {
   "cell_type": "code",
   "execution_count": 4,
   "id": "09b1f0ac",
   "metadata": {},
   "outputs": [
    {
     "data": {
      "text/plain": [
       "['a', 'b']"
      ]
     },
     "execution_count": 4,
     "metadata": {},
     "output_type": "execute_result"
    }
   ],
   "source": [
    "spam[:2]"
   ]
  },
  {
   "cell_type": "markdown",
   "id": "5045a3c0",
   "metadata": {},
   "source": [
    "**Let's pretend bacon has the list [3.14, 'cat,' 11, 'cat,' True] for the next three questions.**\n"
   ]
  },
  {
   "cell_type": "code",
   "execution_count": 5,
   "id": "c234d8cd",
   "metadata": {},
   "outputs": [],
   "source": [
    "bacon = [3.14, 'cat' ,11, 'cat', True] "
   ]
  },
  {
   "cell_type": "markdown",
   "id": "aa6c41dc",
   "metadata": {},
   "source": [
    "**6. What is the value of bacon.index('cat')?**\n"
   ]
  },
  {
   "cell_type": "code",
   "execution_count": 6,
   "id": "b7af358f",
   "metadata": {},
   "outputs": [
    {
     "data": {
      "text/plain": [
       "1"
      ]
     },
     "execution_count": 6,
     "metadata": {},
     "output_type": "execute_result"
    }
   ],
   "source": [
    "bacon.index('cat')"
   ]
  },
  {
   "cell_type": "markdown",
   "id": "7533d6fe",
   "metadata": {},
   "source": [
    "**7. How does bacon.append(99) change the look of the list value in bacon?**\n"
   ]
  },
  {
   "cell_type": "code",
   "execution_count": 7,
   "id": "4e367be4",
   "metadata": {},
   "outputs": [
    {
     "name": "stdout",
     "output_type": "stream",
     "text": [
      "[3.14, 'cat', 11, 'cat', True, 99]\n"
     ]
    }
   ],
   "source": [
    "bacon.append(99)\n",
    "print(bacon)"
   ]
  },
  {
   "cell_type": "markdown",
   "id": "03e2f50f",
   "metadata": {},
   "source": [
    "**8. How does bacon.remove('cat') change the look of the list in bacon?**\n"
   ]
  },
  {
   "cell_type": "code",
   "execution_count": 8,
   "id": "5f0f1b13",
   "metadata": {},
   "outputs": [
    {
     "data": {
      "text/plain": [
       "[3.14, 11, 'cat', True, 99]"
      ]
     },
     "execution_count": 8,
     "metadata": {},
     "output_type": "execute_result"
    }
   ],
   "source": [
    "bacon.remove('cat') \n",
    "bacon"
   ]
  },
  {
   "cell_type": "markdown",
   "id": "9d55a100",
   "metadata": {},
   "source": [
    "**9. What are the list concatenation and list replication operators?**<br>\n",
    "The operator for list concatenation is +, while the operator for replication is *."
   ]
  },
  {
   "cell_type": "code",
   "execution_count": 9,
   "id": "3b5bd7ec",
   "metadata": {},
   "outputs": [
    {
     "name": "stdout",
     "output_type": "stream",
     "text": [
      "List Concatenation:  ['X', 'Y', 'A', 'B', 'C']\n",
      "List Replication:  ['X', 'Y', 'X', 'Y', 'X', 'Y']\n"
     ]
    }
   ],
   "source": [
    "lis_1 = ['X', 'Y']\n",
    "lis_2 = ['A', 'B', 'C']\n",
    "\n",
    "#list concatenation\n",
    "print(\"List Concatenation: \", lis_1 + lis_2)\n",
    "print(\"List Replication: \", lis_1 * 3)"
   ]
  },
  {
   "cell_type": "markdown",
   "id": "ad2df1d8",
   "metadata": {},
   "source": [
    "**10. What is difference between the list methods append() and insert()?**\n"
   ]
  },
  {
   "cell_type": "markdown",
   "id": "dfdd151f",
   "metadata": {},
   "source": [
    "The difference between the two methods is that .append() adds an item to the end of a list, whereas .insert() inserts and item in a specified position in the list.When using .append(), the original list gets modified. No new list gets created.\n",
    "\n"
   ]
  },
  {
   "cell_type": "markdown",
   "id": "ba33dd6f",
   "metadata": {},
   "source": [
    "**11. What are the two methods for removing items from a list?**\n"
   ]
  },
  {
   "cell_type": "markdown",
   "id": "9cf9840b",
   "metadata": {},
   "source": [
    "In Python, there are many methods available on the list data type that help you remove an element from a given list. The methods are **remove(), pop() and clear()**."
   ]
  },
  {
   "cell_type": "markdown",
   "id": "faf0b438",
   "metadata": {},
   "source": [
    "**12. Describe how list values and string values are identical.**\n"
   ]
  },
  {
   "cell_type": "markdown",
   "id": "c800177e",
   "metadata": {},
   "source": [
    "The similarity between Lists and Strings in Python is that both are sequences. The differences between them are as follows:\n",
    "1.  String is a sequence of characters that may contain special characters or alphanumeric characters. And a list is sequence of items in python. \n",
    "2. Both data structures have almost similiar kind of inbuilt functions.\n",
    "3. The only difference is that lists are mutable whereas string is immutable type."
   ]
  },
  {
   "cell_type": "markdown",
   "id": "93fc4f24",
   "metadata": {},
   "source": [
    "**13. What's the difference between tuples and lists?**\n"
   ]
  },
  {
   "cell_type": "markdown",
   "id": "24a76f6a",
   "metadata": {},
   "source": [
    "Difference between lists and tuples is as follows:<br>\n",
    "1. A list is mutable in nature whereas tuple is immutable in nature.\n",
    "2. A list is enclosed in [] and tuple is enclosed in ()\n",
    "3. List consums more memory as compared to tuple.\n",
    "4. The list iteration is comparatively much slower than a tuple.\n"
   ]
  },
  {
   "cell_type": "markdown",
   "id": "5916418a",
   "metadata": {},
   "source": [
    "**14. How do you type a tuple value that only contains the integer 42?**\n"
   ]
  },
  {
   "cell_type": "code",
   "execution_count": 10,
   "id": "3f71c155",
   "metadata": {},
   "outputs": [
    {
     "data": {
      "text/plain": [
       "(42,)"
      ]
     },
     "execution_count": 10,
     "metadata": {},
     "output_type": "execute_result"
    }
   ],
   "source": [
    "temp_1 = (42,)\n",
    "temp_1"
   ]
  },
  {
   "cell_type": "markdown",
   "id": "64031fe1",
   "metadata": {},
   "source": [
    "**15. How do you get a list value's tuple form? How do you get a tuple value's list form?**\n"
   ]
  },
  {
   "cell_type": "code",
   "execution_count": 11,
   "id": "ce13f933",
   "metadata": {},
   "outputs": [
    {
     "name": "stdout",
     "output_type": "stream",
     "text": [
      "(1, 2, 3, 4, 5)\n",
      "['a', 'b', 'c', 'd']\n"
     ]
    }
   ],
   "source": [
    "# list to tuple\n",
    "temp_lis = [1, 2, 3, 4, 5]\n",
    "tup_1 = tuple(temp_lis)\n",
    "print(tup_1)\n",
    "\n",
    "\n",
    "#Tuple to list\n",
    "temp_tup = ('a', 'b', 'c', 'd')\n",
    "lis_1 = list(temp_tup)\n",
    "print(lis_1)"
   ]
  },
  {
   "cell_type": "markdown",
   "id": "c76cb57e",
   "metadata": {},
   "source": [
    "**16. Variables that \"contain\" list values are not necessarily lists themselves. Instead, what do they contain?**\n"
   ]
  },
  {
   "cell_type": "markdown",
   "id": "108572b5",
   "metadata": {},
   "source": [
    "Variables will contain references to list values rather than list values themselves. But for strings and integer values, variables simply contain the string or integer value. Python uses references whenever variables must store values of mutable data types, such as lists or dictionaries. For values of immutable data types such as strings, integers, or tuples, Python variables will store the value itself."
   ]
  },
  {
   "cell_type": "markdown",
   "id": "5badc8bb",
   "metadata": {},
   "source": [
    "**17. How do you distinguish between copy.copy() and copy.deepcopy()?**\n"
   ]
  },
  {
   "cell_type": "markdown",
   "id": "59931754",
   "metadata": {},
   "source": [
    "The difference between shallow and deep copying is only relevant for compound objects (objects that contain other objects, like lists or class instances)\n",
    "\n",
    "A shallow copy constructs a new compound object and then (to the extent possible) inserts references into it to the objects found in the original.\n",
    "\n",
    "A deep copy constructs a new compound object and then, recursively, inserts copies into it of the objects found in the original."
   ]
  },
  {
   "cell_type": "code",
   "execution_count": null,
   "id": "8918e879",
   "metadata": {},
   "outputs": [],
   "source": []
  }
 ],
 "metadata": {
  "kernelspec": {
   "display_name": "Python 3 (ipykernel)",
   "language": "python",
   "name": "python3"
  },
  "language_info": {
   "codemirror_mode": {
    "name": "ipython",
    "version": 3
   },
   "file_extension": ".py",
   "mimetype": "text/x-python",
   "name": "python",
   "nbconvert_exporter": "python",
   "pygments_lexer": "ipython3",
   "version": "3.9.7"
  }
 },
 "nbformat": 4,
 "nbformat_minor": 5
}
