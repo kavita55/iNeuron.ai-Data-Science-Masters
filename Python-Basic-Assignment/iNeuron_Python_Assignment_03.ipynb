{
 "cells": [
  {
   "cell_type": "markdown",
   "id": "7162ef7a",
   "metadata": {},
   "source": [
    "## iNeuron_Python_Assignment_03"
   ]
  },
  {
   "cell_type": "markdown",
   "id": "3086ac59",
   "metadata": {},
   "source": [
    "**1. Why are functions advantageous to have in your programs?**"
   ]
  },
  {
   "cell_type": "markdown",
   "id": "08a4d287",
   "metadata": {},
   "source": [
    ">A function is a block of reusable code that is used to perform a specific task. The advantages of using functions are as follows:\n",
    ">- Reducing duplication of code\n",
    ">- Decomposing complex problems into simpler pieces\n",
    ">- Improving clarity of the code\n",
    ">- Reuse of code\n",
    ">- Makes programs shorter, easier to read, and easier to update."
   ]
  },
  {
   "cell_type": "markdown",
   "id": "b5d1e792",
   "metadata": {},
   "source": [
    "**2. When does the code in a function run: when it's specified or when it's called?**"
   ]
  },
  {
   "cell_type": "markdown",
   "id": "86b7f0d9",
   "metadata": {},
   "source": [
    ">The code in a function executes when the function is being called, not when the function is specified.\n"
   ]
  },
  {
   "cell_type": "markdown",
   "id": "2f7f25f6",
   "metadata": {},
   "source": [
    "**3. What statement creates a function?**"
   ]
  },
  {
   "cell_type": "markdown",
   "id": "17079f7d",
   "metadata": {},
   "source": [
    "> The **def** statement creates a function."
   ]
  },
  {
   "cell_type": "markdown",
   "id": "c8101c19",
   "metadata": {},
   "source": [
    "**4. What is the difference between a function and a function call?**"
   ]
  },
  {
   "cell_type": "markdown",
   "id": "52876fc4",
   "metadata": {},
   "source": [
    "> - A function is a block of code that does a particular operation and returns a result. A function consists of the _def_ statement and the code in its def clause.<br>\n",
    "> - A function call is what moves the program execution into the function, and the function call evaluates to the function's return value.<br>\n",
    "> - A function is procedure to achieve a particular result while function call is using the function to achive that task.\n",
    "\n"
   ]
  },
  {
   "cell_type": "markdown",
   "id": "59d9f5d5",
   "metadata": {},
   "source": [
    "**5. How many global scopes are there in a Python program? How many local scopes?**\n",
    "> There is one global scope, and a local scope is created whenever a function is called in python.\n"
   ]
  },
  {
   "cell_type": "markdown",
   "id": "f92b37ba",
   "metadata": {},
   "source": [
    "**6. What happens to variables in a local scope when the function call returns?**\n",
    "> When a function returns, the local scope is destroyed, and all the variables in it are forgotten."
   ]
  },
  {
   "cell_type": "markdown",
   "id": "dd629e15",
   "metadata": {},
   "source": [
    "**7. What is the concept of a return value? Is it possible to have a return value in an expression?**\n",
    "> A return value is the value that a function call evaluates to. Like any value, a return value can be used as part of an expression."
   ]
  },
  {
   "cell_type": "markdown",
   "id": "6b389d3c",
   "metadata": {},
   "source": [
    "**8. If a function does not have a return statement, what is the return value of a call to that function?**\n",
    "> If there is no return statement for a function,then its return value is None."
   ]
  },
  {
   "cell_type": "markdown",
   "id": "2a9828ae",
   "metadata": {},
   "source": [
    "**9. How do you make a function variable refer to the global variable?**\n",
    "> A global statement will force a variable in a function to refer to the global variable."
   ]
  },
  {
   "cell_type": "markdown",
   "id": "b371dfa8",
   "metadata": {},
   "source": [
    "**10. What is the data type of None?**\n",
    ">The data type of None is NoneType."
   ]
  },
  {
   "cell_type": "code",
   "execution_count": 1,
   "id": "1dbb8a3f",
   "metadata": {},
   "outputs": [
    {
     "data": {
      "text/plain": [
       "NoneType"
      ]
     },
     "execution_count": 1,
     "metadata": {},
     "output_type": "execute_result"
    }
   ],
   "source": [
    "type(None)"
   ]
  },
  {
   "cell_type": "markdown",
   "id": "9e21cd6f",
   "metadata": {},
   "source": [
    "**11. What does the sentence import areallyourpetsnamederic do?**\n",
    "> That import statement imports a module named areallyourpetsnamederic. "
   ]
  },
  {
   "cell_type": "markdown",
   "id": "d4f44946",
   "metadata": {},
   "source": [
    "**12. If you had a bacon() feature in a spam module, what would you call it after importing spam?**\n",
    "> This function can be called with spam.bacon()."
   ]
  },
  {
   "cell_type": "markdown",
   "id": "c4a56fc2",
   "metadata": {},
   "source": [
    "**13. What can you do to save a programme from crashing if it encounters an error?**\n",
    "> Place the line of code that might cause an error in a try clause."
   ]
  },
  {
   "cell_type": "markdown",
   "id": "de3389be",
   "metadata": {},
   "source": [
    "**14. What is the purpose of the try clause? What is the purpose of the except clause?**\n",
    "- The code that could potentially cause an error goes in the try clause.\n",
    "\n",
    "- The code that executes if an error happens goes in the except clause."
   ]
  },
  {
   "cell_type": "code",
   "execution_count": null,
   "id": "c33154eb",
   "metadata": {},
   "outputs": [],
   "source": []
  }
 ],
 "metadata": {
  "kernelspec": {
   "display_name": "Python 3 (ipykernel)",
   "language": "python",
   "name": "python3"
  },
  "language_info": {
   "codemirror_mode": {
    "name": "ipython",
    "version": 3
   },
   "file_extension": ".py",
   "mimetype": "text/x-python",
   "name": "python",
   "nbconvert_exporter": "python",
   "pygments_lexer": "ipython3",
   "version": "3.9.7"
  }
 },
 "nbformat": 4,
 "nbformat_minor": 5
}
