{
 "cells": [
  {
   "cell_type": "markdown",
   "id": "f8a6317e",
   "metadata": {},
   "source": [
    "## iNeuron Python Assignment 14\n"
   ]
  },
  {
   "cell_type": "markdown",
   "id": "47fc64ce",
   "metadata": {},
   "source": [
    "**1. What does RGBA stand for?**\n"
   ]
  },
  {
   "cell_type": "markdown",
   "id": "20a16dad",
   "metadata": {},
   "source": [
    "RGBA stands for **Red-Green-Blue-Alpha.**"
   ]
  },
  {
   "cell_type": "markdown",
   "id": "41cc312b",
   "metadata": {},
   "source": [
    "**2. From the Pillow module, how do you get the RGBA value of any images?**\n"
   ]
  },
  {
   "cell_type": "markdown",
   "id": "61a76910",
   "metadata": {},
   "source": [
    "By calling getpixel() function from pillow module, we can get the RGBA value of any images."
   ]
  },
  {
   "cell_type": "markdown",
   "id": "dafc1fa8",
   "metadata": {},
   "source": [
    "**3. What is a box tuple, and how does it work?**\n"
   ]
  },
  {
   "cell_type": "markdown",
   "id": "e0d8d424",
   "metadata": {},
   "source": [
    "- A box tuple is a tuple value of four integers:\n",
    "\n",
    ">- Left: The x-coordinate of the leftmost edge of the box.\n",
    ">- Top: The y-coordinate of the top edge of the box.\n",
    ">- Right: The x-coordinate of one pixel to the right of the rightmost edge of the box. This integer must be greater than the left integer.\n",
    ">- Bottom: The y-coordinate of one pixel lower than the bottom edge of the box. This integer must be greater than the top integer.\n",
    "- Box includes the left and top coordinates and goes up but does not include the right and bottom coordinates."
   ]
  },
  {
   "cell_type": "markdown",
   "id": "01db6a90",
   "metadata": {},
   "source": [
    "**4. Use your image and load in notebook then, How can you find out the width and height of an\n",
    "Image object?**\n"
   ]
  },
  {
   "cell_type": "code",
   "execution_count": 2,
   "id": "cdfc1034",
   "metadata": {},
   "outputs": [],
   "source": [
    "from PIL import Image"
   ]
  },
  {
   "cell_type": "code",
   "execution_count": 10,
   "id": "f8c39b8f",
   "metadata": {},
   "outputs": [],
   "source": [
    "test_img = Image.open('test.PNG')"
   ]
  },
  {
   "cell_type": "code",
   "execution_count": 11,
   "id": "d2968254",
   "metadata": {},
   "outputs": [],
   "source": [
    "width, height = test_img.size"
   ]
  },
  {
   "cell_type": "code",
   "execution_count": 12,
   "id": "d364ae7c",
   "metadata": {},
   "outputs": [
    {
     "name": "stdout",
     "output_type": "stream",
     "text": [
      "width of image is 965\n",
      "height of image is 642\n"
     ]
    }
   ],
   "source": [
    "print('width of image is',width)\n",
    "print('height of image is',height)"
   ]
  },
  {
   "cell_type": "markdown",
   "id": "a6e52f97",
   "metadata": {},
   "source": [
    "**5. What method would you call to get Image object for a 100×100 image, excluding the lower-left\n",
    "quarter of it?**\n"
   ]
  },
  {
   "cell_type": "markdown",
   "id": "560b848c",
   "metadata": {},
   "source": [
    "crop() method is used to get Image object for a 100×100 image, excluding the lower-left quarter of it."
   ]
  },
  {
   "cell_type": "markdown",
   "id": "070b3bff",
   "metadata": {},
   "source": [
    "**6. After making changes to an Image object, how could you save it as an image file?**\n"
   ]
  },
  {
   "cell_type": "markdown",
   "id": "814e22dd",
   "metadata": {},
   "source": [
    "After making changes to an Image object,we can save it as an image file using save() method"
   ]
  },
  {
   "cell_type": "markdown",
   "id": "90b954a0",
   "metadata": {},
   "source": [
    "**7. What module contains Pillow’s shape-drawing code?**\n"
   ]
  },
  {
   "cell_type": "markdown",
   "id": "aa037fa3",
   "metadata": {},
   "source": [
    "ImageDraw module contains Pillow’s shape-drawing code\n",
    "\n"
   ]
  },
  {
   "cell_type": "markdown",
   "id": "4a4a36e4",
   "metadata": {},
   "source": [
    "**8. Image objects do not have drawing methods. What kind of object does? How do you get this kind\n",
    "of object?**"
   ]
  },
  {
   "cell_type": "markdown",
   "id": "092709b1",
   "metadata": {},
   "source": [
    "Image objects do not have drawing methods.ImageDraw objects have drawing methods. They are returned by passing the Image object to the ImageDraw.Draw() function."
   ]
  },
  {
   "cell_type": "code",
   "execution_count": null,
   "id": "e51e345c",
   "metadata": {},
   "outputs": [],
   "source": []
  }
 ],
 "metadata": {
  "kernelspec": {
   "display_name": "Python 3 (ipykernel)",
   "language": "python",
   "name": "python3"
  },
  "language_info": {
   "codemirror_mode": {
    "name": "ipython",
    "version": 3
   },
   "file_extension": ".py",
   "mimetype": "text/x-python",
   "name": "python",
   "nbconvert_exporter": "python",
   "pygments_lexer": "ipython3",
   "version": "3.9.7"
  }
 },
 "nbformat": 4,
 "nbformat_minor": 5
}
