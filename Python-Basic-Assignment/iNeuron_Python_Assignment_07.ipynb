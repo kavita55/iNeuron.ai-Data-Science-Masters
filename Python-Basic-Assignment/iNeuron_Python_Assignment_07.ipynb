{
 "cells": [
  {
   "cell_type": "markdown",
   "id": "2d7deb67",
   "metadata": {},
   "source": [
    "## iNeuron_Python_Assignment_06\n"
   ]
  },
  {
   "cell_type": "markdown",
   "id": "52628ab7",
   "metadata": {},
   "source": [
    "**1. What is the name of the feature responsible for generating Regex objects?**\n"
   ]
  },
  {
   "cell_type": "markdown",
   "id": "a8946cea",
   "metadata": {},
   "source": [
    "The re.compile() function returns Regex objects."
   ]
  },
  {
   "cell_type": "markdown",
   "id": "5f96676b",
   "metadata": {},
   "source": [
    "**2. Why do raw strings often appear in Regex objects?**\n"
   ]
  },
  {
   "cell_type": "markdown",
   "id": "0e39f784",
   "metadata": {},
   "source": [
    "Raw strings are used so that backslashes do not have to be escaped."
   ]
  },
  {
   "cell_type": "markdown",
   "id": "cbe9e54a",
   "metadata": {},
   "source": [
    "**3. What is the return value of the search() method?**\n"
   ]
  },
  {
   "cell_type": "markdown",
   "id": "e16894d8",
   "metadata": {},
   "source": [
    "The search() method is used to return a string which is matched with the regular expression."
   ]
  },
  {
   "cell_type": "markdown",
   "id": "3bf3b9fb",
   "metadata": {},
   "source": [
    "**4. From a Match item, how do you get the actual strings that match the pattern?**\n"
   ]
  },
  {
   "cell_type": "markdown",
   "id": "ad77c92f",
   "metadata": {},
   "source": [
    "The group() method returns strings of the matched text."
   ]
  },
  {
   "cell_type": "markdown",
   "id": "637762a4",
   "metadata": {},
   "source": [
    "**5. In the regex which created from the r'(\\d\\d\\d)-(\\d\\d\\d-\\d\\d\\d\\d)', what does group zero cover? Group 2? Group 1?**\n"
   ]
  },
  {
   "cell_type": "markdown",
   "id": "9f2c08a0",
   "metadata": {},
   "source": [
    "Group 0 is the entire match, group 1 covers the first set of parentheses, and group 2 covers the second set of parentheses."
   ]
  },
  {
   "cell_type": "markdown",
   "id": "e1dd215a",
   "metadata": {},
   "source": [
    "**6. In standard expression syntax, parentheses and intervals have distinct meanings. How can you tell a regex that you want it to fit real parentheses and periods?**\n"
   ]
  },
  {
   "cell_type": "markdown",
   "id": "1f06b04d",
   "metadata": {},
   "source": [
    "Periods and parentheses can be escaped with a backslash: \\., \\(, and \\)."
   ]
  },
  {
   "cell_type": "markdown",
   "id": "a963e333",
   "metadata": {},
   "source": [
    "**7. The findall() method returns a string list or a list of string tuples. What causes it to return one of the two options?**\n"
   ]
  },
  {
   "cell_type": "markdown",
   "id": "3eb5f22a",
   "metadata": {},
   "source": [
    "If the regex has no groups, a list of strings is returned. If the regex has groups, a list of tuples of strings is returned."
   ]
  },
  {
   "cell_type": "markdown",
   "id": "dec0cfd9",
   "metadata": {},
   "source": [
    "**8. In standard expressions, what does the | character mean?**\n"
   ]
  },
  {
   "cell_type": "markdown",
   "id": "194de678",
   "metadata": {},
   "source": [
    "The | character signifies matching \"either, or\" between two groups."
   ]
  },
  {
   "cell_type": "markdown",
   "id": "8cba925d",
   "metadata": {},
   "source": [
    "**9. In regular expressions, what does the character stand for?**\n"
   ]
  },
  {
   "cell_type": "markdown",
   "id": "c3748459",
   "metadata": {},
   "source": [
    " The ? character can either mean \"match zero or one of the preceding group\" or be used to signify nongreedy matching."
   ]
  },
  {
   "cell_type": "markdown",
   "id": "e7ba51bd",
   "metadata": {},
   "source": [
    "**10. In regular expressions, what is the difference between the + and * characters?**\n"
   ]
  },
  {
   "cell_type": "markdown",
   "id": "954b9794",
   "metadata": {},
   "source": [
    "The + matches one or more. The * matches zero or more."
   ]
  },
  {
   "cell_type": "markdown",
   "id": "bea58687",
   "metadata": {},
   "source": [
    "**11. What is the difference between {4} and {4,5} in regular expression?**\n"
   ]
  },
  {
   "cell_type": "markdown",
   "id": "776e961d",
   "metadata": {},
   "source": [
    "The {4} matches exactly four instances of the preceding group. The {4,5} matches between four and five instances."
   ]
  },
  {
   "cell_type": "markdown",
   "id": "8a9f8659",
   "metadata": {},
   "source": [
    "**12. What do you mean by the \\d, \\w, and \\s shorthand character classes signify in regular expressions?**\n"
   ]
  },
  {
   "cell_type": "markdown",
   "id": "e1baf505",
   "metadata": {},
   "source": [
    "\\d returns a match where the string contains digits (numbers from 0-9)<br>\n",
    "\n",
    "\\w returns a match where the string contains any word characters (characters from a to Z, digits from 0-9, and the underscore _ character)<br>\n",
    "\n",
    "\\s returns a match where the string contains a white space character<br>"
   ]
  },
  {
   "cell_type": "markdown",
   "id": "ce94f17b",
   "metadata": {},
   "source": [
    "**13. What do means by \\D, \\W, and \\S shorthand character classes signify in regular expressions?**\n",
    "\n"
   ]
  },
  {
   "cell_type": "markdown",
   "id": "0d47b031",
   "metadata": {},
   "source": [
    " \\D returns a match where the string DOES NOT contain digits<br>\n",
    "\n",
    "\\W returns a match where the string DOES NOT contain any word characters<br>\n",
    "\n",
    "\\S returns a match where the string DOES NOT contain a white space character<br>"
   ]
  },
  {
   "cell_type": "markdown",
   "id": "7e424865",
   "metadata": {},
   "source": [
    "**14. What is the difference between .*? and .*?**\n"
   ]
  },
  {
   "cell_type": "markdown",
   "id": "02de3b94",
   "metadata": {},
   "source": [
    "*? this will check 0 or 1 occurances of any character while .* checks 0 or more  occurances of any characters. In this scenario\n",
    "#.* will be implemented and check for  0 or more  occurances of any characters."
   ]
  },
  {
   "cell_type": "markdown",
   "id": "c64ca687",
   "metadata": {},
   "source": [
    "**15. What is the syntax for matching both numbers and lowercase letters with a character class?**\n"
   ]
  },
  {
   "cell_type": "code",
   "execution_count": 1,
   "id": "8d5236ad",
   "metadata": {},
   "outputs": [
    {
     "name": "stdout",
     "output_type": "stream",
     "text": [
      "['y', 't', 'h', 'o', 'n', 'i', 's', 'r', 'o', 'g', 'r', 'm', 'i', 'n', 'g', 'l', 'a', 'n', 'g', 'u', 'a', 'g', 'e']\n",
      "Yes, there is at least one match!\n"
     ]
    }
   ],
   "source": [
    "import re\n",
    "txt = \"Python is ProgrAMming language\"\n",
    "\n",
    "#Check if the string has any characters between a and z:\n",
    "x = re.findall(\"[a-z,0-9]\", txt)\n",
    "print(x)\n",
    "if x:\n",
    "    print(\"Yes, there is at least one match!\")\n",
    "else:\n",
    "    print(\"No match\")"
   ]
  },
  {
   "cell_type": "markdown",
   "id": "6e3b830e",
   "metadata": {},
   "source": [
    "**16. What is the procedure for making a normal expression in regax case insensitive?**\n"
   ]
  },
  {
   "cell_type": "markdown",
   "id": "adc9cb0b",
   "metadata": {},
   "source": [
    "IGNORECASE : This flag allows for case-insensitive matching of the Regular Expression with the given string i.e. expressions like [A-Z] will match lowercase letters, too. Generally, It's passed as an optional argument to re. compile() ."
   ]
  },
  {
   "cell_type": "markdown",
   "id": "2c616539",
   "metadata": {},
   "source": [
    "**17. What does the . character normally match? What does it match if re.DOTALL is passed as 2nd argument in re.compile()?**\n",
    "\n"
   ]
  },
  {
   "cell_type": "markdown",
   "id": "ccbb4b6a",
   "metadata": {},
   "source": [
    "If re. DOTALL is passed as the second argument to re. compile(), then the dot will also match newline characters."
   ]
  },
  {
   "cell_type": "markdown",
   "id": "df28125e",
   "metadata": {},
   "source": [
    "**18. If numReg = re.compile(r'\\d+'), what will numRegex.sub('X', '11 drummers, 10 pipers, five rings, 4 hen') return?**\n"
   ]
  },
  {
   "cell_type": "markdown",
   "id": "a4f31120",
   "metadata": {},
   "source": [
    " numRegex.sub('X', '11 drummers, 10 pipers, five rings, 4 hen') will relace one or many of \"X\" with \"11 drummers, 10 pipers, five rings, 4 hen\""
   ]
  },
  {
   "cell_type": "code",
   "execution_count": 2,
   "id": "be8e4c4b",
   "metadata": {},
   "outputs": [],
   "source": [
    "numReg = re.compile(r'\\d+')"
   ]
  },
  {
   "cell_type": "code",
   "execution_count": 3,
   "id": "9ff5cdf5",
   "metadata": {},
   "outputs": [
    {
     "data": {
      "text/plain": [
       "'X drummers, X pipers, five rings, X hen'"
      ]
     },
     "execution_count": 3,
     "metadata": {},
     "output_type": "execute_result"
    }
   ],
   "source": [
    "numReg.sub('X', '11 drummers, 10 pipers, five rings, 4 hen')"
   ]
  },
  {
   "cell_type": "markdown",
   "id": "3e8640fc",
   "metadata": {},
   "source": [
    "**19. What does passing re.VERBOSE as the 2nd argument to re.compile() allow to do?**\n"
   ]
  },
  {
   "cell_type": "markdown",
   "id": "b75f6251",
   "metadata": {},
   "source": [
    " re.VERBOSE flag allows us to write regular expressions that look nicer and are more readable by allowing us to visually separate logical sections of the pattern and add comments."
   ]
  },
  {
   "cell_type": "markdown",
   "id": "5434cd68",
   "metadata": {},
   "source": [
    "**20. How would you write a regex that match a number with comma for every three digits? It must match the given following:<br>\n",
    "'42'<br>\n",
    "'1,234'<br>\n",
    "'6,368,745'<br>\n",
    "but not the following:<br>\n",
    "'12,34,567' (which has only two digits between the commas)<br>\n",
    "'1234' (which lacks commas)<br>**\n"
   ]
  },
  {
   "cell_type": "code",
   "execution_count": 4,
   "id": "0b7ea4ad",
   "metadata": {},
   "outputs": [
    {
     "name": "stdout",
     "output_type": "stream",
     "text": [
      "Enter the input values:6,368,745\n",
      "['6,368,745']\n",
      "Yes, there is at least one match!\n"
     ]
    }
   ],
   "source": [
    "import re\n",
    "txt = input(\"Enter the input values:\")\n",
    "x = re.findall(\"^((?:\\d{1,3},(?:\\d{3},)*\\d{3})|(?:\\d{1,3}))$\", txt)\n",
    "print(x)\n",
    "if x:\n",
    "  print(\"Yes, there is at least one match!\")\n",
    "else:\n",
    "  print(\"No match\")"
   ]
  },
  {
   "cell_type": "markdown",
   "id": "5efbd4b3",
   "metadata": {},
   "source": [
    "**21. How would you write a regex that matches the full name of someone whose last name is Watanabe? You can assume that the first name that comes before it will always be one word that begins with a capital letter. The regex must match the following:<br>\n",
    "'Haruto Watanabe'<br>\n",
    "'Alice Watanabe'<br>\n",
    "'RoboCop Watanabe'<br>\n",
    "but not the following:<br>\n",
    "'haruto Watanabe' (where the first name is not capitalized)<br>\n",
    "'Mr. Watanabe' (where the preceding word has a nonletter character)<br>\n",
    "'Watanabe' (which has no first name)<br>\n",
    "'Haruto watanabe' (where Watanabe is not capitalized)<br>**\n"
   ]
  },
  {
   "cell_type": "code",
   "execution_count": 5,
   "id": "852ca3d5",
   "metadata": {},
   "outputs": [
    {
     "name": "stdout",
     "output_type": "stream",
     "text": [
      "Haruto Watanabe\n",
      "\n",
      "\n",
      "Next, the result of using my regex with search over each possible name to match:\n",
      "Haruto Watanabe\n",
      "Alice Watanabe\n",
      "RoboCop Watanabe\n",
      "\n",
      "Finally, the result of using the same regex with findall (same text as in first search):\n",
      "Haruto Watanabe\n",
      "Alice Watanabe\n",
      "RoboCop Watanabe\n"
     ]
    }
   ],
   "source": [
    "import re\n",
    "name_regex = re.compile(r'[A-Z](?:\\w)+\\sWatanabe')\n",
    "text = \"The regex must match the following: 'Haruto Watanabe' 'Alice Watanabe' 'RoboCop Watanabe' but not the following: 'haruto Watanabe' (where the first name is not capitalized) 'Mr. Watanabe' (where the preceding word has a nonletter character) 'Watanabe'(which has no first name) 'Haruto watanabe'.\"\n",
    "mo0 = name_regex.search(text)\n",
    "found = mo0.group()\n",
    "print(found + '\\n\\n')\n",
    "mo1 = name_regex.search('Haruto Watanabe')\n",
    "mo2 = name_regex.search('Alice Watanabe')\n",
    "mo3 = name_regex.search('RoboCop Watanabe')\n",
    "mo4 = name_regex.search('Watanabe')\n",
    "mo5 = name_regex.search('Mr. Watanabe')\n",
    "mo6 = name_regex.search('Haruto watanabe')\n",
    "mo7 = name_regex.search('haruto watanabe')\n",
    "mo_l = [mo1, mo2, mo3, mo4, mo5, mo6, mo7]\n",
    "print(\"Next, the result of using my regex with search over each possible name to match:\")\n",
    "try:\n",
    "    for mo_x in mo_l:\n",
    "        mo = mo_x.group()\n",
    "        print(mo)\n",
    "except AttributeError:\n",
    "    pass\n",
    "print(\"\\nFinally, the result of using the same regex with findall (same text as in first search):\")\n",
    "all_matches = re.findall(name_regex, text)\n",
    "for match in all_matches:\n",
    "    print(match)"
   ]
  },
  {
   "cell_type": "markdown",
   "id": "01a68737",
   "metadata": {},
   "source": [
    "**22. How would you write a regex that matches a sentence where the first word is either Alice, Bob, or Carol; the second word is either eats, pets, or throws; the third word is apples, cats, or baseballs; and the sentence ends with a period? This regex should be case-insensitive. It must match the following:<br>\n",
    "'Alice eats apples.'<br>\n",
    "'Bob pets cats.'<br>\n",
    "'Carol throws baseballs.'<br>\n",
    "'Alice throws Apples.'<br>\n",
    "'BOB EATS CATS.'<br>\n",
    "but not the following:<br>\n",
    "'RoboCop eats apples.'<br>\n",
    "'ALICE THROWS FOOTBALLS.'<br>\n",
    "'Carol eats 7 cats.'<br>**"
   ]
  },
  {
   "cell_type": "code",
   "execution_count": 6,
   "id": "642ba0ab",
   "metadata": {},
   "outputs": [
    {
     "name": "stdout",
     "output_type": "stream",
     "text": [
      "Alice eats apples.\n",
      "\n",
      "\n",
      "The result of using my regex with search over each possible match:\n",
      "('Alice', 'eats', 'apples')\n",
      "('Bob', 'pets', 'cats')\n",
      "('Carol', 'throws', 'baseballs')\n",
      "('Alice', 'throws', 'Apples')\n",
      "('BOB', 'EATS', 'CATS')\n"
     ]
    }
   ],
   "source": [
    "import re\n",
    "name_regex = re.compile(r'(Alice|Bob|Carol)\\s(eats|pets|throws)\\s(apples|cats|baseballs)\\.', re.IGNORECASE)\n",
    "text = \"The regex must match the following: It must match the following: 'Alice eats apples.' 'Bob pets cats.' 'Carol throws baseballs.' 'Alice throws Apples.' 'BOB EATS CATS.' but not the following: 'RoboCop eats apples.' 'ALICE THROWS FOOTBALLS.' 'Carol eats 7 cats.'\"\n",
    "mo0 = name_regex.search(text)\n",
    "found = mo0.group()\n",
    "print(found + '\\n\\n')\n",
    "mo1 = name_regex.search('Alice eats apples')\n",
    "mo2 = name_regex.search('Bob pets cats')\n",
    "mo3 = name_regex.search('Carol throws baseballs')\n",
    "mo4 = name_regex.search('Alice throws Apples')\n",
    "mo5 = name_regex.search('BOB EATS CATS')\n",
    "mo6 = name_regex.search('RoboCop eats apples')\n",
    "mo7 = name_regex.search('ALICE THROWS FOOTBALLS')\n",
    "mo8 = name_regex.search('Carol eats 7 cats')\n",
    "\n",
    "mo_l = [mo1, mo2, mo3, mo4, mo5, mo6, mo7, mo8]\n",
    "print(\"The result of using my regex with search over each possible match:\")\n",
    "try:\n",
    "    for mo_x in mo_l:\n",
    "        mo = mo_x.group()\n",
    "        print(mo)\n",
    "except AttributeError:\n",
    "    pass\n",
    "all_matches = re.findall(name_regex, text)\n",
    "for match in all_matches:\n",
    "    print(match)"
   ]
  },
  {
   "cell_type": "code",
   "execution_count": null,
   "id": "58800e9f",
   "metadata": {},
   "outputs": [],
   "source": []
  }
 ],
 "metadata": {
  "kernelspec": {
   "display_name": "Python 3 (ipykernel)",
   "language": "python",
   "name": "python3"
  },
  "language_info": {
   "codemirror_mode": {
    "name": "ipython",
    "version": 3
   },
   "file_extension": ".py",
   "mimetype": "text/x-python",
   "name": "python",
   "nbconvert_exporter": "python",
   "pygments_lexer": "ipython3",
   "version": "3.9.7"
  }
 },
 "nbformat": 4,
 "nbformat_minor": 5
}
