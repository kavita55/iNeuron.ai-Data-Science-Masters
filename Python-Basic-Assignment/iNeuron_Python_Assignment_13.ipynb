{
 "cells": [
  {
   "cell_type": "markdown",
   "id": "f8a6317e",
   "metadata": {},
   "source": [
    "## iNeuron Python Assignment 13"
   ]
  },
  {
   "cell_type": "markdown",
   "id": "875b31e4",
   "metadata": {},
   "source": [
    "**1. What advantages do Excel spreadsheets have over CSV spreadsheets?**"
   ]
  },
  {
   "cell_type": "markdown",
   "id": "a2498765",
   "metadata": {},
   "source": [
    "- An Excel spreadsheet not only stores data but can also do operations on the data, whereas a CSV spreadsheet is just a text file which stores data but does not contain formatting, formulas, macros, etc.\n",
    "- Reading large files is much easier in Excel for the end user. Whereas reading large files in CSV will not be as easier as Excel for end user."
   ]
  },
  {
   "cell_type": "markdown",
   "id": "a7749214",
   "metadata": {},
   "source": [
    "**2.What do you pass to csv.reader() and csv.writer() to create reader and writer objects?**"
   ]
  },
  {
   "cell_type": "markdown",
   "id": "16d9e891",
   "metadata": {},
   "source": [
    "We need to pass a File Object to csv.reader() and csv.writer() to create reader and writer objects."
   ]
  },
  {
   "cell_type": "markdown",
   "id": "f0b123fd",
   "metadata": {},
   "source": [
    "**3. What modes do File objects for reader and writer objects need to be opened in?**"
   ]
  },
  {
   "cell_type": "markdown",
   "id": "0ad73624",
   "metadata": {},
   "source": [
    "File objects need to be opened in read-binary ('rb') mode for Reader objects and write-binary ('wb') for Writer objects"
   ]
  },
  {
   "cell_type": "markdown",
   "id": "9f2191f5",
   "metadata": {},
   "source": [
    "**4. What method takes a list argument and writes it to a CSV file?**"
   ]
  },
  {
   "cell_type": "markdown",
   "id": "fa23c5a3",
   "metadata": {},
   "source": [
    "\n",
    "\n",
    "The writerow() method takes a list argument and writes it to a CSV file"
   ]
  },
  {
   "cell_type": "markdown",
   "id": "56d693a9",
   "metadata": {},
   "source": [
    "**5. What do the keyword arguments delimiter and line terminator do?**"
   ]
  },
  {
   "cell_type": "markdown",
   "id": "0c58570a",
   "metadata": {},
   "source": [
    "- The delimiter argument changes the string used to separate cells in a row.\n",
    "\n",
    "- The line terminator argument changes the string used to separate rows."
   ]
  },
  {
   "cell_type": "markdown",
   "id": "9ab4d920",
   "metadata": {},
   "source": [
    "**6. What function takes a string of JSON data and returns a Python data structure?**"
   ]
  },
  {
   "cell_type": "markdown",
   "id": "a0185a36",
   "metadata": {},
   "source": [
    "json.loads() takes a string of JSON data and returns a Python data structure."
   ]
  },
  {
   "cell_type": "markdown",
   "id": "737d7568",
   "metadata": {},
   "source": [
    "**7. What function takes a Python data structure and returns a string of JSON data?**"
   ]
  },
  {
   "cell_type": "markdown",
   "id": "94a29f8e",
   "metadata": {},
   "source": [
    "json.dumps() takes a Python data structure and returns a string of JSON data.\n"
   ]
  },
  {
   "cell_type": "code",
   "execution_count": null,
   "id": "2195277a",
   "metadata": {},
   "outputs": [],
   "source": []
  }
 ],
 "metadata": {
  "kernelspec": {
   "display_name": "Python 3 (ipykernel)",
   "language": "python",
   "name": "python3"
  },
  "language_info": {
   "codemirror_mode": {
    "name": "ipython",
    "version": 3
   },
   "file_extension": ".py",
   "mimetype": "text/x-python",
   "name": "python",
   "nbconvert_exporter": "python",
   "pygments_lexer": "ipython3",
   "version": "3.9.7"
  }
 },
 "nbformat": 4,
 "nbformat_minor": 5
}
