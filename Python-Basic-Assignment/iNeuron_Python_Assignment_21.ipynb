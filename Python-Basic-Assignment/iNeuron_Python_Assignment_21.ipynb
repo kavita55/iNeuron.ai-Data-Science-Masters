{
 "cells": [
  {
   "cell_type": "markdown",
   "id": "f8a6317e",
   "metadata": {},
   "source": [
    "## iNeuron Python Assignment 21"
   ]
  },
  {
   "cell_type": "markdown",
   "id": "b3ed1963",
   "metadata": {},
   "source": [
    "**1. Add the current date to the text file today.txt as a string.**\n"
   ]
  },
  {
   "cell_type": "code",
   "execution_count": 1,
   "id": "94bdce98",
   "metadata": {},
   "outputs": [
    {
     "data": {
      "text/plain": [
       "'2022-08-01'"
      ]
     },
     "execution_count": 1,
     "metadata": {},
     "output_type": "execute_result"
    }
   ],
   "source": [
    "import datetime\n",
    "from datetime import date\n",
    "now = date.today()\n",
    "curr_date = now.isoformat()\n",
    "curr_date"
   ]
  },
  {
   "cell_type": "code",
   "execution_count": 3,
   "id": "af989380",
   "metadata": {},
   "outputs": [],
   "source": [
    "with open('today.txt','w') as file:\n",
    "    file.write(curr_date)"
   ]
  },
  {
   "cell_type": "markdown",
   "id": "602da632",
   "metadata": {},
   "source": [
    "**2. Read the text file today.txt into the string today_string**\n"
   ]
  },
  {
   "cell_type": "code",
   "execution_count": 4,
   "id": "c81fd0cd",
   "metadata": {},
   "outputs": [
    {
     "data": {
      "text/plain": [
       "'2022-08-01'"
      ]
     },
     "execution_count": 4,
     "metadata": {},
     "output_type": "execute_result"
    }
   ],
   "source": [
    "with open('today.txt','r') as file:\n",
    "    today_string = file.read()\n",
    "today_string"
   ]
  },
  {
   "cell_type": "markdown",
   "id": "25cfb87b",
   "metadata": {},
   "source": [
    "**3. Parse the date from today_string.**\n"
   ]
  },
  {
   "cell_type": "code",
   "execution_count": 5,
   "id": "09b420a3",
   "metadata": {},
   "outputs": [
    {
     "data": {
      "text/plain": [
       "datetime.datetime(2022, 8, 1, 0, 0)"
      ]
     },
     "execution_count": 5,
     "metadata": {},
     "output_type": "execute_result"
    }
   ],
   "source": [
    "from datetime import datetime\n",
    "format = '%Y-%m-%d'\n",
    "datetime.strptime(today_string,format)"
   ]
  },
  {
   "cell_type": "markdown",
   "id": "f691d536",
   "metadata": {},
   "source": [
    "**4. List the files in your current directory**\n"
   ]
  },
  {
   "cell_type": "code",
   "execution_count": 6,
   "id": "be5f1712",
   "metadata": {},
   "outputs": [
    {
     "data": {
      "text/plain": [
       "['.ipynb_checkpoints',\n",
       " 'books.csv',\n",
       " 'books.db',\n",
       " 'file reading.ipynb',\n",
       " 'iNeuron_Python_Assignment_01.ipynb',\n",
       " 'iNeuron_Python_Assignment_02.ipynb',\n",
       " 'iNeuron_Python_Assignment_03.ipynb',\n",
       " 'iNeuron_Python_Assignment_04.ipynb',\n",
       " 'iNeuron_Python_Assignment_05.ipynb',\n",
       " 'iNeuron_Python_Assignment_06.ipynb',\n",
       " 'iNeuron_Python_Assignment_07.ipynb',\n",
       " 'iNeuron_Python_Assignment_08.ipynb',\n",
       " 'iNeuron_Python_Assignment_09.ipynb',\n",
       " 'iNeuron_Python_Assignment_10.ipynb',\n",
       " 'iNeuron_Python_Assignment_11.ipynb',\n",
       " 'iNeuron_Python_Assignment_12.ipynb',\n",
       " 'iNeuron_Python_Assignment_13.ipynb',\n",
       " 'iNeuron_Python_Assignment_14.ipynb',\n",
       " 'iNeuron_Python_Assignment_15.ipynb',\n",
       " 'iNeuron_Python_Assignment_16.ipynb',\n",
       " 'iNeuron_Python_Assignment_17.ipynb',\n",
       " 'iNeuron_Python_Assignment_18.ipynb',\n",
       " 'iNeuron_Python_Assignment_19.ipynb',\n",
       " 'iNeuron_Python_Assignment_20.ipynb',\n",
       " 'iNeuron_Python_Assignment_21.ipynb',\n",
       " 'Logging&Debugging_FSDS.ipynb',\n",
       " 'Modules & Exception.ipynb',\n",
       " 'OOPS.ipynb',\n",
       " 'test.txt',\n",
       " 'today.txt',\n",
       " 'zoo.py',\n",
       " '__pycache__']"
      ]
     },
     "execution_count": 6,
     "metadata": {},
     "output_type": "execute_result"
    }
   ],
   "source": [
    "import os\n",
    "os.listdir('.')"
   ]
  },
  {
   "cell_type": "markdown",
   "id": "496ad20f",
   "metadata": {},
   "source": [
    "**5. Create a list of all of the files in your parent directory (minimum five files should be available).**\n"
   ]
  },
  {
   "cell_type": "code",
   "execution_count": 7,
   "id": "98a0ae68",
   "metadata": {},
   "outputs": [
    {
     "data": {
      "text/plain": [
       "['.ipynb_checkpoints',\n",
       " 'books.csv',\n",
       " 'books.db',\n",
       " 'file reading.ipynb',\n",
       " 'iNeuron_Python_Assignment_01.ipynb',\n",
       " 'iNeuron_Python_Assignment_02.ipynb',\n",
       " 'iNeuron_Python_Assignment_03.ipynb',\n",
       " 'iNeuron_Python_Assignment_04.ipynb',\n",
       " 'iNeuron_Python_Assignment_05.ipynb',\n",
       " 'iNeuron_Python_Assignment_06.ipynb',\n",
       " 'iNeuron_Python_Assignment_07.ipynb',\n",
       " 'iNeuron_Python_Assignment_08.ipynb',\n",
       " 'iNeuron_Python_Assignment_09.ipynb',\n",
       " 'iNeuron_Python_Assignment_10.ipynb',\n",
       " 'iNeuron_Python_Assignment_11.ipynb',\n",
       " 'iNeuron_Python_Assignment_12.ipynb',\n",
       " 'iNeuron_Python_Assignment_13.ipynb',\n",
       " 'iNeuron_Python_Assignment_14.ipynb',\n",
       " 'iNeuron_Python_Assignment_15.ipynb',\n",
       " 'iNeuron_Python_Assignment_16.ipynb',\n",
       " 'iNeuron_Python_Assignment_17.ipynb',\n",
       " 'iNeuron_Python_Assignment_18.ipynb',\n",
       " 'iNeuron_Python_Assignment_19.ipynb',\n",
       " 'iNeuron_Python_Assignment_20.ipynb',\n",
       " 'iNeuron_Python_Assignment_21.ipynb',\n",
       " 'Logging&Debugging_FSDS.ipynb',\n",
       " 'Modules & Exception.ipynb',\n",
       " 'OOPS.ipynb',\n",
       " 'test.txt',\n",
       " 'today.txt',\n",
       " 'zoo.py',\n",
       " '__pycache__']"
      ]
     },
     "execution_count": 7,
     "metadata": {},
     "output_type": "execute_result"
    }
   ],
   "source": [
    "import os \n",
    "os.listdir()"
   ]
  },
  {
   "cell_type": "markdown",
   "id": "be80196a",
   "metadata": {},
   "source": [
    "**6. Use multiprocessing to create three separate processes. Make each one wait a random number of\n",
    "seconds between one and five, print the current time, and then exit.**\n"
   ]
  },
  {
   "cell_type": "code",
   "execution_count": 8,
   "id": "3d76c659",
   "metadata": {},
   "outputs": [],
   "source": [
    "import multiprocessing\n",
    "\n",
    "def printsec(seconds):\n",
    "    from datetime import datetime\n",
    "    from time import sleep\n",
    "    sleep(seconds)\n",
    "    print('wait', seconds, 'seconds, time is', datetime.utcnow())\n",
    "    \n",
    "if __name__ == '__main__':\n",
    "    import random    \n",
    "    for n in range(3):\n",
    "        seconds = random.random()\n",
    "        proc = multiprocessing.Process(target=printsec, args=(seconds,))\n",
    "        proc.start()"
   ]
  },
  {
   "cell_type": "markdown",
   "id": "762a0ea7",
   "metadata": {},
   "source": [
    "**7. Create a date object of your day of birth.**\n"
   ]
  },
  {
   "cell_type": "code",
   "execution_count": 9,
   "id": "ac6f2361",
   "metadata": {},
   "outputs": [
    {
     "data": {
      "text/plain": [
       "datetime.date(2000, 5, 5)"
      ]
     },
     "execution_count": 9,
     "metadata": {},
     "output_type": "execute_result"
    }
   ],
   "source": [
    "my_dob = date(2000,5,5)\n",
    "my_dob"
   ]
  },
  {
   "cell_type": "markdown",
   "id": "827faa22",
   "metadata": {},
   "source": [
    "**8. What day of the week was your day of birth?**\n"
   ]
  },
  {
   "cell_type": "code",
   "execution_count": 10,
   "id": "563a898f",
   "metadata": {},
   "outputs": [
    {
     "data": {
      "text/plain": [
       "4"
      ]
     },
     "execution_count": 10,
     "metadata": {},
     "output_type": "execute_result"
    }
   ],
   "source": [
    "my_dob.weekday()"
   ]
  },
  {
   "cell_type": "markdown",
   "id": "32a7e0c1",
   "metadata": {},
   "source": [
    "**9. When will you be (or when were you) 10,000 days old?**"
   ]
  },
  {
   "cell_type": "code",
   "execution_count": 11,
   "id": "f3c35bb6",
   "metadata": {},
   "outputs": [
    {
     "data": {
      "text/plain": [
       "datetime.date(2027, 9, 21)"
      ]
     },
     "execution_count": 11,
     "metadata": {},
     "output_type": "execute_result"
    }
   ],
   "source": [
    "from datetime import timedelta\n",
    "day10000 = my_dob + timedelta(days=10000)\n",
    "day10000"
   ]
  },
  {
   "cell_type": "code",
   "execution_count": null,
   "id": "61d30e78",
   "metadata": {},
   "outputs": [],
   "source": []
  }
 ],
 "metadata": {
  "kernelspec": {
   "display_name": "Python 3 (ipykernel)",
   "language": "python",
   "name": "python3"
  },
  "language_info": {
   "codemirror_mode": {
    "name": "ipython",
    "version": 3
   },
   "file_extension": ".py",
   "mimetype": "text/x-python",
   "name": "python",
   "nbconvert_exporter": "python",
   "pygments_lexer": "ipython3",
   "version": "3.9.7"
  }
 },
 "nbformat": 4,
 "nbformat_minor": 5
}
