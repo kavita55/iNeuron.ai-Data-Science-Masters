{
 "cells": [
  {
   "cell_type": "markdown",
   "id": "d176cacf",
   "metadata": {},
   "source": [
    "## iNeuron Python Assignment 11"
   ]
  },
  {
   "cell_type": "markdown",
   "id": "75782c65",
   "metadata": {},
   "source": [
    "**1. Create an assert statement that throws an AssertionError if the variable spam is a negative\n",
    "integer.**\n"
   ]
  },
  {
   "cell_type": "code",
   "execution_count": 1,
   "id": "fddb428b",
   "metadata": {},
   "outputs": [
    {
     "name": "stdout",
     "output_type": "stream",
     "text": [
      "Enter Value:2\n",
      "executed successfully\n"
     ]
    }
   ],
   "source": [
    "digit  = int(input(\"Enter Value:\"))\n",
    "assert digit % 2 == 0 \n",
    "if digit  % 2 != 0:\n",
    "  print(\"Odd Integer\")\n",
    "else:\n",
    "  print(\"executed successfully\")"
   ]
  },
  {
   "cell_type": "markdown",
   "id": "bf6e464b",
   "metadata": {},
   "source": [
    "**2. Write an assert statement that triggers an AssertionError if the variables eggs and bacon contain\n",
    "strings that are the same as each other, even if their cases are different (that is, &#39;hello&#39; and &#39;hello&#39; are\n",
    "considered the same, and &#39;goodbye&#39; and &#39;GOODbye&#39; are also considered the same).**\n"
   ]
  },
  {
   "cell_type": "code",
   "execution_count": 2,
   "id": "3fc65533",
   "metadata": {},
   "outputs": [
    {
     "name": "stdout",
     "output_type": "stream",
     "text": [
      "Enter the first stringHello\n",
      "Enter the second stringhello\n"
     ]
    },
    {
     "ename": "AssertionError",
     "evalue": "The eggs and bacon variables are the same!",
     "output_type": "error",
     "traceback": [
      "\u001b[1;31m---------------------------------------------------------------------------\u001b[0m",
      "\u001b[1;31mAssertionError\u001b[0m                            Traceback (most recent call last)",
      "\u001b[1;32mC:\\Users\\KAVITA~1.MAL\\AppData\\Local\\Temp/ipykernel_3504/46826165.py\u001b[0m in \u001b[0;36m<module>\u001b[1;34m\u001b[0m\n\u001b[0;32m      2\u001b[0m \u001b[0mbacon\u001b[0m \u001b[1;33m=\u001b[0m \u001b[0minput\u001b[0m\u001b[1;33m(\u001b[0m\u001b[1;34m'Enter the second string'\u001b[0m\u001b[1;33m)\u001b[0m\u001b[1;33m\u001b[0m\u001b[1;33m\u001b[0m\u001b[0m\n\u001b[0;32m      3\u001b[0m \u001b[1;33m\u001b[0m\u001b[0m\n\u001b[1;32m----> 4\u001b[1;33m \u001b[1;32massert\u001b[0m \u001b[0meggs\u001b[0m\u001b[1;33m.\u001b[0m\u001b[0mlower\u001b[0m\u001b[1;33m(\u001b[0m\u001b[1;33m)\u001b[0m \u001b[1;33m!=\u001b[0m \u001b[0mbacon\u001b[0m\u001b[1;33m.\u001b[0m\u001b[0mlower\u001b[0m\u001b[1;33m(\u001b[0m\u001b[1;33m)\u001b[0m\u001b[1;33m,\u001b[0m\u001b[1;34m'The eggs and bacon variables are the same!'\u001b[0m\u001b[1;33m\u001b[0m\u001b[1;33m\u001b[0m\u001b[0m\n\u001b[0m",
      "\u001b[1;31mAssertionError\u001b[0m: The eggs and bacon variables are the same!"
     ]
    }
   ],
   "source": [
    "eggs = input('Enter the first string')\n",
    "bacon = input('Enter the second string')\n",
    "\n",
    "assert eggs.lower() != bacon.lower(),'The eggs and bacon variables are the same!' \n"
   ]
  },
  {
   "cell_type": "markdown",
   "id": "1f1b157c",
   "metadata": {},
   "source": [
    "**3. Create an assert statement that throws an AssertionError every time.**\n"
   ]
  },
  {
   "cell_type": "code",
   "execution_count": 3,
   "id": "a2396838",
   "metadata": {},
   "outputs": [
    {
     "ename": "AssertionError",
     "evalue": "",
     "output_type": "error",
     "traceback": [
      "\u001b[1;31m---------------------------------------------------------------------------\u001b[0m",
      "\u001b[1;31mAssertionError\u001b[0m                            Traceback (most recent call last)",
      "\u001b[1;32mC:\\Users\\KAVITA~1.MAL\\AppData\\Local\\Temp/ipykernel_3504/2103537015.py\u001b[0m in \u001b[0;36m<module>\u001b[1;34m\u001b[0m\n\u001b[1;32m----> 1\u001b[1;33m \u001b[1;32massert\u001b[0m \u001b[1;32mFalse\u001b[0m\u001b[1;33m\u001b[0m\u001b[1;33m\u001b[0m\u001b[0m\n\u001b[0m",
      "\u001b[1;31mAssertionError\u001b[0m: "
     ]
    }
   ],
   "source": [
    "assert False"
   ]
  },
  {
   "cell_type": "markdown",
   "id": "6a29c01e",
   "metadata": {},
   "source": [
    "**4. What are the two lines that must be present in your software in order to call logging.debug()?**"
   ]
  },
  {
   "cell_type": "code",
   "execution_count": 4,
   "id": "18ce0961",
   "metadata": {},
   "outputs": [],
   "source": [
    "import logging as lg\n",
    "lg.basicConfig(level = lg.DEBUG)"
   ]
  },
  {
   "cell_type": "markdown",
   "id": "a2e1b5f6",
   "metadata": {},
   "source": [
    "**5. What are the two lines that your program must have in order to have logging.debug() send a\n",
    "logging message to a file named programLog.txt?**"
   ]
  },
  {
   "cell_type": "code",
   "execution_count": 5,
   "id": "494b1a87",
   "metadata": {},
   "outputs": [],
   "source": [
    "import logging as lg\n",
    "lg.basicConfig(filename = 'programLog.txt', level = lg.DEBUG, format = ' %(asctime)s - %(levelname)s - %(message)s')"
   ]
  },
  {
   "cell_type": "markdown",
   "id": "74acf6dd",
   "metadata": {},
   "source": [
    "**6. What are the five levels of logging?**"
   ]
  },
  {
   "cell_type": "markdown",
   "id": "b558ec08",
   "metadata": {},
   "source": [
    "The five levels of logging are\n",
    "\n",
    "- DEBUG - logging.debug(): The lowest level and its useful for diagnosing problems.\n",
    "\n",
    "- INFO - logging.info(): Used to record generic information in the program.\n",
    "\n",
    "- WARNING - logging.warning(): Used to indicate a problem that does not prevent the program from working but might cause problem in the future.\n",
    "\n",
    "- ERROR - logging.error(): Used to record an error that caused the program to stop executing.\n",
    "\n",
    "- CRITICAL - logging.critical(): The highest level and it indicates a fatal error that has caused or is about to cause the program to stop running entirely."
   ]
  },
  {
   "cell_type": "markdown",
   "id": "c78daa70",
   "metadata": {},
   "source": [
    "**7. What line of code would you add to your software to disable all logging messages?**"
   ]
  },
  {
   "cell_type": "code",
   "execution_count": 6,
   "id": "086e9662",
   "metadata": {},
   "outputs": [],
   "source": [
    "lg.disable(lg.CRITICAL)"
   ]
  },
  {
   "cell_type": "markdown",
   "id": "6e2a2551",
   "metadata": {},
   "source": [
    "**8.Why is using logging messages better than using print() to display the same message?**"
   ]
  },
  {
   "cell_type": "markdown",
   "id": "267b709f",
   "metadata": {},
   "source": [
    "- If we use print() function, during debugging we will end up spending a lot of time removing print() calls from the code for each log message. We might even accidentally remove some print() calls that were being used for nonlog messages.\n",
    "\n",
    "- If we use log messages, we are free to fill the program with log messagesas many as we like, and we can always disable them later by adding a single logging.disable( ). We can switch between showing and hiding log messages using logging module.\n",
    "    \n",
    "- Hence, logging messages are better than using print() to display the same message"
   ]
  },
  {
   "cell_type": "markdown",
   "id": "2684800d",
   "metadata": {},
   "source": [
    "**9. What are the differences between the Step Over, Step In, and Step Out buttons in the debugger?**"
   ]
  },
  {
   "cell_type": "markdown",
   "id": "56a6b60a",
   "metadata": {},
   "source": [
    "- Step in: means that if there is a function call, it goes inside the function and you can see how the function is executing line by line till it returns and you go back to the next line right after the function call.\n",
    "\n",
    "- Step over: means that if there is a function call, it just executes it like a black box and returns the result, but you cannot see how the function was executed.\n",
    "\n",
    "- Step out: means that if you have Stepped in a function and now you want to skip seeing how the rest of the function is going to execute, you Step out and the function returns. Then, you go back to the next line, that is the line right after the function call."
   ]
  },
  {
   "cell_type": "markdown",
   "id": "ab9e20d5",
   "metadata": {},
   "source": [
    "**10.After you click Continue, when will the debugger stop ?**"
   ]
  },
  {
   "cell_type": "markdown",
   "id": "70f863ea",
   "metadata": {},
   "source": [
    "After clicking Continue button, the debugger will cause the program to execute normally until it terminates or reaches a breakpoint."
   ]
  },
  {
   "cell_type": "markdown",
   "id": "ca7124e1",
   "metadata": {},
   "source": [
    "**11. What is the concept of a breakpoint?**"
   ]
  },
  {
   "cell_type": "markdown",
   "id": "9f9c7fd2",
   "metadata": {},
   "source": [
    "A breakpoint can be set on a specific line of code and forces the debugger to pause whenever the program execution reaches that line."
   ]
  },
  {
   "cell_type": "code",
   "execution_count": null,
   "id": "dff0f730",
   "metadata": {},
   "outputs": [],
   "source": []
  }
 ],
 "metadata": {
  "kernelspec": {
   "display_name": "Python 3 (ipykernel)",
   "language": "python",
   "name": "python3"
  },
  "language_info": {
   "codemirror_mode": {
    "name": "ipython",
    "version": 3
   },
   "file_extension": ".py",
   "mimetype": "text/x-python",
   "name": "python",
   "nbconvert_exporter": "python",
   "pygments_lexer": "ipython3",
   "version": "3.9.7"
  }
 },
 "nbformat": 4,
 "nbformat_minor": 5
}
