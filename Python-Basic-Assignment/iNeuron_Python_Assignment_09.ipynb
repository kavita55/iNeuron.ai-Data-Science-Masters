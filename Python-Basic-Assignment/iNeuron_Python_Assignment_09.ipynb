{
 "cells": [
  {
   "cell_type": "markdown",
   "id": "c3b7ef1c",
   "metadata": {},
   "source": [
    "## iNeuron_Python_Assignment_09\n"
   ]
  },
  {
   "cell_type": "markdown",
   "id": "1b4ba314",
   "metadata": {},
   "source": [
    "**1. To what does a relative path refer?**\n"
   ]
  },
  {
   "cell_type": "markdown",
   "id": "b5a0dc3d",
   "metadata": {},
   "source": [
    "os.path.relpath() method in Python is used to get a relative filepath to the given path either from the current working directory or from the given directory. In short, relative paths are relative to the current working directory."
   ]
  },
  {
   "cell_type": "code",
   "execution_count": 2,
   "id": "81c682a5",
   "metadata": {},
   "outputs": [
    {
     "name": "stdout",
     "output_type": "stream",
     "text": [
      "..\\ User \\ Desktop \\ file.txt\n"
     ]
    }
   ],
   "source": [
    "import os\n",
    "path = \"/home / User / Desktop / file.txt\"\n",
    "start = \"/home / User \"\n",
    "relative_path = os.path.relpath(path,start)\n",
    "print(relative_path)"
   ]
  },
  {
   "cell_type": "markdown",
   "id": "2b3a8e05",
   "metadata": {},
   "source": [
    "**2. What does an absolute path start with your operating system?**\n"
   ]
  },
  {
   "cell_type": "markdown",
   "id": "50b2a400",
   "metadata": {},
   "source": [
    "An absolute path is a path that contains the entire path to the file or directory that we need to access. This path will begin at the home directory of your computer and will end with the file or directory that we wish to access.<br>\n",
    "\n",
    "Absolute paths ensure that Python can find the exact file on computer. Basically we can say that absolute paths start with the root folder, such as / or C:."
   ]
  },
  {
   "cell_type": "markdown",
   "id": "f669cd9b",
   "metadata": {},
   "source": [
    "**3. What do the functions os.getcwd() and os.chdir() do?**\n"
   ]
  },
  {
   "cell_type": "markdown",
   "id": "8e3e7412",
   "metadata": {},
   "source": [
    "In Python, we can get and change (set) the current working directory with os.getcwd() and os.chdir(). os module is included in the standard library, so no additional installation is required."
   ]
  },
  {
   "cell_type": "markdown",
   "id": "04db6f22",
   "metadata": {},
   "source": [
    "**4. What are the . and .. folders?**\n"
   ]
  },
  {
   "cell_type": "markdown",
   "id": "594727aa",
   "metadata": {},
   "source": [
    "The . folder is the current folder, and .. is the parent folder."
   ]
  },
  {
   "cell_type": "markdown",
   "id": "54d4a9b2",
   "metadata": {},
   "source": [
    "**5. In C:\\bacon\\eggs\\spam.txt, which part is the dir name, and which part is the base name?**\n"
   ]
  },
  {
   "cell_type": "markdown",
   "id": "0b6e1255",
   "metadata": {},
   "source": [
    "C:\\bacon\\eggs is the dir name, while spam. txt is the base name."
   ]
  },
  {
   "cell_type": "markdown",
   "id": "2c4c6578",
   "metadata": {},
   "source": [
    "**6. What are the three “mode” arguments that can be passed to the open() function?**\n"
   ]
  },
  {
   "cell_type": "markdown",
   "id": "1e78b3ea",
   "metadata": {},
   "source": [
    "open(file, mode='r', buffering=-1, encoding=None, errors=None, newline=None, closefd=True, opener=None)<br>\n",
    "\n",
    "r: Opens the file in read-only mode. Starts reading from the beginning of the file and is the default mode for the open() function.)<br>\n",
    "\n",
    "w: Opens in write-only mode. The pointer is placed at the beginning of the file and this will overwrite any existing file with the same name. It will create a new file if one with the same name doesn't exist.)<br>\n",
    "\n",
    "r+: opens file for reading and writing placing the pointer at the beginning of the file.)<br>\n",
    "\n",
    "a: append mode)<br>"
   ]
  },
  {
   "cell_type": "markdown",
   "id": "f33022d8",
   "metadata": {},
   "source": [
    "**7. What happens if an existing file is opened in write mode?**\n"
   ]
  },
  {
   "cell_type": "markdown",
   "id": "4fc7d4fd",
   "metadata": {},
   "source": [
    "The pointer is placed at the beginning of the file and this will overwrite any existing file with the same name. It will create a new file if one with the same name doesn't exist."
   ]
  },
  {
   "cell_type": "markdown",
   "id": "2417c8f5",
   "metadata": {},
   "source": [
    "**8. How do you tell the difference between read() and readlines()?**\n",
    "\n"
   ]
  },
  {
   "cell_type": "markdown",
   "id": "34b426eb",
   "metadata": {},
   "source": [
    " The read() method returns the file's entire contents as a single string value. The readlines() method returns a list of strings, where each string is a line from the file's contents."
   ]
  },
  {
   "cell_type": "markdown",
   "id": "c7755e09",
   "metadata": {},
   "source": [
    "**9. What data structure does a shelf value resemble?**\n"
   ]
  },
  {
   "cell_type": "markdown",
   "id": "e1ff1f41",
   "metadata": {},
   "source": [
    " A shelf value resembles a dictionary value; it has keys and values, along with keys() and values() methods that work similarly to the dictionary methods of the same names."
   ]
  }
 ],
 "metadata": {
  "kernelspec": {
   "display_name": "Python 3 (ipykernel)",
   "language": "python",
   "name": "python3"
  },
  "language_info": {
   "codemirror_mode": {
    "name": "ipython",
    "version": 3
   },
   "file_extension": ".py",
   "mimetype": "text/x-python",
   "name": "python",
   "nbconvert_exporter": "python",
   "pygments_lexer": "ipython3",
   "version": "3.9.7"
  }
 },
 "nbformat": 4,
 "nbformat_minor": 5
}
