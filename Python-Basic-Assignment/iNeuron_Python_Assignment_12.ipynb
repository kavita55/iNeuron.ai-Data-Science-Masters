{
 "cells": [
  {
   "cell_type": "markdown",
   "id": "f8a6317e",
   "metadata": {},
   "source": [
    "## iNeuron Python Assignment 12"
   ]
  },
  {
   "cell_type": "markdown",
   "id": "875b31e4",
   "metadata": {},
   "source": [
    "**1. In what modes should the PdfFileReader() and PdfFileWriter() File objects will be opened?**"
   ]
  },
  {
   "cell_type": "markdown",
   "id": "a2498765",
   "metadata": {},
   "source": [
    "- PdfFileReader() file object needs to be opened in read-binary mode by passing 'rb' as the second argument to open() function.\n",
    "\n",
    "- PdfFileWriter() file object needs to be opened in write-binary mode by passing 'wb' as the second arguement to open() function."
   ]
  },
  {
   "cell_type": "markdown",
   "id": "a7749214",
   "metadata": {},
   "source": [
    "**2. From a PdfFileReader object, how do you get a Page object for page 5?**"
   ]
  },
  {
   "cell_type": "markdown",
   "id": "16d9e891",
   "metadata": {},
   "source": [
    "From a PdfFileReader object, we can get the page object for page 5 by calling getPage(4) function."
   ]
  },
  {
   "cell_type": "markdown",
   "id": "f0b123fd",
   "metadata": {},
   "source": [
    "**3. What PdfFileReader variable stores the number of pages in the PDF document?**"
   ]
  },
  {
   "cell_type": "markdown",
   "id": "0ad73624",
   "metadata": {},
   "source": [
    "The number of pages in the PDF document is stored in the numPages variable of a PdfFileReader object"
   ]
  },
  {
   "cell_type": "markdown",
   "id": "9f2191f5",
   "metadata": {},
   "source": [
    "**4. If a PdfFileReader object’s PDF is encrypted with the password swordfish, what must you do\n",
    "before you can obtain Page objects from it?**"
   ]
  },
  {
   "cell_type": "markdown",
   "id": "fa23c5a3",
   "metadata": {},
   "source": [
    "If a pdfFileReader object's PDF is encrypted, call the decrypt() function and pass the password swordfish as a string. Next, obtain the page objects from it using getPage() function."
   ]
  },
  {
   "cell_type": "markdown",
   "id": "56d693a9",
   "metadata": {},
   "source": [
    "**5. What methods do you use to rotate a page?**"
   ]
  },
  {
   "cell_type": "markdown",
   "id": "0c58570a",
   "metadata": {},
   "source": [
    "The pages can be rotated in 90-degree increments with the rotateClockwise() and rotateCounterClockwise() methods."
   ]
  },
  {
   "cell_type": "markdown",
   "id": "9ab4d920",
   "metadata": {},
   "source": [
    "**6. What is the difference between a Run object and a Paragraph object?**"
   ]
  },
  {
   "cell_type": "markdown",
   "id": "a0185a36",
   "metadata": {},
   "source": [
    "Paragraph objects represents the paragraphs in the document. Each of these Paragraph objects contains a list of one or more Run objects. Runs are contiguous groups of characters within a paragraph.\n"
   ]
  },
  {
   "cell_type": "markdown",
   "id": "737d7568",
   "metadata": {},
   "source": [
    "**7. How do you obtain a list of Paragraph objects for a Document object that’s stored in a variable\n",
    "named doc?**"
   ]
  },
  {
   "cell_type": "markdown",
   "id": "94a29f8e",
   "metadata": {},
   "source": [
    "By calling doc.paragraphs , we can obtain list of Paragraph objects for a Document object that’s stored in a variable named doc\n"
   ]
  },
  {
   "cell_type": "markdown",
   "id": "def238f0",
   "metadata": {},
   "source": [
    "**8. What type of object has bold, underline, italic, strike, and outline variables?**"
   ]
  },
  {
   "cell_type": "markdown",
   "id": "5ffad93e",
   "metadata": {},
   "source": [
    "Run objects has bold, underline, italic, strike, and outline variables"
   ]
  },
  {
   "cell_type": "markdown",
   "id": "2a3a355c",
   "metadata": {},
   "source": [
    "**9. What is the difference between False, True, and None for the bold variable?**"
   ]
  },
  {
   "cell_type": "markdown",
   "id": "87d2b287",
   "metadata": {},
   "source": [
    "True - the attribute is always enabled, no matter what other styles are applied to the run.\n",
    "\n",
    "False - the attribute is always disabled.\n",
    "\n",
    "None - defaults to whatever the run’s style is set to."
   ]
  },
  {
   "cell_type": "markdown",
   "id": "d2044ed1",
   "metadata": {},
   "source": [
    "**10. How do you create a Document object for a new Word document?**"
   ]
  },
  {
   "cell_type": "markdown",
   "id": "42ba1b28",
   "metadata": {},
   "source": [
    "Call the docx.Document() function."
   ]
  },
  {
   "cell_type": "markdown",
   "id": "e056386a",
   "metadata": {},
   "source": [
    "**11. How do you add a paragraph with the text &#39;Hello, there!&#39; to a Document object stored in a\n",
    "variable named doc?**"
   ]
  },
  {
   "cell_type": "markdown",
   "id": "20013ba8",
   "metadata": {},
   "source": [
    "doc.add_paragraph('Hello there!')"
   ]
  },
  {
   "cell_type": "markdown",
   "id": "32422bd3",
   "metadata": {},
   "source": [
    "**12. What integers represent the levels of headings available in Word documents?**"
   ]
  },
  {
   "cell_type": "markdown",
   "id": "2f90e63b",
   "metadata": {},
   "source": [
    "Integers 1 to 4 represents for various heading levels, with 1 being the main heading and 4 the lowest subheading."
   ]
  },
  {
   "cell_type": "code",
   "execution_count": null,
   "id": "fbc1852d",
   "metadata": {},
   "outputs": [],
   "source": []
  }
 ],
 "metadata": {
  "kernelspec": {
   "display_name": "Python 3 (ipykernel)",
   "language": "python",
   "name": "python3"
  },
  "language_info": {
   "codemirror_mode": {
    "name": "ipython",
    "version": 3
   },
   "file_extension": ".py",
   "mimetype": "text/x-python",
   "name": "python",
   "nbconvert_exporter": "python",
   "pygments_lexer": "ipython3",
   "version": "3.9.7"
  }
 },
 "nbformat": 4,
 "nbformat_minor": 5
}
