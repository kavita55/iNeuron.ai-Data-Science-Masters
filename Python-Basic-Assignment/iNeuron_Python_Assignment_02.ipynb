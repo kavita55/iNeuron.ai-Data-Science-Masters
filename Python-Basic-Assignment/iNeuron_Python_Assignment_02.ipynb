{
 "cells": [
  {
   "cell_type": "markdown",
   "id": "5dc7f33c",
   "metadata": {},
   "source": [
    "## iNeuron_Python_Assignment_02\n"
   ]
  },
  {
   "cell_type": "markdown",
   "id": "69482d9c",
   "metadata": {},
   "source": [
    "**1.What are the two values of the Boolean data type? How do you write them?**\n",
    "> Two values of boolean data type are: True & False. And can be written as follows:"
   ]
  },
  {
   "cell_type": "code",
   "execution_count": 1,
   "id": "b7d37ae6",
   "metadata": {},
   "outputs": [],
   "source": [
    "a = True\n",
    "b = False"
   ]
  },
  {
   "cell_type": "code",
   "execution_count": 2,
   "id": "9408fcf6",
   "metadata": {},
   "outputs": [
    {
     "name": "stdout",
     "output_type": "stream",
     "text": [
      "True\n",
      "<class 'bool'>\n",
      "False\n",
      "<class 'bool'>\n"
     ]
    }
   ],
   "source": [
    "print(a)\n",
    "print(type(a))\n",
    "print(b)\n",
    "print(type(b))"
   ]
  },
  {
   "cell_type": "markdown",
   "id": "9fe51f5c",
   "metadata": {},
   "source": [
    "**2. What are the three different types of Boolean operators?**\n",
    "> Boolean operators are used in a boolean expression to return boolean values. There are three types of python boolean operators: AND operator, OR operator, NOT operator\n",
    "\n",
    "e.g."
   ]
  },
  {
   "cell_type": "code",
   "execution_count": 3,
   "id": "f17c7198",
   "metadata": {},
   "outputs": [
    {
     "name": "stdout",
     "output_type": "stream",
     "text": [
      "False\n",
      "True\n"
     ]
    }
   ],
   "source": [
    "print((2 < 5) and (3 > 4))\n",
    "\n",
    "print((2 != 5) and (3  == 3))"
   ]
  },
  {
   "cell_type": "markdown",
   "id": "d7aeb7e3",
   "metadata": {},
   "source": [
    "**3. Make a list of each Boolean operator's truth tables (i.e. every possible combination of Boolean values for the operator and what it evaluate ).**"
   ]
  },
  {
   "cell_type": "code",
   "execution_count": 4,
   "id": "0215ad39",
   "metadata": {},
   "outputs": [
    {
     "name": "stdout",
     "output_type": "stream",
     "text": [
      "[False, False, False, True]\n",
      "[False, True, True, True]\n"
     ]
    }
   ],
   "source": [
    "lis_1 = [ False and False , False and True , True and False , True and True ]   #and\n",
    "lis_2 = [ False or False , False or True , True or False , True or True ]       #or\n",
    "\n",
    "print(lis_1)\n",
    "print(lis_2)"
   ]
  },
  {
   "cell_type": "markdown",
   "id": "a39abc6d",
   "metadata": {},
   "source": [
    "**4. What are the values of the following expressions?** <br>\n",
    "(5 > 4) and (3 == 5) <br>\n",
    "not (5 > 4)<br>\n",
    "(5 > 4) or (3 == 5)<br>\n",
    "not ((5 > 4) or (3 == 5))<br>\n",
    "(True and True) and (True == False)<br>\n",
    "(not False) or (not True)<br>\n"
   ]
  },
  {
   "cell_type": "code",
   "execution_count": 5,
   "id": "9c2e7d45",
   "metadata": {},
   "outputs": [
    {
     "data": {
      "text/plain": [
       "False"
      ]
     },
     "execution_count": 5,
     "metadata": {},
     "output_type": "execute_result"
    }
   ],
   "source": [
    "(5 > 4) and (3 == 5)"
   ]
  },
  {
   "cell_type": "code",
   "execution_count": 6,
   "id": "a144f889",
   "metadata": {},
   "outputs": [
    {
     "data": {
      "text/plain": [
       "False"
      ]
     },
     "execution_count": 6,
     "metadata": {},
     "output_type": "execute_result"
    }
   ],
   "source": [
    "not (5 > 4)"
   ]
  },
  {
   "cell_type": "code",
   "execution_count": 7,
   "id": "83733b64",
   "metadata": {},
   "outputs": [
    {
     "data": {
      "text/plain": [
       "True"
      ]
     },
     "execution_count": 7,
     "metadata": {},
     "output_type": "execute_result"
    }
   ],
   "source": [
    "(5 > 4) or (3 == 5)"
   ]
  },
  {
   "cell_type": "code",
   "execution_count": 8,
   "id": "61e65e7b",
   "metadata": {},
   "outputs": [
    {
     "data": {
      "text/plain": [
       "False"
      ]
     },
     "execution_count": 8,
     "metadata": {},
     "output_type": "execute_result"
    }
   ],
   "source": [
    "not ((5 > 4) or (3 == 5))"
   ]
  },
  {
   "cell_type": "code",
   "execution_count": 9,
   "id": "ed5049e1",
   "metadata": {},
   "outputs": [
    {
     "data": {
      "text/plain": [
       "False"
      ]
     },
     "execution_count": 9,
     "metadata": {},
     "output_type": "execute_result"
    }
   ],
   "source": [
    "(True and True) and (True == False)"
   ]
  },
  {
   "cell_type": "code",
   "execution_count": 10,
   "id": "eecfb17b",
   "metadata": {},
   "outputs": [
    {
     "data": {
      "text/plain": [
       "True"
      ]
     },
     "execution_count": 10,
     "metadata": {},
     "output_type": "execute_result"
    }
   ],
   "source": [
    "(not False) or (not True)"
   ]
  },
  {
   "cell_type": "markdown",
   "id": "6ebcabc5",
   "metadata": {},
   "source": [
    "**5. What are the six comparison operators?**\n"
   ]
  },
  {
   "cell_type": "markdown",
   "id": "8491072d",
   "metadata": {},
   "source": [
    "A comparison operator compares two values and returns a boolean value, either True or False. <br>\n",
    "Python has six comparison operators, which are as follows:<br>\n",
    "\n",
    "Less than ( < )<br>\n",
    "Less than or equal to (<=)<br>\n",
    "Greater than (>)<br>\n",
    "Greater than or equal to (>=)<br>\n",
    "Equal to ( == )<br>\n",
    "Not equal to ( != )<br>"
   ]
  },
  {
   "cell_type": "markdown",
   "id": "153e2829",
   "metadata": {},
   "source": [
    "**6. How do you tell the difference between the equal to and assignment operators?Describe a condition and when you would use one.**"
   ]
  },
  {
   "cell_type": "markdown",
   "id": "8bd62816",
   "metadata": {},
   "source": [
    "The “=” is an assignment operator is used to assign the value on the right to the variable on the left. <br>\n",
    "Example:<br>\n",
    "    \n",
    "\n",
    "a = 1<br>\n",
    "\n",
    "b = 2<br>\n",
    "\n",
    "The ‘==’ operator checks whether the two given operands are equal or not. If so, it returns true. Otherwise it returns false.<br>"
   ]
  },
  {
   "cell_type": "markdown",
   "id": "f1ebe79f",
   "metadata": {},
   "source": [
    "**7. Identify the three blocks in this code:** <br>\n",
    "spam = 0<br>\n",
    "if spam == 10:<br>\n",
    "print('eggs')<br>\n",
    "if spam > 5:<br>\n",
    "print('bacon')<br>\n",
    "else:<br>\n",
    "print('ham')<br>\n",
    "print('spam')<br>\n",
    "print('spam')<br>\n"
   ]
  },
  {
   "cell_type": "code",
   "execution_count": 11,
   "id": "26b32175",
   "metadata": {},
   "outputs": [
    {
     "name": "stdout",
     "output_type": "stream",
     "text": [
      "ham\n",
      "spam\n",
      "spam\n"
     ]
    }
   ],
   "source": [
    "spam = 0\n",
    "if spam == 10:    #Block-1\n",
    "    print('eggs')\n",
    "    if spam > 5:  #Block-2\n",
    "        print('bacon')\n",
    "else:             #Block-3\n",
    "    print('ham')\n",
    "print('spam')\n",
    "print('spam')"
   ]
  },
  {
   "cell_type": "markdown",
   "id": "d9b54ed7",
   "metadata": {},
   "source": [
    "**8. Write code that prints Hello if 1 is stored in spam, prints Howdy if 2 is stored in spam, and prints Greetings! if anything else is stored in spam.**"
   ]
  },
  {
   "cell_type": "code",
   "execution_count": 12,
   "id": "929c5d75",
   "metadata": {},
   "outputs": [
    {
     "name": "stdout",
     "output_type": "stream",
     "text": [
      "Enter a number1\n",
      "Hello\n"
     ]
    }
   ],
   "source": [
    "spam = int(input(\"Enter a number\"))\n",
    "\n",
    "if spam == 1:\n",
    "    print(\"Hello\")\n",
    "elif spam == 2:\n",
    "    print(\"Howdy\")\n",
    "else:\n",
    "    print('Greetings!')"
   ]
  },
  {
   "cell_type": "markdown",
   "id": "f10007bd",
   "metadata": {},
   "source": [
    "**9.If your programme is stuck in an endless loop, what keys you’ll press?**\n",
    "> CTRL + C"
   ]
  },
  {
   "cell_type": "markdown",
   "id": "a9609a0d",
   "metadata": {},
   "source": [
    "**10. How can you tell the difference between break and continue?**\n"
   ]
  },
  {
   "cell_type": "markdown",
   "id": "e0107aa3",
   "metadata": {},
   "source": [
    "The main difference between break and continue statement is that when break keyword is encountered, it will exit the loop.\n",
    "\n",
    "In case of continue keyword, the current iteration that is running will be skipped, and it will proceed with the next iteration.\n"
   ]
  },
  {
   "cell_type": "markdown",
   "id": "35085e8d",
   "metadata": {},
   "source": [
    "**11. In a for loop, what is the difference between range(10), range(0, 10), and range(0, 10, 1)?**\n",
    "> All of three mentioned above are same and will get the same output."
   ]
  },
  {
   "cell_type": "markdown",
   "id": "2ce1ebad",
   "metadata": {},
   "source": [
    "**12. Write a short program that prints the numbers 1 to 10 using a for loop. Then write an equivalent program that prints the numbers 1 to 10 using a while loop.**"
   ]
  },
  {
   "cell_type": "code",
   "execution_count": 13,
   "id": "ee7512f0",
   "metadata": {},
   "outputs": [
    {
     "name": "stdout",
     "output_type": "stream",
     "text": [
      "1\n",
      "2\n",
      "3\n",
      "4\n",
      "5\n",
      "6\n",
      "7\n",
      "8\n",
      "9\n",
      "10\n"
     ]
    }
   ],
   "source": [
    "#Using for loop\n",
    "for i in range(1,11):\n",
    "    print(i)"
   ]
  },
  {
   "cell_type": "code",
   "execution_count": 14,
   "id": "e86d1956",
   "metadata": {},
   "outputs": [
    {
     "name": "stdout",
     "output_type": "stream",
     "text": [
      "1\n",
      "2\n",
      "3\n",
      "4\n",
      "5\n",
      "6\n",
      "7\n",
      "8\n",
      "9\n",
      "10\n",
      "11\n"
     ]
    }
   ],
   "source": [
    "i = 1\n",
    "while i <= 11:\n",
    "    print(i)\n",
    "    i = i + 1"
   ]
  },
  {
   "cell_type": "markdown",
   "id": "d5bb2231",
   "metadata": {},
   "source": [
    "**13. If you had a function named bacon() inside a module named spam, how would you call it after importing spam?**"
   ]
  },
  {
   "cell_type": "markdown",
   "id": "8d26a935",
   "metadata": {},
   "source": [
    "This function can be called with : **spam.bacon()**."
   ]
  }
 ],
 "metadata": {
  "kernelspec": {
   "display_name": "Python 3 (ipykernel)",
   "language": "python",
   "name": "python3"
  },
  "language_info": {
   "codemirror_mode": {
    "name": "ipython",
    "version": 3
   },
   "file_extension": ".py",
   "mimetype": "text/x-python",
   "name": "python",
   "nbconvert_exporter": "python",
   "pygments_lexer": "ipython3",
   "version": "3.9.7"
  }
 },
 "nbformat": 4,
 "nbformat_minor": 5
}
