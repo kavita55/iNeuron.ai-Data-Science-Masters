{
 "cells": [
  {
   "cell_type": "markdown",
   "id": "e03d6cbe",
   "metadata": {},
   "source": [
    "## iNeuron Python Assignment 5"
   ]
  },
  {
   "cell_type": "markdown",
   "id": "1d330ebc",
   "metadata": {},
   "source": [
    "**1. What does an empty dictionary's code look like?**\n"
   ]
  },
  {
   "cell_type": "code",
   "execution_count": 1,
   "id": "e6ce5ff0",
   "metadata": {},
   "outputs": [
    {
     "data": {
      "text/plain": [
       "dict"
      ]
     },
     "execution_count": 1,
     "metadata": {},
     "output_type": "execute_result"
    }
   ],
   "source": [
    "# defining empty dictionary\n",
    "dict_ = {}\n",
    "type(dict_)"
   ]
  },
  {
   "cell_type": "markdown",
   "id": "687849da",
   "metadata": {},
   "source": [
    "**2. What is the value of a dictionary value with the key 'foo' and the value 42?**\n"
   ]
  },
  {
   "cell_type": "code",
   "execution_count": 2,
   "id": "fe072237",
   "metadata": {},
   "outputs": [
    {
     "data": {
      "text/plain": [
       "{'foo': 42}"
      ]
     },
     "execution_count": 2,
     "metadata": {},
     "output_type": "execute_result"
    }
   ],
   "source": [
    "dict_ = {'foo': 42}\n",
    "dict_"
   ]
  },
  {
   "cell_type": "markdown",
   "id": "c9a87c9a",
   "metadata": {},
   "source": [
    "**3. What is the most significant distinction between a dictionary and a list?**\n"
   ]
  },
  {
   "cell_type": "markdown",
   "id": "674f068c",
   "metadata": {},
   "source": [
    "- The items stored in a dictionary are unordered, while the items in a list are ordered.\n",
    "- Dictionary stores key value pairs as there is no such pairs in list.\n",
    "\n"
   ]
  },
  {
   "cell_type": "markdown",
   "id": "93512923",
   "metadata": {},
   "source": [
    "**4. What happens if you try to access spam['foo'] if spam is {'bar': 100}?**\n",
    "\n"
   ]
  },
  {
   "cell_type": "code",
   "execution_count": 3,
   "id": "2ab06f5c",
   "metadata": {},
   "outputs": [
    {
     "ename": "KeyError",
     "evalue": "'foo'",
     "output_type": "error",
     "traceback": [
      "\u001b[1;31m---------------------------------------------------------------------------\u001b[0m",
      "\u001b[1;31mKeyError\u001b[0m                                  Traceback (most recent call last)",
      "\u001b[1;32mC:\\Users\\KAVITA~1.MAL\\AppData\\Local\\Temp/ipykernel_24520/4257391019.py\u001b[0m in \u001b[0;36m<module>\u001b[1;34m\u001b[0m\n\u001b[0;32m      2\u001b[0m \u001b[1;31m# Accessing foo\u001b[0m\u001b[1;33m\u001b[0m\u001b[1;33m\u001b[0m\u001b[0m\n\u001b[0;32m      3\u001b[0m \u001b[1;33m\u001b[0m\u001b[0m\n\u001b[1;32m----> 4\u001b[1;33m \u001b[0mspam\u001b[0m\u001b[1;33m[\u001b[0m\u001b[1;34m'foo'\u001b[0m\u001b[1;33m]\u001b[0m\u001b[1;33m\u001b[0m\u001b[1;33m\u001b[0m\u001b[0m\n\u001b[0m",
      "\u001b[1;31mKeyError\u001b[0m: 'foo'"
     ]
    }
   ],
   "source": [
    " spam = {'bar': 100}\n",
    "# Accessing foo\n",
    "\n",
    "spam['foo']"
   ]
  },
  {
   "cell_type": "markdown",
   "id": "9408b956",
   "metadata": {},
   "source": [
    "As shown above,it will throw an KeyError. The Python KeyError is a type of LookupError exception and denotes that there was an issue retrieving the key you were looking for. When you see a KeyError , the semantic meaning is that the key being looked for could not be found."
   ]
  },
  {
   "cell_type": "markdown",
   "id": "8f8eea45",
   "metadata": {},
   "source": [
    "**5. If a dictionary is stored in spam, what is the difference between the expressions 'cat' in spam and 'cat' in spam.keys()?**"
   ]
  },
  {
   "cell_type": "markdown",
   "id": "cfb8e177",
   "metadata": {},
   "source": [
    "There is no difference. The in operator checks whether a value exists as a key in the dictionary.\n"
   ]
  },
  {
   "cell_type": "markdown",
   "id": "6fedf5a5",
   "metadata": {},
   "source": [
    "**6. If a dictionary is stored in spam, what is the difference between the expressions 'cat' in spam and 'cat' in spam.values()?**\n"
   ]
  },
  {
   "cell_type": "markdown",
   "id": "530e48a8",
   "metadata": {},
   "source": [
    "'cat' in spam checks whether there is a 'cat' key in the dictionary, while 'cat' in spam.values() checks whether there is a value 'cat' for one of the keys in spam."
   ]
  },
  {
   "cell_type": "markdown",
   "id": "57f24ea4",
   "metadata": {},
   "source": [
    "**7. What is a shortcut for the following code?<br>\n",
    "if 'color' not in spam:<br>\n",
    "spam['color'] = 'black'**<br>\n",
    "\n"
   ]
  },
  {
   "cell_type": "code",
   "execution_count": 4,
   "id": "2d13ab03",
   "metadata": {},
   "outputs": [
    {
     "data": {
      "text/plain": [
       "'black'"
      ]
     },
     "execution_count": 4,
     "metadata": {},
     "output_type": "execute_result"
    }
   ],
   "source": [
    "spam.setdefault('color', 'black')"
   ]
  },
  {
   "cell_type": "markdown",
   "id": "aac10bd3",
   "metadata": {},
   "source": [
    "**8. How do you \"pretty print\" dictionary values using which module and function?**\n"
   ]
  },
  {
   "cell_type": "markdown",
   "id": "8defe741",
   "metadata": {},
   "source": [
    " pprint.pprint(), pprint is a native Python library that allows us to customize the formatting of our output."
   ]
  },
  {
   "cell_type": "code",
   "execution_count": 5,
   "id": "55d0fe79",
   "metadata": {},
   "outputs": [
    {
     "name": "stdout",
     "output_type": "stream",
     "text": [
      "[<Recursion on list with id=2375408724288>, 'A', 'B', 'C', 'D', 'E']\n"
     ]
    }
   ],
   "source": [
    "import pprint\n",
    "temp = ['A', 'B', 'C', 'D', 'E']\n",
    "temp.insert(0, temp)\n",
    "pprint.pprint(temp)"
   ]
  },
  {
   "cell_type": "code",
   "execution_count": null,
   "id": "c57c7e69",
   "metadata": {},
   "outputs": [],
   "source": []
  }
 ],
 "metadata": {
  "kernelspec": {
   "display_name": "Python 3 (ipykernel)",
   "language": "python",
   "name": "python3"
  },
  "language_info": {
   "codemirror_mode": {
    "name": "ipython",
    "version": 3
   },
   "file_extension": ".py",
   "mimetype": "text/x-python",
   "name": "python",
   "nbconvert_exporter": "python",
   "pygments_lexer": "ipython3",
   "version": "3.9.7"
  }
 },
 "nbformat": 4,
 "nbformat_minor": 5
}
