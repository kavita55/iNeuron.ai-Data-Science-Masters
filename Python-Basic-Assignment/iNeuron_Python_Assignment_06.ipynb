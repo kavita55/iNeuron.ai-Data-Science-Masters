{
 "cells": [
  {
   "cell_type": "markdown",
   "id": "2d7deb67",
   "metadata": {},
   "source": [
    "## iNeuron_Python_Assignment_06\n"
   ]
  },
  {
   "cell_type": "markdown",
   "id": "f7fde326",
   "metadata": {},
   "source": [
    "**1. What are escape characters, and how do you use them?**\n"
   ]
  },
  {
   "cell_type": "markdown",
   "id": "5140b3cf",
   "metadata": {},
   "source": [
    "To insert characters that are illegal in a string, use an escape character.<br>\n",
    "\n",
    "An escape character is a backslash \\ followed by the character you want to insert."
   ]
  },
  {
   "cell_type": "code",
   "execution_count": 1,
   "id": "1309c66d",
   "metadata": {},
   "outputs": [
    {
     "name": "stdout",
     "output_type": "stream",
     "text": [
      "This is my first assignment in \"iNeauron\" \n",
      "Hello World! \t Python\n",
      "\n",
      "\n"
     ]
    }
   ],
   "source": [
    "txt1 = \"This is my first assignment in \\\"iNeauron\\\" \" #single quote\n",
    "print(txt1)\n",
    "\n",
    "txt2 = \"Hello World! \\t Python\\n\\n\" #newline and tab\n",
    "print(txt2)\n",
    "\n"
   ]
  },
  {
   "cell_type": "markdown",
   "id": "4de18802",
   "metadata": {},
   "source": [
    "**2. What do the escape characters n and t stand for?**\n"
   ]
  },
  {
   "cell_type": "markdown",
   "id": "eb5e9394",
   "metadata": {},
   "source": [
    " n stands for newline and t stands for tab"
   ]
  },
  {
   "cell_type": "markdown",
   "id": "ff134a3e",
   "metadata": {},
   "source": [
    "**3. What is the way to include backslash characters in a string?**\n"
   ]
  },
  {
   "cell_type": "code",
   "execution_count": 2,
   "id": "fbc7eb86",
   "metadata": {},
   "outputs": [
    {
     "name": "stdout",
     "output_type": "stream",
     "text": [
      "This is my first code in \\Python.\n"
     ]
    }
   ],
   "source": [
    "# This is how one can include backslach in python string\n",
    "\n",
    "txt = \"This is my first code in \\\\Python.\"\n",
    "print(txt)"
   ]
  },
  {
   "cell_type": "markdown",
   "id": "5884d429",
   "metadata": {},
   "source": [
    "**4. The string \"Howl's Moving Castle\" is a correct value. Why isn't the single quote character in the word Howl's not escaped a problem?**\n"
   ]
  },
  {
   "cell_type": "markdown",
   "id": "323d0cc7",
   "metadata": {},
   "source": [
    " This is because in the above string double quotes are used to mark the beginning and end of the string.So single quate is taken as character in it"
   ]
  },
  {
   "cell_type": "markdown",
   "id": "d1b6f104",
   "metadata": {},
   "source": [
    "**5. How do you write a string of newlines if you don't want to use the n character?**\n"
   ]
  },
  {
   "cell_type": "markdown",
   "id": "cf1434b2",
   "metadata": {},
   "source": [
    "Multiline strings allow you to use newlines in strings without the \\n escape character."
   ]
  },
  {
   "cell_type": "markdown",
   "id": "83638f85",
   "metadata": {},
   "source": [
    "**6. What are the values of the given expressions?<br>\n",
    "'Hello, world!'[1]<br>\n",
    "'Hello, world!'[0:5]<br>\n",
    "'Hello, world!'[:5]<br>\n",
    "'Hello, world!'[3:]**\n",
    "\n"
   ]
  },
  {
   "cell_type": "code",
   "execution_count": 3,
   "id": "834c6b23",
   "metadata": {},
   "outputs": [
    {
     "name": "stdout",
     "output_type": "stream",
     "text": [
      "e\n",
      "Hello\n",
      "Hello\n",
      "lo, world!\n"
     ]
    }
   ],
   "source": [
    "print('Hello, world!'[1])\n",
    "\n",
    "print('Hello, world!'[0:5])\n",
    "\n",
    "print('Hello, world!'[:5])\n",
    "\n",
    "print('Hello, world!'[3:])"
   ]
  },
  {
   "cell_type": "markdown",
   "id": "b7ab4142",
   "metadata": {},
   "source": [
    "**7. What are the values of the following expressions?<br>\n",
    "'Hello'.upper()<br>\n",
    "'Hello'.upper().isupper()<br>\n",
    "'Hello'.upper().lower()<br>**\n"
   ]
  },
  {
   "cell_type": "code",
   "execution_count": 4,
   "id": "925dd0f7",
   "metadata": {},
   "outputs": [
    {
     "name": "stdout",
     "output_type": "stream",
     "text": [
      "HELLO\n",
      "True\n",
      "hello\n"
     ]
    }
   ],
   "source": [
    "print('Hello'.upper()) #convert to uppercase\n",
    "\n",
    "print('Hello'.upper().isupper()) #checks if all characters are in upper case or not\n",
    "\n",
    "print('Hello'.upper().lower())  #converts string i lower case"
   ]
  },
  {
   "cell_type": "markdown",
   "id": "74214bba",
   "metadata": {},
   "source": [
    "**8. What are the values of the following expressions?<br>\n",
    "'Remember, remember, the fifth of July.'.split()<br>\n",
    "'-'.join('There can only one.'.split())**\n",
    "\n"
   ]
  },
  {
   "cell_type": "code",
   "execution_count": 5,
   "id": "55054b51",
   "metadata": {},
   "outputs": [
    {
     "name": "stdout",
     "output_type": "stream",
     "text": [
      "['Remember,', 'remember,', 'the', 'fifth', 'of', 'July.']\n",
      "There-can-only-one.\n"
     ]
    }
   ],
   "source": [
    "print('Remember, remember, the fifth of July.'.split())   #splits the string and saves in a list\n",
    "\n",
    "\n",
    "print('-'.join('There can only one.'.split()))            #joins the string with given delimeter"
   ]
  },
  {
   "cell_type": "markdown",
   "id": "0b76b18f",
   "metadata": {},
   "source": [
    "**9. What are the methods for right-justifying, left-justifying, and centering a string?**\n"
   ]
  },
  {
   "cell_type": "markdown",
   "id": "958e76e2",
   "metadata": {},
   "source": [
    "The rjust(), ljust(), and center() string methods, respectively"
   ]
  },
  {
   "cell_type": "code",
   "execution_count": 6,
   "id": "fc3cdc4d",
   "metadata": {},
   "outputs": [
    {
     "name": "stdout",
     "output_type": "stream",
     "text": [
      "                                               Python                                               \n",
      "                                                                                              Python\n",
      "Python                                                                                              \n"
     ]
    }
   ],
   "source": [
    "a = \"Python\"\n",
    "print(a.center(100))\n",
    "print(a.rjust(100))\n",
    "print(a.ljust(100))"
   ]
  },
  {
   "cell_type": "markdown",
   "id": "1e0c6acf",
   "metadata": {},
   "source": [
    "**10. What is the best way to remove whitespace characters from the start or end?**\n"
   ]
  },
  {
   "cell_type": "markdown",
   "id": "32e0418f",
   "metadata": {},
   "source": [
    "The **lstrip() and rstrip()** methods remove whitespace from the left and right ends of a string, respectively."
   ]
  },
  {
   "cell_type": "code",
   "execution_count": 7,
   "id": "4128a82e",
   "metadata": {},
   "outputs": [
    {
     "name": "stdout",
     "output_type": "stream",
     "text": [
      "Python                     \n",
      "                        Python\n",
      "Python\n"
     ]
    }
   ],
   "source": [
    "a = \"                        Python                     \"\n",
    "\n",
    "\n",
    "print(a.lstrip())\n",
    "print(a.rstrip())\n",
    "print(a.strip())"
   ]
  },
  {
   "cell_type": "code",
   "execution_count": null,
   "id": "2997bee1",
   "metadata": {},
   "outputs": [],
   "source": []
  }
 ],
 "metadata": {
  "kernelspec": {
   "display_name": "Python 3 (ipykernel)",
   "language": "python",
   "name": "python3"
  },
  "language_info": {
   "codemirror_mode": {
    "name": "ipython",
    "version": 3
   },
   "file_extension": ".py",
   "mimetype": "text/x-python",
   "name": "python",
   "nbconvert_exporter": "python",
   "pygments_lexer": "ipython3",
   "version": "3.9.7"
  }
 },
 "nbformat": 4,
 "nbformat_minor": 5
}
