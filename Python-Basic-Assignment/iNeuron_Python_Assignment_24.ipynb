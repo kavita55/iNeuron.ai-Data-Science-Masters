{
 "cells": [
  {
   "cell_type": "markdown",
   "id": "6899a396",
   "metadata": {},
   "source": [
    "## iNeuron Python Assignment 24\n",
    "\n"
   ]
  },
  {
   "cell_type": "markdown",
   "id": "00f11c73",
   "metadata": {},
   "source": [
    "**1. What is the relationship between def statements and lambda expressions ?**\n"
   ]
  },
  {
   "cell_type": "markdown",
   "id": "f6b64c58",
   "metadata": {},
   "source": [
    "Keyword def that marks the start of the function header. A function name to uniquely identify the function. Function naming follows the same rules of writing identifiers in Python\n",
    "\n",
    "Lambdas are one-line methods without a name or we can say anonymous Func They work practically the same as any other method in Python Lambdas differ from normal Python methods because they can have only one expression, can't contain any statements and their return type is a function object"
   ]
  },
  {
   "cell_type": "markdown",
   "id": "11d11455",
   "metadata": {},
   "source": [
    "**2. What is the benefit of lambda?**\n"
   ]
  },
  {
   "cell_type": "markdown",
   "id": "c418209c",
   "metadata": {},
   "source": [
    "Fewer Lines of Code Lambda functions are inline functions and thus execute comparatively faster Many times lambda functions make code much more readable by avoiding the logical jumps caused by function calls"
   ]
  },
  {
   "cell_type": "markdown",
   "id": "bde596e5",
   "metadata": {},
   "source": [
    "**3. Compare and contrast map, filter, and reduce.**\n"
   ]
  },
  {
   "cell_type": "markdown",
   "id": "450d5ad6",
   "metadata": {},
   "source": [
    "map applies as a transformation to an element. The map() function iterates through all items in the given iterable and executes the function we passed as an argument on each of them. Syntax : map(function, iterable(s))\n",
    "\n",
    "filter accumulates only elements matching a condition. filter() forms a new list that contains only elements that satisfy a certain condition, i.e. the function we passed returns True Syntax : filter(function, iterable(s))\n",
    "\n",
    "reduce accumulates all elements to a single value, by using immutable values reduce() works by calling the function we passed for the first two items in the sequence. The result returned by the function is used in another call to function alongside with the next (third in this case), element Syntax : reduce(function, sequence[, initial])"
   ]
  },
  {
   "cell_type": "markdown",
   "id": "7ae1dd22",
   "metadata": {},
   "source": [
    "**4. What are function annotations, and how are they used?**\n"
   ]
  },
  {
   "cell_type": "markdown",
   "id": "52c7cb6c",
   "metadata": {},
   "source": [
    "Function annotation is the standard way to access the metadata with the arguments and the return value of the function. These are nothing but some random and optional Python expressions that get allied to different parts of the function. They get evaluated only during the compile-time and have no significance during the run-time of the code. They do not have any significance or meaning associated with them until accessed by some third-party libraries. They are used to type check the functions by declaring the type of the parameters and the return value for the functions. The string-based annotations help us to improve the help messages.\n",
    "\n",
    "- Syntax :\n",
    "\n",
    "    - def func(a: 'int') -> 'int':\n",
    "        - pass\n",
    "- Annotations for simple parameters:\n",
    "\n",
    "    - def func(x: 'float'=10.8, y: 'argument2'):\n",
    "        - In the above code the argument, ‘x’ of the function func, has been annotated to float data type and the argument ‘y’ has a string-based annotation. The argument can also be assigned to a default value using a ‘=’ symbol followed by the default value. These default values are optional to the code.\n",
    "- Annotations for return values:\n",
    "\n",
    "    - def func(a: expression) -> 'int':\n",
    "        - The annotations for the return value is written after the ‘->’ symbol."
   ]
  },
  {
   "cell_type": "code",
   "execution_count": 1,
   "id": "97143978",
   "metadata": {},
   "outputs": [
    {
     "name": "stdout",
     "output_type": "stream",
     "text": [
      "{'n': 'float', 'b': 'int', 'return': 'result'}\n"
     ]
    }
   ],
   "source": [
    "def fib(n:'float', b:'int')-> 'result': \n",
    "    pass\n",
    "print(fib.__annotations__)"
   ]
  },
  {
   "cell_type": "markdown",
   "id": "3545d4cb",
   "metadata": {},
   "source": [
    "**5. What are recursive functions, and how are they used?**\n"
   ]
  },
  {
   "cell_type": "markdown",
   "id": "5b221150",
   "metadata": {},
   "source": [
    "A recursive function is a function that calls itself during its execution. This means that the function will continue to call itself and repeat its behavior until some condition is met to return a result"
   ]
  },
  {
   "cell_type": "code",
   "execution_count": 2,
   "id": "139bb695",
   "metadata": {},
   "outputs": [
    {
     "data": {
      "text/plain": [
       "6"
      ]
     },
     "execution_count": 2,
     "metadata": {},
     "output_type": "execute_result"
    }
   ],
   "source": [
    "# eg\n",
    "def fact(x):\n",
    "    if x == 1 :\n",
    "        return 1\n",
    "    else :\n",
    "        return x * fact(x-1) # recurtion    \n",
    "fact(3)"
   ]
  },
  {
   "cell_type": "markdown",
   "id": "07029e76",
   "metadata": {},
   "source": [
    "**6. What are some general design guidelines for coding functions?**\n"
   ]
  },
  {
   "cell_type": "markdown",
   "id": "3305f672",
   "metadata": {},
   "source": [
    "- Use 4-space indentation and no tabs.\n",
    "- Use docstrings\n",
    "- Wrap linethat they don’t exceed 79 characters\n",
    "- Use of regular and updated comments are valuable to both the coders and users\n",
    "- Use of trailing commas : in case of tuple -> ('good',)\n",
    "- Use Python’s default UTF-8 or ASCII encodings and not any fancy encodings\n",
    "- Naming Conventions 8.Characters that should not be used for identifiers : ‘l’ (lowercase letter el), ‘O’ (uppercase letter oh), ‘I’ (uppercase letter eye) as single character variable names as these are similar to the numerals one and zero.\n",
    "- Don’t use non-ASCII characters in identifiers\n",
    "- Name your classes and functions consistently\n",
    "- While naming of function of methods always use self for the first argument"
   ]
  },
  {
   "cell_type": "markdown",
   "id": "00522064",
   "metadata": {},
   "source": [
    "**7. Name three or more ways that functions can communicate results to a caller.**"
   ]
  },
  {
   "cell_type": "markdown",
   "id": "ffbbf077",
   "metadata": {},
   "source": [
    "Function can return single value\n",
    "\n",
    "Can return multiple values, tuple\n",
    "\n",
    "can return list,dictionary\n",
    "\n",
    "can return function object\n",
    "\n",
    "can return class object"
   ]
  },
  {
   "cell_type": "code",
   "execution_count": null,
   "id": "de2dc5f5",
   "metadata": {},
   "outputs": [],
   "source": []
  }
 ],
 "metadata": {
  "kernelspec": {
   "display_name": "Python 3 (ipykernel)",
   "language": "python",
   "name": "python3"
  },
  "language_info": {
   "codemirror_mode": {
    "name": "ipython",
    "version": 3
   },
   "file_extension": ".py",
   "mimetype": "text/x-python",
   "name": "python",
   "nbconvert_exporter": "python",
   "pygments_lexer": "ipython3",
   "version": "3.9.7"
  }
 },
 "nbformat": 4,
 "nbformat_minor": 5
}
