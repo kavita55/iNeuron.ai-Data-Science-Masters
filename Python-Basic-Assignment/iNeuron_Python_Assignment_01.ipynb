{
 "cells": [
  {
   "cell_type": "markdown",
   "id": "ae652d85",
   "metadata": {},
   "source": [
    "## iNeuron_Python_Assignment_01\n",
    "\n",
    "\n",
    "**1. In the below elements which of them are values or an expression? eg:- values can be integer or string and expressions will be mathematical operators.** <br>\n",
    ">  '*'  = mathematical operator <br>\n",
    "'hello' = string <br>\n",
    "-87.8 = float<br>\n",
    "'-'  = mathematical operator<br>\n",
    "'/'  = mathematical operator<br>\n",
    "'+'\t= mathematical operator<br>\n",
    "6 = integer<br>\n",
    "\n",
    "**2. What is the difference between string and variable?**\n",
    "> ***Variables***<br>\n",
    "Variable can be defined as an identifier which stores a value in a specific memory location and can be manipulated later it if needed. Simply, you can say that, variable is used to store a information.<br>\n",
    "e.g.<br>\n",
    "\tvar = 15 <br>\n",
    "So, in the above example, we can say that var are variable that stores the value 15. In Python, there is no specific command to declare a variable. Therefore, to a variable you first assign a value to it in your program. Thus, in the above program, the variable var is created when you assign the value 15 to it, meaning that a memory address is allocated to store the value 15. Later, when you re-assign using var = 10, the value in the corresponding memory address will be changed to 10. A variable can be of several types like integer, string, float, complex etc. based on the value you assign to it.<br>\n",
    "<br>\n",
    "***Strings:***<br>\n",
    "In python, Strings are arrays of bytes representing Unicode characters. In simpler words, anything you assign to a variable using quotes (single or double) will be considered as a string. String is a type of information you would store in a Variable. A String is usually texts, enclosed with \"\"<br>\n",
    "e.g.<br>\n",
    "\tvar = 'Kavita <br>\n",
    "\n",
    "**3. Describe three different data types.**\n",
    ">Different datatypes in python are as follows:<br>\n",
    ">**1.\tPython Numbers:**<br>\n",
    "     Python numbers comprises of integer values, float values & complex numbers.<br>\n",
    "     e.g. a = 8 (type(a) = int)<br>\n",
    "         b = 7.8  (type(b) = float)<br>\n",
    "         c = 1+4j (type(c) = complex)<br>\n",
    "         <br>\n",
    ">**2.\tPython Strings:**<br>\n",
    "         Strings are arrays of bytes representing Unicode characters enclosed in single/double/triple quotes. Strings are immutable type.<br>\n",
    "         e.g. x = ‘Kavita’<br>\n",
    "\t      y = “Mali”<br>\n",
    "          <br>\n",
    ">**3.\tPython Boolean:**<br>\n",
    "         There can be only two types of values in Boolean datatype of python, True & False respectively. True can be considered as 1 & False can be considered as 0.<br>\n",
    "\t\n"
   ]
  },
  {
   "cell_type": "code",
   "execution_count": 1,
   "id": "ef0ac1c4",
   "metadata": {},
   "outputs": [
    {
     "name": "stdout",
     "output_type": "stream",
     "text": [
      "<class 'bool'>\n",
      "<class 'bool'>\n"
     ]
    }
   ],
   "source": [
    "print( type(True))\n",
    "print( type(False))"
   ]
  },
  {
   "cell_type": "markdown",
   "id": "f07c10c6",
   "metadata": {},
   "source": [
    "**4. What is an expression made up of? What do all expressions do?**\n",
    "> An expression comprises values, variables, operators, and calls to functions that evaluates to a single value. If you ask Python to print an expression, the interpreter evaluates the expression and displays the result."
   ]
  },
  {
   "cell_type": "markdown",
   "id": "3dee048e",
   "metadata": {},
   "source": [
    "**5. This assignment statements, like spam = 10. What is the difference between an expression and a statement?**\n",
    "> ***A statement*** is an instruction that the Python interpreter can execute. <br>\n",
    "\n",
    ">***An expression*** is a combination of values, variables, operators, and calls to functions. Expressions need to be evaluated.<br>\n",
    "<br>\n",
    "An Expression always evaluates to a value whereas a statement does something, like creating a variable or displaying a value, it only does whatever the statement says.<br>\n",
    "Example: spam = 10 is a statement it is allocating the value 10 ti varible spam\n",
    "\n"
   ]
  },
  {
   "cell_type": "markdown",
   "id": "ac57624f",
   "metadata": {},
   "source": [
    "**6. After running the following code, what does the variable bacon contain?**\n",
    "\n"
   ]
  },
  {
   "cell_type": "code",
   "execution_count": 2,
   "id": "07689dab",
   "metadata": {},
   "outputs": [
    {
     "data": {
      "text/plain": [
       "23"
      ]
     },
     "execution_count": 2,
     "metadata": {},
     "output_type": "execute_result"
    }
   ],
   "source": [
    "bacon = 22 \n",
    "bacon + 1"
   ]
  },
  {
   "cell_type": "markdown",
   "id": "c6d4af8e",
   "metadata": {},
   "source": [
    "In the above code the value was increased to 23 as we added 1 to the pre-existing bacon value but the original value of bacon will still be 22."
   ]
  },
  {
   "cell_type": "markdown",
   "id": "61962990",
   "metadata": {},
   "source": [
    "**7. What should the values of the following two terms be?**<br>\n",
    "'spam' + 'spamspam'<br>\n",
    "'spam' * 3 <br>\n",
    "<br>\n",
    "**Result**"
   ]
  },
  {
   "cell_type": "code",
   "execution_count": 3,
   "id": "681ac7fc",
   "metadata": {},
   "outputs": [
    {
     "data": {
      "text/plain": [
       "'spamspamspam'"
      ]
     },
     "execution_count": 3,
     "metadata": {},
     "output_type": "execute_result"
    }
   ],
   "source": [
    "'spam' + 'spamspam'"
   ]
  },
  {
   "cell_type": "code",
   "execution_count": 4,
   "id": "856ec6b8",
   "metadata": {},
   "outputs": [
    {
     "data": {
      "text/plain": [
       "'spamspamspam'"
      ]
     },
     "execution_count": 4,
     "metadata": {},
     "output_type": "execute_result"
    }
   ],
   "source": [
    "'spam' * 3"
   ]
  },
  {
   "cell_type": "markdown",
   "id": "95eb8699",
   "metadata": {},
   "source": [
    "**8. Why is eggs a valid variable name while 100 is invalid?**"
   ]
  },
  {
   "cell_type": "markdown",
   "id": "f77e8981",
   "metadata": {},
   "source": [
    "In python, there are cerrtain variable rules that are needed to be followed. A variable can have a short name (like a and b) or a more descriptive name (age, car, dateOfBirth). A variable name must start with a letter or the underscore character.A variable name cannot start with a number.A variable name can only contain alpha-numeric characters and underscores (A-z, 0-9, and _) Variable names are case-sensitive - age, Age and AGE are three different variables.\n",
    "\n",
    "Therefore, eggs being written in form of letters or characters is valid while 100 being an interger is not valid."
   ]
  },
  {
   "cell_type": "markdown",
   "id": "b968eedf",
   "metadata": {},
   "source": [
    "**9. What three functions can be used to get the integer, floating-point number, or string version of a value?**<br>\n",
    "> Three functions which can be used to get the interger, floating point number and string version of a value are int(), float(), str() respectively.<br>\n",
    "\n",
    "e.g.,"
   ]
  },
  {
   "cell_type": "code",
   "execution_count": 5,
   "id": "2f6b506e",
   "metadata": {},
   "outputs": [
    {
     "name": "stdout",
     "output_type": "stream",
     "text": [
      "<class 'int'>\n",
      "<class 'float'>\n",
      "<class 'str'>\n"
     ]
    }
   ],
   "source": [
    "a = 15\n",
    "print(type(int(a)))  #integer version\n",
    "\n",
    "print(type(float(a)))  #float version\n",
    "\n",
    "print(type(str(a)))    #String version"
   ]
  },
  {
   "cell_type": "markdown",
   "id": "f2777bbb",
   "metadata": {},
   "source": [
    "**10. Why does this expression cause an error? How can you fix it?**<br>\n",
    "'I have eaten ' + 99 + ' burritos.'\n",
    "\n",
    "**Ans:** Because we can only concatenate string to string. we can typecast like below to convert int to string."
   ]
  },
  {
   "cell_type": "code",
   "execution_count": 6,
   "id": "d72e8875",
   "metadata": {},
   "outputs": [
    {
     "data": {
      "text/plain": [
       "'I have eaten 99 burritos.'"
      ]
     },
     "execution_count": 6,
     "metadata": {},
     "output_type": "execute_result"
    }
   ],
   "source": [
    "'I have eaten ' + '99' + ' burritos.'"
   ]
  }
 ],
 "metadata": {
  "kernelspec": {
   "display_name": "Python 3 (ipykernel)",
   "language": "python",
   "name": "python3"
  },
  "language_info": {
   "codemirror_mode": {
    "name": "ipython",
    "version": 3
   },
   "file_extension": ".py",
   "mimetype": "text/x-python",
   "name": "python",
   "nbconvert_exporter": "python",
   "pygments_lexer": "ipython3",
   "version": "3.9.7"
  }
 },
 "nbformat": 4,
 "nbformat_minor": 5
}
